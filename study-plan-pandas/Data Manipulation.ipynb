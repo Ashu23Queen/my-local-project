{
 "cells": [
  {
   "cell_type": "markdown",
   "id": "4a530ab4-2476-410b-8ede-70d0b73e17ec",
   "metadata": {},
   "source": [
    "#### Data Manipulation"
   ]
  },
  {
   "cell_type": "code",
   "execution_count": 50,
   "id": "cad67ed3-4d91-4b73-a866-fbe844209c82",
   "metadata": {},
   "outputs": [],
   "source": [
    "import pandas as pd\n",
    "import numpy as np"
   ]
  },
  {
   "cell_type": "markdown",
   "id": "3c1c7d82-3d15-4bcc-909d-2ea1c11b529f",
   "metadata": {},
   "source": [
    "###### 1. Fundamentals: Series and DataFrame"
   ]
  },
  {
   "cell_type": "code",
   "execution_count": 5,
   "id": "7c726cc6-dd39-4839-b7bc-7f3d0238dd0e",
   "metadata": {},
   "outputs": [
    {
     "name": "stdout",
     "output_type": "stream",
     "text": [
      "Series:\n",
      " 0    1.0\n",
      "1    3.0\n",
      "2    5.0\n",
      "3    NaN\n",
      "4    6.0\n",
      "5    8.0\n",
      "dtype: float64\n"
     ]
    }
   ],
   "source": [
    "# Creating a Series\n",
    "s = pd.Series([1, 3, 5, np.nan, 6, 8])\n",
    "print(\"Series:\\n\", s)"
   ]
  },
  {
   "cell_type": "code",
   "execution_count": 9,
   "id": "1c9987cd-1b40-4120-98a6-31a0103e2c16",
   "metadata": {},
   "outputs": [
    {
     "name": "stdout",
     "output_type": "stream",
     "text": [
      "\n",
      "DataFrame:\n",
      "    column1 column2  column3\n",
      "0        1       A     True\n",
      "1        2       B    False\n",
      "2        3       C     True\n",
      "3        4       D    False\n"
     ]
    }
   ],
   "source": [
    "# Creating a DataFrame\n",
    "data = {'column1': [1, 2, 3, 4],\n",
    "        'column2': ['A', 'B', 'C', 'D'],\n",
    "        'column3': [True, False, True, False]}\n",
    "df = pd.DataFrame(data)\n",
    "print(\"\\nDataFrame:\\n\", df)"
   ]
  },
  {
   "cell_type": "markdown",
   "id": "0174c628-4e00-491b-84f3-36b3bc6a5317",
   "metadata": {},
   "source": [
    "###### 2. Basic Data Selection and Indexing"
   ]
  },
  {
   "cell_type": "code",
   "execution_count": 19,
   "id": "81467f4c-665d-481c-b7f7-d4b5c492172f",
   "metadata": {},
   "outputs": [
    {
     "name": "stdout",
     "output_type": "stream",
     "text": [
      "\n",
      "Select 'column1': \n",
      " 0    1\n",
      "1    2\n",
      "2    3\n",
      "3    4\n",
      "Name: column1, dtype: int64\n"
     ]
    }
   ],
   "source": [
    "# Select a single column\n",
    "print(\"\\nSelect 'column1': \\n\", df['column1'])"
   ]
  },
  {
   "cell_type": "code",
   "execution_count": null,
   "id": "f62b40c7-45f8-4079-a3b3-cab96600953a",
   "metadata": {},
   "outputs": [],
   "source": [
    "# Select multiple columns\n",
    "print(\"\\nSelect 'column2': \\n\", df['column1'])"
   ]
  },
  {
   "cell_type": "code",
   "execution_count": null,
   "id": "2662b408-4eba-43fb-9479-b58c3bb526fa",
   "metadata": {},
   "outputs": [],
   "source": []
  },
  {
   "cell_type": "markdown",
   "id": "b31d484c-cea3-4324-ac3d-95256d27eab4",
   "metadata": {},
   "source": [
    "*******************************************"
   ]
  },
  {
   "cell_type": "code",
   "execution_count": null,
   "id": "c373cad1-d91a-4c71-abe9-c474484a1c3e",
   "metadata": {},
   "outputs": [],
   "source": [
    " "
   ]
  },
  {
   "cell_type": "code",
   "execution_count": 12,
   "id": "f66d536e-581a-40dd-902f-abc951106035",
   "metadata": {},
   "outputs": [
    {
     "name": "stdout",
     "output_type": "stream",
     "text": [
      "Original DataFrame:\n",
      "      Name  Age         City  Salary Department  Experience  Rating\n",
      "0    Alice   24     New York   70000         HR           2     4.5\n",
      "1      Bob   27  Los Angeles   85000         IT           5     3.8\n",
      "2  Charlie   22      Chicago   60000    Finance           1     NaN\n",
      "3    David   32      Houston  120000         IT          10     4.9\n",
      "4      Eve   29        Miami   95000         HR           6     4.2\n",
      "5    Frank   25     New York   72000    Finance           3     3.5\n",
      "6    Alice   24      Chicago   62000         HR           2     4.0\n",
      "\n",
      "==================================================\n",
      "\n"
     ]
    }
   ],
   "source": [
    "# Create a sample DataFrame\n",
    "data = {\n",
    "    'Name': ['Alice', 'Bob', 'Charlie', 'David', 'Eve', 'Frank', 'Alice'],\n",
    "    'Age': [24, 27, 22, 32, 29, 25, 24],\n",
    "    'City': ['New York', 'Los Angeles', 'Chicago', 'Houston', 'Miami', 'New York', 'Chicago'],\n",
    "    'Salary': [70000, 85000, 60000, 120000, 95000, 72000, 62000],\n",
    "    'Department': ['HR', 'IT', 'Finance', 'IT', 'HR', 'Finance', 'HR'],\n",
    "    'Experience': [2, 5, 1, 10, 6, 3, 2],\n",
    "    'Rating': [4.5, 3.8, np.nan, 4.9, 4.2, 3.5, 4.0] # np.nan for missing values\n",
    "}\n",
    "df = pd.DataFrame(data)\n",
    "print(\"Original DataFrame:\")\n",
    "print(df)\n",
    "print(\"\\n\" + \"=\"*50 + \"\\n\")"
   ]
  },
  {
   "cell_type": "code",
   "execution_count": 14,
   "id": "7c9ca435-27e8-4cec-b9e5-1abd1d96fb86",
   "metadata": {
    "collapsed": true,
    "jupyter": {
     "outputs_hidden": true
    },
    "scrolled": true
   },
   "outputs": [
    {
     "data": {
      "text/html": [
       "<div>\n",
       "<style scoped>\n",
       "    .dataframe tbody tr th:only-of-type {\n",
       "        vertical-align: middle;\n",
       "    }\n",
       "\n",
       "    .dataframe tbody tr th {\n",
       "        vertical-align: top;\n",
       "    }\n",
       "\n",
       "    .dataframe thead th {\n",
       "        text-align: right;\n",
       "    }\n",
       "</style>\n",
       "<table border=\"1\" class=\"dataframe\">\n",
       "  <thead>\n",
       "    <tr style=\"text-align: right;\">\n",
       "      <th></th>\n",
       "      <th>Name</th>\n",
       "      <th>Age</th>\n",
       "      <th>City</th>\n",
       "      <th>Salary</th>\n",
       "      <th>Department</th>\n",
       "      <th>Experience</th>\n",
       "      <th>Rating</th>\n",
       "    </tr>\n",
       "  </thead>\n",
       "  <tbody>\n",
       "    <tr>\n",
       "      <th>0</th>\n",
       "      <td>Alice</td>\n",
       "      <td>24</td>\n",
       "      <td>New York</td>\n",
       "      <td>70000</td>\n",
       "      <td>HR</td>\n",
       "      <td>2</td>\n",
       "      <td>4.5</td>\n",
       "    </tr>\n",
       "    <tr>\n",
       "      <th>1</th>\n",
       "      <td>Bob</td>\n",
       "      <td>27</td>\n",
       "      <td>Los Angeles</td>\n",
       "      <td>85000</td>\n",
       "      <td>IT</td>\n",
       "      <td>5</td>\n",
       "      <td>3.8</td>\n",
       "    </tr>\n",
       "    <tr>\n",
       "      <th>2</th>\n",
       "      <td>Charlie</td>\n",
       "      <td>22</td>\n",
       "      <td>Chicago</td>\n",
       "      <td>60000</td>\n",
       "      <td>Finance</td>\n",
       "      <td>1</td>\n",
       "      <td>NaN</td>\n",
       "    </tr>\n",
       "    <tr>\n",
       "      <th>3</th>\n",
       "      <td>David</td>\n",
       "      <td>32</td>\n",
       "      <td>Houston</td>\n",
       "      <td>120000</td>\n",
       "      <td>IT</td>\n",
       "      <td>10</td>\n",
       "      <td>4.9</td>\n",
       "    </tr>\n",
       "    <tr>\n",
       "      <th>4</th>\n",
       "      <td>Eve</td>\n",
       "      <td>29</td>\n",
       "      <td>Miami</td>\n",
       "      <td>95000</td>\n",
       "      <td>HR</td>\n",
       "      <td>6</td>\n",
       "      <td>4.2</td>\n",
       "    </tr>\n",
       "    <tr>\n",
       "      <th>5</th>\n",
       "      <td>Frank</td>\n",
       "      <td>25</td>\n",
       "      <td>New York</td>\n",
       "      <td>72000</td>\n",
       "      <td>Finance</td>\n",
       "      <td>3</td>\n",
       "      <td>3.5</td>\n",
       "    </tr>\n",
       "    <tr>\n",
       "      <th>6</th>\n",
       "      <td>Alice</td>\n",
       "      <td>24</td>\n",
       "      <td>Chicago</td>\n",
       "      <td>62000</td>\n",
       "      <td>HR</td>\n",
       "      <td>2</td>\n",
       "      <td>4.0</td>\n",
       "    </tr>\n",
       "  </tbody>\n",
       "</table>\n",
       "</div>"
      ],
      "text/plain": [
       "      Name  Age         City  Salary Department  Experience  Rating\n",
       "0    Alice   24     New York   70000         HR           2     4.5\n",
       "1      Bob   27  Los Angeles   85000         IT           5     3.8\n",
       "2  Charlie   22      Chicago   60000    Finance           1     NaN\n",
       "3    David   32      Houston  120000         IT          10     4.9\n",
       "4      Eve   29        Miami   95000         HR           6     4.2\n",
       "5    Frank   25     New York   72000    Finance           3     3.5\n",
       "6    Alice   24      Chicago   62000         HR           2     4.0"
      ]
     },
     "execution_count": 14,
     "metadata": {},
     "output_type": "execute_result"
    }
   ],
   "source": [
    "df"
   ]
  },
  {
   "cell_type": "markdown",
   "id": "64c4766a-17d5-480c-90ae-6c8b9ec3856d",
   "metadata": {},
   "source": [
    "##### 1. Conditional Selection (Filtering Rows): This is one of the most common and powerful techniques."
   ]
  },
  {
   "cell_type": "code",
   "execution_count": 25,
   "id": "81a7baad-d6e9-43e1-87a4-0bbb6b4e347f",
   "metadata": {
    "collapsed": true,
    "jupyter": {
     "outputs_hidden": true,
     "source_hidden": true
    },
    "scrolled": true
   },
   "outputs": [
    {
     "name": "stdout",
     "output_type": "stream",
     "text": [
      "Employees older than 25:\n",
      "    Name  Age         City  Salary Department  Experience  Rating\n",
      "1    Bob   27  Los Angeles   85000         IT           5     3.8\n",
      "3  David   32      Houston  120000         IT          10     4.9\n",
      "4    Eve   29        Miami   95000         HR           6     4.2\n",
      "\n",
      "------------------------------\n",
      "\n"
     ]
    }
   ],
   "source": [
    "# Filter rows where Age is greater than 25\n",
    "print(\"Employees older than 25:\")\n",
    "print(df[df['Age'] > 25])\n",
    "print(\"\\n\" + \"-\"*30 + \"\\n\")"
   ]
  },
  {
   "cell_type": "code",
   "execution_count": 18,
   "id": "570342e7-7567-4ea1-958c-35d43db7dbd7",
   "metadata": {
    "collapsed": true,
    "jupyter": {
     "outputs_hidden": true,
     "source_hidden": true
    }
   },
   "outputs": [
    {
     "name": "stdout",
     "output_type": "stream",
     "text": [
      "Employees from New York with Salary > 70000:\n",
      "    Name  Age      City  Salary Department  Experience  Rating\n",
      "5  Frank   25  New York   72000    Finance           3     3.5\n",
      "\n",
      "------------------------------\n",
      "\n"
     ]
    }
   ],
   "source": [
    "# Filter rows with multiple conditions (using & for AND, | for OR)\n",
    "print(\"Employees from New York with Salary > 70000:\")\n",
    "print(df[(df['City'] == 'New York') & (df['Salary'] > 70000)])\n",
    "print(\"\\n\" + \"-\"*30 + \"\\n\")"
   ]
  },
  {
   "cell_type": "code",
   "execution_count": 22,
   "id": "507643e8-2190-460d-afa3-fe98cc2470cf",
   "metadata": {
    "collapsed": true,
    "jupyter": {
     "outputs_hidden": true
    }
   },
   "outputs": [
    {
     "name": "stdout",
     "output_type": "stream",
     "text": [
      "Employees from New York or Los Angeles:\n",
      "    Name  Age         City  Salary Department  Experience  Rating\n",
      "0  Alice   24     New York   70000         HR           2     4.5\n",
      "1    Bob   27  Los Angeles   85000         IT           5     3.8\n",
      "5  Frank   25     New York   72000    Finance           3     3.5\n",
      "\n",
      "==================================================\n",
      "\n"
     ]
    }
   ],
   "source": [
    "# Using .isin() for multiple values in a column\n",
    "print(\"Employees from New York or Los Angeles:\")\n",
    "print(df[df['City'].isin(['New York', 'Los Angeles'])])\n",
    "print(\"\\n\" + \"=\"*50 + \"\\n\")"
   ]
  },
  {
   "cell_type": "markdown",
   "id": "762a9bf0-6063-410c-ba8a-69700675a312",
   "metadata": {},
   "source": [
    "##### 2. Grouping and Aggregating Data\n"
   ]
  },
  {
   "cell_type": "code",
   "execution_count": 36,
   "id": "aa05e74e-2f4a-4b5c-87f7-4be7f673eca4",
   "metadata": {},
   "outputs": [
    {
     "name": "stdout",
     "output_type": "stream",
     "text": [
      "Average Salary by Department:\n",
      "Department\n",
      "Finance     66000.000000\n",
      "HR          75666.666667\n",
      "IT         102500.000000\n",
      "Name: Salary, dtype: float64\n",
      "\n",
      "------------------------------\n",
      "\n"
     ]
    }
   ],
   "source": [
    "# Group by 'Department' and calculate the mean 'Salary'\n",
    "print(\"Average Salary by Department:\")\n",
    "print(df.groupby('Department')['Salary'].mean())\n",
    "print(\"\\n\" + \"-\"*30 + \"\\n\")"
   ]
  },
  {
   "cell_type": "code",
   "execution_count": 46,
   "id": "9493d860-36dc-483c-b519-aa580ea55684",
   "metadata": {},
   "outputs": [
    {
     "name": "stdout",
     "output_type": "stream",
     "text": [
      "Aggregations by Department and City:\n",
      "                        Avg_Salary  Min_Age  Max_Experience  Count\n",
      "Department City                                                   \n",
      "Finance    Chicago         60000.0       22               1      1\n",
      "           New York        72000.0       25               3      1\n",
      "HR         Chicago         62000.0       24               2      1\n",
      "           Miami           95000.0       29               6      1\n",
      "           New York        70000.0       24               2      1\n",
      "IT         Houston        120000.0       32              10      1\n",
      "           Los Angeles     85000.0       27               5      1\n",
      "\n",
      "------------------------------\n",
      "\n"
     ]
    }
   ],
   "source": [
    "# Group by multiple columns and get multiple aggregations\n",
    "print(\"Aggregations by Department and City:\")\n",
    "print(df.groupby(['Department', 'City']).agg(Avg_Salary=('Salary', 'mean'), Min_Age=('Age', 'min'), Max_Experience=('Experience', 'max'), Count=('Name', 'count')\n",
    "))\n",
    "print(\"\\n\" + \"-\"*30 + \"\\n\")"
   ]
  },
  {
   "cell_type": "code",
   "execution_count": 48,
   "id": "5e7c2c14-4985-42f3-b37b-0fbec25c6ffa",
   "metadata": {},
   "outputs": [
    {
     "name": "stdout",
     "output_type": "stream",
     "text": [
      "Salary statistics by Department:\n",
      "                     mean    median    min     max           std\n",
      "Department                                                      \n",
      "Finance      66000.000000   66000.0  60000   72000   8485.281374\n",
      "HR           75666.666667   70000.0  62000   95000  17214.335112\n",
      "IT          102500.000000  102500.0  85000  120000  24748.737342\n",
      "\n",
      "==================================================\n",
      "\n"
     ]
    }
   ],
   "source": [
    "# Apply multiple aggregation functions to a single column\n",
    "print(\"Salary statistics by Department:\")\n",
    "print(df.groupby('Department')['Salary'].agg(['mean', 'median', 'min', 'max', 'std']))\n",
    "print(\"\\n\" + \"=\"*50 + \"\\n\")"
   ]
  },
  {
   "cell_type": "markdown",
   "id": "a5bedd9f-a41a-404e-b25e-6040d5048406",
   "metadata": {},
   "source": [
    "##### Merging/Joining (SQL-like Joins)"
   ]
  },
  {
   "cell_type": "code",
   "execution_count": 53,
   "id": "644544fb-3603-4a81-b428-5ee432aff57e",
   "metadata": {},
   "outputs": [
    {
     "name": "stdout",
     "output_type": "stream",
     "text": [
      "Original DataFrame:\n",
      "      Name Department  Salary\n",
      "0    Alice         HR   70000\n",
      "1      Bob         IT   85000\n",
      "2  Charlie    Finance   60000\n",
      "3    David         IT  120000\n",
      "4      Eve         HR   95000\n",
      "5    Frank    Finance   72000\n",
      "6    Alice         HR   62000\n",
      "\n",
      "Department Info DataFrame:\n",
      "  Department         Head  Budget\n",
      "0         HR     John Doe  500000\n",
      "1         IT   Jane Smith  800000\n",
      "2    Finance  Peter Jones  600000\n",
      "\n",
      "------------------------------\n",
      "\n"
     ]
    }
   ],
   "source": [
    "# Create another DataFrame \n",
    "dep_info = pd.DataFrame({\n",
    "    'Department': ['HR', 'IT', 'Finance'],\n",
    "    'Head': ['John Doe', 'Jane Smith', 'Peter Jones'],\n",
    "    'Budget': [500000, 800000, 600000]\n",
    "})\n",
    "print(\"Original DataFrame:\")\n",
    "print(df[['Name', 'Department', 'Salary']])\n",
    "print(\"\\nDepartment Info DataFrame:\")\n",
    "print(dep_info)\n",
    "print(\"\\n\" + \"-\"*30 + \"\\n\")"
   ]
  },
  {
   "cell_type": "code",
   "execution_count": 57,
   "id": "2bb3e445-a891-4c69-a0d5-0d2d1cc10344",
   "metadata": {},
   "outputs": [
    {
     "name": "stdout",
     "output_type": "stream",
     "text": [
      "Inner Merged DataFrame:\n",
      "      Name  Age         City  Salary Department  Experience  Rating  \\\n",
      "0    Alice   24     New York   70000         HR           2     4.5   \n",
      "1      Bob   27  Los Angeles   85000         IT           5     3.8   \n",
      "2  Charlie   22      Chicago   60000    Finance           1     NaN   \n",
      "3    David   32      Houston  120000         IT          10     4.9   \n",
      "4      Eve   29        Miami   95000         HR           6     4.2   \n",
      "5    Frank   25     New York   72000    Finance           3     3.5   \n",
      "6    Alice   24      Chicago   62000         HR           2     4.0   \n",
      "\n",
      "          Head  Budget  \n",
      "0     John Doe  500000  \n",
      "1   Jane Smith  800000  \n",
      "2  Peter Jones  600000  \n",
      "3   Jane Smith  800000  \n",
      "4     John Doe  500000  \n",
      "5  Peter Jones  600000  \n",
      "6     John Doe  500000  \n",
      "\n",
      "------------------------------\n",
      "\n"
     ]
    }
   ],
   "source": [
    "# Inner Merge (default): Only rows with matching 'Department' in both DFs\n",
    "merged_df_inner = pd.merge(df, dep_info, on='Department', how='inner')\n",
    "print(\"Inner Merged DataFrame:\")\n",
    "print(merged_df_inner)\n",
    "print(\"\\n\" + \"-\"*30 + \"\\n\")\n"
   ]
  },
  {
   "cell_type": "code",
   "execution_count": 59,
   "id": "51dea1ea-af2a-446a-8537-0c2698746456",
   "metadata": {},
   "outputs": [
    {
     "data": {
      "text/html": [
       "<div>\n",
       "<style scoped>\n",
       "    .dataframe tbody tr th:only-of-type {\n",
       "        vertical-align: middle;\n",
       "    }\n",
       "\n",
       "    .dataframe tbody tr th {\n",
       "        vertical-align: top;\n",
       "    }\n",
       "\n",
       "    .dataframe thead th {\n",
       "        text-align: right;\n",
       "    }\n",
       "</style>\n",
       "<table border=\"1\" class=\"dataframe\">\n",
       "  <thead>\n",
       "    <tr style=\"text-align: right;\">\n",
       "      <th></th>\n",
       "      <th>Name</th>\n",
       "      <th>Age</th>\n",
       "      <th>City</th>\n",
       "      <th>Salary</th>\n",
       "      <th>Department</th>\n",
       "      <th>Experience</th>\n",
       "      <th>Rating</th>\n",
       "      <th>Head</th>\n",
       "      <th>Budget</th>\n",
       "    </tr>\n",
       "  </thead>\n",
       "  <tbody>\n",
       "    <tr>\n",
       "      <th>0</th>\n",
       "      <td>Alice</td>\n",
       "      <td>24</td>\n",
       "      <td>New York</td>\n",
       "      <td>70000</td>\n",
       "      <td>HR</td>\n",
       "      <td>2</td>\n",
       "      <td>4.5</td>\n",
       "      <td>John Doe</td>\n",
       "      <td>500000</td>\n",
       "    </tr>\n",
       "    <tr>\n",
       "      <th>1</th>\n",
       "      <td>Bob</td>\n",
       "      <td>27</td>\n",
       "      <td>Los Angeles</td>\n",
       "      <td>85000</td>\n",
       "      <td>IT</td>\n",
       "      <td>5</td>\n",
       "      <td>3.8</td>\n",
       "      <td>Jane Smith</td>\n",
       "      <td>800000</td>\n",
       "    </tr>\n",
       "    <tr>\n",
       "      <th>2</th>\n",
       "      <td>Charlie</td>\n",
       "      <td>22</td>\n",
       "      <td>Chicago</td>\n",
       "      <td>60000</td>\n",
       "      <td>Finance</td>\n",
       "      <td>1</td>\n",
       "      <td>NaN</td>\n",
       "      <td>Peter Jones</td>\n",
       "      <td>600000</td>\n",
       "    </tr>\n",
       "    <tr>\n",
       "      <th>3</th>\n",
       "      <td>David</td>\n",
       "      <td>32</td>\n",
       "      <td>Houston</td>\n",
       "      <td>120000</td>\n",
       "      <td>IT</td>\n",
       "      <td>10</td>\n",
       "      <td>4.9</td>\n",
       "      <td>Jane Smith</td>\n",
       "      <td>800000</td>\n",
       "    </tr>\n",
       "    <tr>\n",
       "      <th>4</th>\n",
       "      <td>Eve</td>\n",
       "      <td>29</td>\n",
       "      <td>Miami</td>\n",
       "      <td>95000</td>\n",
       "      <td>HR</td>\n",
       "      <td>6</td>\n",
       "      <td>4.2</td>\n",
       "      <td>John Doe</td>\n",
       "      <td>500000</td>\n",
       "    </tr>\n",
       "    <tr>\n",
       "      <th>5</th>\n",
       "      <td>Frank</td>\n",
       "      <td>25</td>\n",
       "      <td>New York</td>\n",
       "      <td>72000</td>\n",
       "      <td>Finance</td>\n",
       "      <td>3</td>\n",
       "      <td>3.5</td>\n",
       "      <td>Peter Jones</td>\n",
       "      <td>600000</td>\n",
       "    </tr>\n",
       "    <tr>\n",
       "      <th>6</th>\n",
       "      <td>Alice</td>\n",
       "      <td>24</td>\n",
       "      <td>Chicago</td>\n",
       "      <td>62000</td>\n",
       "      <td>HR</td>\n",
       "      <td>2</td>\n",
       "      <td>4.0</td>\n",
       "      <td>John Doe</td>\n",
       "      <td>500000</td>\n",
       "    </tr>\n",
       "  </tbody>\n",
       "</table>\n",
       "</div>"
      ],
      "text/plain": [
       "      Name  Age         City  Salary Department  Experience  Rating  \\\n",
       "0    Alice   24     New York   70000         HR           2     4.5   \n",
       "1      Bob   27  Los Angeles   85000         IT           5     3.8   \n",
       "2  Charlie   22      Chicago   60000    Finance           1     NaN   \n",
       "3    David   32      Houston  120000         IT          10     4.9   \n",
       "4      Eve   29        Miami   95000         HR           6     4.2   \n",
       "5    Frank   25     New York   72000    Finance           3     3.5   \n",
       "6    Alice   24      Chicago   62000         HR           2     4.0   \n",
       "\n",
       "          Head  Budget  \n",
       "0     John Doe  500000  \n",
       "1   Jane Smith  800000  \n",
       "2  Peter Jones  600000  \n",
       "3   Jane Smith  800000  \n",
       "4     John Doe  500000  \n",
       "5  Peter Jones  600000  \n",
       "6     John Doe  500000  "
      ]
     },
     "execution_count": 59,
     "metadata": {},
     "output_type": "execute_result"
    }
   ],
   "source": [
    "merged_df_inner"
   ]
  },
  {
   "cell_type": "code",
   "execution_count": 67,
   "id": "cbd85e36-d91b-4703-b8e7-213d3016c220",
   "metadata": {},
   "outputs": [
    {
     "name": "stdout",
     "output_type": "stream",
     "text": [
      "Left Merged DataFrame:\n",
      "      Name  Age         City  Salary Department  Experience  Rating  \\\n",
      "0    Alice   24     New York   70000         HR           2     4.5   \n",
      "1      Bob   27  Los Angeles   85000         IT           5     3.8   \n",
      "2  Charlie   22      Chicago   60000    Finance           1     NaN   \n",
      "3    David   32      Houston  120000         IT          10     4.9   \n",
      "4      Eve   29        Miami   95000         HR           6     4.2   \n",
      "5    Frank   25     New York   72000    Finance           3     3.5   \n",
      "6    Alice   24      Chicago   62000         HR           2     4.0   \n",
      "\n",
      "          Head  Budget  \n",
      "0     John Doe  500000  \n",
      "1   Jane Smith  800000  \n",
      "2  Peter Jones  600000  \n",
      "3   Jane Smith  800000  \n",
      "4     John Doe  500000  \n",
      "5  Peter Jones  600000  \n",
      "6     John Doe  500000  \n",
      "\n",
      "------------------------------\n",
      "\n"
     ]
    }
   ],
   "source": [
    "# Left Merge: Keep all rows from the left DataFrame (df), fill NaNs for non-matches\n",
    "merged_df_left = pd.merge(df, dep_info, on='Department', how='left')\n",
    "print(\"Left Merged DataFrame:\")\n",
    "print(merged_df_left)\n",
    "print(\"\\n\" + \"-\"*30 + \"\\n\")"
   ]
  },
  {
   "cell_type": "code",
   "execution_count": 69,
   "id": "6a2711fb-23ab-4f21-9b45-1c4ddbe693e1",
   "metadata": {},
   "outputs": [
    {
     "data": {
      "text/html": [
       "<div>\n",
       "<style scoped>\n",
       "    .dataframe tbody tr th:only-of-type {\n",
       "        vertical-align: middle;\n",
       "    }\n",
       "\n",
       "    .dataframe tbody tr th {\n",
       "        vertical-align: top;\n",
       "    }\n",
       "\n",
       "    .dataframe thead th {\n",
       "        text-align: right;\n",
       "    }\n",
       "</style>\n",
       "<table border=\"1\" class=\"dataframe\">\n",
       "  <thead>\n",
       "    <tr style=\"text-align: right;\">\n",
       "      <th></th>\n",
       "      <th>Name</th>\n",
       "      <th>Age</th>\n",
       "      <th>City</th>\n",
       "      <th>Salary</th>\n",
       "      <th>Department</th>\n",
       "      <th>Experience</th>\n",
       "      <th>Rating</th>\n",
       "      <th>Head</th>\n",
       "      <th>Budget</th>\n",
       "    </tr>\n",
       "  </thead>\n",
       "  <tbody>\n",
       "    <tr>\n",
       "      <th>0</th>\n",
       "      <td>Alice</td>\n",
       "      <td>24</td>\n",
       "      <td>New York</td>\n",
       "      <td>70000</td>\n",
       "      <td>HR</td>\n",
       "      <td>2</td>\n",
       "      <td>4.5</td>\n",
       "      <td>John Doe</td>\n",
       "      <td>500000</td>\n",
       "    </tr>\n",
       "    <tr>\n",
       "      <th>1</th>\n",
       "      <td>Bob</td>\n",
       "      <td>27</td>\n",
       "      <td>Los Angeles</td>\n",
       "      <td>85000</td>\n",
       "      <td>IT</td>\n",
       "      <td>5</td>\n",
       "      <td>3.8</td>\n",
       "      <td>Jane Smith</td>\n",
       "      <td>800000</td>\n",
       "    </tr>\n",
       "    <tr>\n",
       "      <th>2</th>\n",
       "      <td>Charlie</td>\n",
       "      <td>22</td>\n",
       "      <td>Chicago</td>\n",
       "      <td>60000</td>\n",
       "      <td>Finance</td>\n",
       "      <td>1</td>\n",
       "      <td>NaN</td>\n",
       "      <td>Peter Jones</td>\n",
       "      <td>600000</td>\n",
       "    </tr>\n",
       "    <tr>\n",
       "      <th>3</th>\n",
       "      <td>David</td>\n",
       "      <td>32</td>\n",
       "      <td>Houston</td>\n",
       "      <td>120000</td>\n",
       "      <td>IT</td>\n",
       "      <td>10</td>\n",
       "      <td>4.9</td>\n",
       "      <td>Jane Smith</td>\n",
       "      <td>800000</td>\n",
       "    </tr>\n",
       "    <tr>\n",
       "      <th>4</th>\n",
       "      <td>Eve</td>\n",
       "      <td>29</td>\n",
       "      <td>Miami</td>\n",
       "      <td>95000</td>\n",
       "      <td>HR</td>\n",
       "      <td>6</td>\n",
       "      <td>4.2</td>\n",
       "      <td>John Doe</td>\n",
       "      <td>500000</td>\n",
       "    </tr>\n",
       "    <tr>\n",
       "      <th>5</th>\n",
       "      <td>Frank</td>\n",
       "      <td>25</td>\n",
       "      <td>New York</td>\n",
       "      <td>72000</td>\n",
       "      <td>Finance</td>\n",
       "      <td>3</td>\n",
       "      <td>3.5</td>\n",
       "      <td>Peter Jones</td>\n",
       "      <td>600000</td>\n",
       "    </tr>\n",
       "    <tr>\n",
       "      <th>6</th>\n",
       "      <td>Alice</td>\n",
       "      <td>24</td>\n",
       "      <td>Chicago</td>\n",
       "      <td>62000</td>\n",
       "      <td>HR</td>\n",
       "      <td>2</td>\n",
       "      <td>4.0</td>\n",
       "      <td>John Doe</td>\n",
       "      <td>500000</td>\n",
       "    </tr>\n",
       "  </tbody>\n",
       "</table>\n",
       "</div>"
      ],
      "text/plain": [
       "      Name  Age         City  Salary Department  Experience  Rating  \\\n",
       "0    Alice   24     New York   70000         HR           2     4.5   \n",
       "1      Bob   27  Los Angeles   85000         IT           5     3.8   \n",
       "2  Charlie   22      Chicago   60000    Finance           1     NaN   \n",
       "3    David   32      Houston  120000         IT          10     4.9   \n",
       "4      Eve   29        Miami   95000         HR           6     4.2   \n",
       "5    Frank   25     New York   72000    Finance           3     3.5   \n",
       "6    Alice   24      Chicago   62000         HR           2     4.0   \n",
       "\n",
       "          Head  Budget  \n",
       "0     John Doe  500000  \n",
       "1   Jane Smith  800000  \n",
       "2  Peter Jones  600000  \n",
       "3   Jane Smith  800000  \n",
       "4     John Doe  500000  \n",
       "5  Peter Jones  600000  \n",
       "6     John Doe  500000  "
      ]
     },
     "execution_count": 69,
     "metadata": {},
     "output_type": "execute_result"
    }
   ],
   "source": [
    "merged_df_left"
   ]
  },
  {
   "cell_type": "code",
   "execution_count": 71,
   "id": "6dfc77ab-ff94-4586-b454-ed5f5fe54045",
   "metadata": {},
   "outputs": [
    {
     "name": "stdout",
     "output_type": "stream",
     "text": [
      "Right Merged DataFrame:\n",
      "      Name  Age         City  Salary Department  Experience  Rating  \\\n",
      "0    Alice   24     New York   70000         HR           2     4.5   \n",
      "1      Eve   29        Miami   95000         HR           6     4.2   \n",
      "2    Alice   24      Chicago   62000         HR           2     4.0   \n",
      "3      Bob   27  Los Angeles   85000         IT           5     3.8   \n",
      "4    David   32      Houston  120000         IT          10     4.9   \n",
      "5  Charlie   22      Chicago   60000    Finance           1     NaN   \n",
      "6    Frank   25     New York   72000    Finance           3     3.5   \n",
      "\n",
      "          Head  Budget  \n",
      "0     John Doe  500000  \n",
      "1     John Doe  500000  \n",
      "2     John Doe  500000  \n",
      "3   Jane Smith  800000  \n",
      "4   Jane Smith  800000  \n",
      "5  Peter Jones  600000  \n",
      "6  Peter Jones  600000  \n",
      "\n",
      "------------------------------\n",
      "\n"
     ]
    }
   ],
   "source": [
    "# Right Merge: Keep all rows from the right DataFrame (department_info)\n",
    "merged_df_right = pd.merge(df, dep_info, on='Department', how='right')\n",
    "print(\"Right Merged DataFrame:\")\n",
    "print(merged_df_right)\n",
    "print(\"\\n\" + \"-\"*30 + \"\\n\")"
   ]
  },
  {
   "cell_type": "code",
   "execution_count": 73,
   "id": "f87c0d15-484f-4eaf-9692-faaef0537fac",
   "metadata": {},
   "outputs": [
    {
     "data": {
      "text/html": [
       "<div>\n",
       "<style scoped>\n",
       "    .dataframe tbody tr th:only-of-type {\n",
       "        vertical-align: middle;\n",
       "    }\n",
       "\n",
       "    .dataframe tbody tr th {\n",
       "        vertical-align: top;\n",
       "    }\n",
       "\n",
       "    .dataframe thead th {\n",
       "        text-align: right;\n",
       "    }\n",
       "</style>\n",
       "<table border=\"1\" class=\"dataframe\">\n",
       "  <thead>\n",
       "    <tr style=\"text-align: right;\">\n",
       "      <th></th>\n",
       "      <th>Name</th>\n",
       "      <th>Age</th>\n",
       "      <th>City</th>\n",
       "      <th>Salary</th>\n",
       "      <th>Department</th>\n",
       "      <th>Experience</th>\n",
       "      <th>Rating</th>\n",
       "      <th>Head</th>\n",
       "      <th>Budget</th>\n",
       "    </tr>\n",
       "  </thead>\n",
       "  <tbody>\n",
       "    <tr>\n",
       "      <th>0</th>\n",
       "      <td>Alice</td>\n",
       "      <td>24</td>\n",
       "      <td>New York</td>\n",
       "      <td>70000</td>\n",
       "      <td>HR</td>\n",
       "      <td>2</td>\n",
       "      <td>4.5</td>\n",
       "      <td>John Doe</td>\n",
       "      <td>500000</td>\n",
       "    </tr>\n",
       "    <tr>\n",
       "      <th>1</th>\n",
       "      <td>Eve</td>\n",
       "      <td>29</td>\n",
       "      <td>Miami</td>\n",
       "      <td>95000</td>\n",
       "      <td>HR</td>\n",
       "      <td>6</td>\n",
       "      <td>4.2</td>\n",
       "      <td>John Doe</td>\n",
       "      <td>500000</td>\n",
       "    </tr>\n",
       "    <tr>\n",
       "      <th>2</th>\n",
       "      <td>Alice</td>\n",
       "      <td>24</td>\n",
       "      <td>Chicago</td>\n",
       "      <td>62000</td>\n",
       "      <td>HR</td>\n",
       "      <td>2</td>\n",
       "      <td>4.0</td>\n",
       "      <td>John Doe</td>\n",
       "      <td>500000</td>\n",
       "    </tr>\n",
       "    <tr>\n",
       "      <th>3</th>\n",
       "      <td>Bob</td>\n",
       "      <td>27</td>\n",
       "      <td>Los Angeles</td>\n",
       "      <td>85000</td>\n",
       "      <td>IT</td>\n",
       "      <td>5</td>\n",
       "      <td>3.8</td>\n",
       "      <td>Jane Smith</td>\n",
       "      <td>800000</td>\n",
       "    </tr>\n",
       "    <tr>\n",
       "      <th>4</th>\n",
       "      <td>David</td>\n",
       "      <td>32</td>\n",
       "      <td>Houston</td>\n",
       "      <td>120000</td>\n",
       "      <td>IT</td>\n",
       "      <td>10</td>\n",
       "      <td>4.9</td>\n",
       "      <td>Jane Smith</td>\n",
       "      <td>800000</td>\n",
       "    </tr>\n",
       "    <tr>\n",
       "      <th>5</th>\n",
       "      <td>Charlie</td>\n",
       "      <td>22</td>\n",
       "      <td>Chicago</td>\n",
       "      <td>60000</td>\n",
       "      <td>Finance</td>\n",
       "      <td>1</td>\n",
       "      <td>NaN</td>\n",
       "      <td>Peter Jones</td>\n",
       "      <td>600000</td>\n",
       "    </tr>\n",
       "    <tr>\n",
       "      <th>6</th>\n",
       "      <td>Frank</td>\n",
       "      <td>25</td>\n",
       "      <td>New York</td>\n",
       "      <td>72000</td>\n",
       "      <td>Finance</td>\n",
       "      <td>3</td>\n",
       "      <td>3.5</td>\n",
       "      <td>Peter Jones</td>\n",
       "      <td>600000</td>\n",
       "    </tr>\n",
       "  </tbody>\n",
       "</table>\n",
       "</div>"
      ],
      "text/plain": [
       "      Name  Age         City  Salary Department  Experience  Rating  \\\n",
       "0    Alice   24     New York   70000         HR           2     4.5   \n",
       "1      Eve   29        Miami   95000         HR           6     4.2   \n",
       "2    Alice   24      Chicago   62000         HR           2     4.0   \n",
       "3      Bob   27  Los Angeles   85000         IT           5     3.8   \n",
       "4    David   32      Houston  120000         IT          10     4.9   \n",
       "5  Charlie   22      Chicago   60000    Finance           1     NaN   \n",
       "6    Frank   25     New York   72000    Finance           3     3.5   \n",
       "\n",
       "          Head  Budget  \n",
       "0     John Doe  500000  \n",
       "1     John Doe  500000  \n",
       "2     John Doe  500000  \n",
       "3   Jane Smith  800000  \n",
       "4   Jane Smith  800000  \n",
       "5  Peter Jones  600000  \n",
       "6  Peter Jones  600000  "
      ]
     },
     "execution_count": 73,
     "metadata": {},
     "output_type": "execute_result"
    }
   ],
   "source": [
    "merged_df_right"
   ]
  },
  {
   "cell_type": "code",
   "execution_count": 77,
   "id": "976ccf1b-f2f1-4d87-bb47-d6d2b79d6a86",
   "metadata": {},
   "outputs": [
    {
     "name": "stdout",
     "output_type": "stream",
     "text": [
      "Outer Merged DataFrame:\n",
      "      Name  Age         City  Salary Department  Experience  Rating  \\\n",
      "0  Charlie   22      Chicago   60000    Finance           1     NaN   \n",
      "1    Frank   25     New York   72000    Finance           3     3.5   \n",
      "2    Alice   24     New York   70000         HR           2     4.5   \n",
      "3      Eve   29        Miami   95000         HR           6     4.2   \n",
      "4    Alice   24      Chicago   62000         HR           2     4.0   \n",
      "5      Bob   27  Los Angeles   85000         IT           5     3.8   \n",
      "6    David   32      Houston  120000         IT          10     4.9   \n",
      "\n",
      "          Head  Budget  \n",
      "0  Peter Jones  600000  \n",
      "1  Peter Jones  600000  \n",
      "2     John Doe  500000  \n",
      "3     John Doe  500000  \n",
      "4     John Doe  500000  \n",
      "5   Jane Smith  800000  \n",
      "6   Jane Smith  800000  \n",
      "\n",
      "==================================================\n",
      "\n"
     ]
    }
   ],
   "source": [
    "# Outer Merge: Keep all rows from both DataFrames, fill NaNs for non-matches\n",
    "merged_df_outer = pd.merge(df, dep_info, on='Department', how='outer')\n",
    "print(\"Outer Merged DataFrame:\")\n",
    "print(merged_df_outer)\n",
    "print(\"\\n\" + \"=\"*50 + \"\\n\")"
   ]
  },
  {
   "cell_type": "code",
   "execution_count": 79,
   "id": "8fb2d369-9dce-43d6-b147-bb667970e9e1",
   "metadata": {},
   "outputs": [
    {
     "data": {
      "text/html": [
       "<div>\n",
       "<style scoped>\n",
       "    .dataframe tbody tr th:only-of-type {\n",
       "        vertical-align: middle;\n",
       "    }\n",
       "\n",
       "    .dataframe tbody tr th {\n",
       "        vertical-align: top;\n",
       "    }\n",
       "\n",
       "    .dataframe thead th {\n",
       "        text-align: right;\n",
       "    }\n",
       "</style>\n",
       "<table border=\"1\" class=\"dataframe\">\n",
       "  <thead>\n",
       "    <tr style=\"text-align: right;\">\n",
       "      <th></th>\n",
       "      <th>Name</th>\n",
       "      <th>Age</th>\n",
       "      <th>City</th>\n",
       "      <th>Salary</th>\n",
       "      <th>Department</th>\n",
       "      <th>Experience</th>\n",
       "      <th>Rating</th>\n",
       "      <th>Head</th>\n",
       "      <th>Budget</th>\n",
       "    </tr>\n",
       "  </thead>\n",
       "  <tbody>\n",
       "    <tr>\n",
       "      <th>0</th>\n",
       "      <td>Charlie</td>\n",
       "      <td>22</td>\n",
       "      <td>Chicago</td>\n",
       "      <td>60000</td>\n",
       "      <td>Finance</td>\n",
       "      <td>1</td>\n",
       "      <td>NaN</td>\n",
       "      <td>Peter Jones</td>\n",
       "      <td>600000</td>\n",
       "    </tr>\n",
       "    <tr>\n",
       "      <th>1</th>\n",
       "      <td>Frank</td>\n",
       "      <td>25</td>\n",
       "      <td>New York</td>\n",
       "      <td>72000</td>\n",
       "      <td>Finance</td>\n",
       "      <td>3</td>\n",
       "      <td>3.5</td>\n",
       "      <td>Peter Jones</td>\n",
       "      <td>600000</td>\n",
       "    </tr>\n",
       "    <tr>\n",
       "      <th>2</th>\n",
       "      <td>Alice</td>\n",
       "      <td>24</td>\n",
       "      <td>New York</td>\n",
       "      <td>70000</td>\n",
       "      <td>HR</td>\n",
       "      <td>2</td>\n",
       "      <td>4.5</td>\n",
       "      <td>John Doe</td>\n",
       "      <td>500000</td>\n",
       "    </tr>\n",
       "    <tr>\n",
       "      <th>3</th>\n",
       "      <td>Eve</td>\n",
       "      <td>29</td>\n",
       "      <td>Miami</td>\n",
       "      <td>95000</td>\n",
       "      <td>HR</td>\n",
       "      <td>6</td>\n",
       "      <td>4.2</td>\n",
       "      <td>John Doe</td>\n",
       "      <td>500000</td>\n",
       "    </tr>\n",
       "    <tr>\n",
       "      <th>4</th>\n",
       "      <td>Alice</td>\n",
       "      <td>24</td>\n",
       "      <td>Chicago</td>\n",
       "      <td>62000</td>\n",
       "      <td>HR</td>\n",
       "      <td>2</td>\n",
       "      <td>4.0</td>\n",
       "      <td>John Doe</td>\n",
       "      <td>500000</td>\n",
       "    </tr>\n",
       "    <tr>\n",
       "      <th>5</th>\n",
       "      <td>Bob</td>\n",
       "      <td>27</td>\n",
       "      <td>Los Angeles</td>\n",
       "      <td>85000</td>\n",
       "      <td>IT</td>\n",
       "      <td>5</td>\n",
       "      <td>3.8</td>\n",
       "      <td>Jane Smith</td>\n",
       "      <td>800000</td>\n",
       "    </tr>\n",
       "    <tr>\n",
       "      <th>6</th>\n",
       "      <td>David</td>\n",
       "      <td>32</td>\n",
       "      <td>Houston</td>\n",
       "      <td>120000</td>\n",
       "      <td>IT</td>\n",
       "      <td>10</td>\n",
       "      <td>4.9</td>\n",
       "      <td>Jane Smith</td>\n",
       "      <td>800000</td>\n",
       "    </tr>\n",
       "  </tbody>\n",
       "</table>\n",
       "</div>"
      ],
      "text/plain": [
       "      Name  Age         City  Salary Department  Experience  Rating  \\\n",
       "0  Charlie   22      Chicago   60000    Finance           1     NaN   \n",
       "1    Frank   25     New York   72000    Finance           3     3.5   \n",
       "2    Alice   24     New York   70000         HR           2     4.5   \n",
       "3      Eve   29        Miami   95000         HR           6     4.2   \n",
       "4    Alice   24      Chicago   62000         HR           2     4.0   \n",
       "5      Bob   27  Los Angeles   85000         IT           5     3.8   \n",
       "6    David   32      Houston  120000         IT          10     4.9   \n",
       "\n",
       "          Head  Budget  \n",
       "0  Peter Jones  600000  \n",
       "1  Peter Jones  600000  \n",
       "2     John Doe  500000  \n",
       "3     John Doe  500000  \n",
       "4     John Doe  500000  \n",
       "5   Jane Smith  800000  \n",
       "6   Jane Smith  800000  "
      ]
     },
     "execution_count": 79,
     "metadata": {},
     "output_type": "execute_result"
    }
   ],
   "source": [
    "merged_df_outer"
   ]
  },
  {
   "cell_type": "code",
   "execution_count": null,
   "id": "639f321d-0750-4011-897c-bc17ceb055d5",
   "metadata": {},
   "outputs": [],
   "source": []
  }
 ],
 "metadata": {
  "kernelspec": {
   "display_name": "Python [conda env:base] *",
   "language": "python",
   "name": "conda-base-py"
  },
  "language_info": {
   "codemirror_mode": {
    "name": "ipython",
    "version": 3
   },
   "file_extension": ".py",
   "mimetype": "text/x-python",
   "name": "python",
   "nbconvert_exporter": "python",
   "pygments_lexer": "ipython3",
   "version": "3.12.7"
  }
 },
 "nbformat": 4,
 "nbformat_minor": 5
}
