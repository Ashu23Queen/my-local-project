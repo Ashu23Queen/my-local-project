{
 "cells": [
  {
   "cell_type": "markdown",
   "id": "4a530ab4-2476-410b-8ede-70d0b73e17ec",
   "metadata": {},
   "source": [
    "#### Data Manipulation"
   ]
  },
  {
   "cell_type": "code",
   "execution_count": 2,
   "id": "cad67ed3-4d91-4b73-a866-fbe844209c82",
   "metadata": {},
   "outputs": [],
   "source": [
    "import pandas as pd\n",
    "import numpy as np"
   ]
  },
  {
   "cell_type": "markdown",
   "id": "3c1c7d82-3d15-4bcc-909d-2ea1c11b529f",
   "metadata": {},
   "source": [
    "###### 1. Fundamentals: Series and DataFrame"
   ]
  },
  {
   "cell_type": "code",
   "execution_count": 5,
   "id": "7c726cc6-dd39-4839-b7bc-7f3d0238dd0e",
   "metadata": {},
   "outputs": [
    {
     "name": "stdout",
     "output_type": "stream",
     "text": [
      "Series:\n",
      " 0    1.0\n",
      "1    3.0\n",
      "2    5.0\n",
      "3    NaN\n",
      "4    6.0\n",
      "5    8.0\n",
      "dtype: float64\n"
     ]
    }
   ],
   "source": [
    "# Creating a Series\n",
    "s = pd.Series([1, 3, 5, np.nan, 6, 8])\n",
    "print(\"Series:\\n\", s)"
   ]
  },
  {
   "cell_type": "code",
   "execution_count": 9,
   "id": "1c9987cd-1b40-4120-98a6-31a0103e2c16",
   "metadata": {},
   "outputs": [
    {
     "name": "stdout",
     "output_type": "stream",
     "text": [
      "\n",
      "DataFrame:\n",
      "    column1 column2  column3\n",
      "0        1       A     True\n",
      "1        2       B    False\n",
      "2        3       C     True\n",
      "3        4       D    False\n"
     ]
    }
   ],
   "source": [
    "# Creating a DataFrame\n",
    "data = {'column1': [1, 2, 3, 4],\n",
    "        'column2': ['A', 'B', 'C', 'D'],\n",
    "        'column3': [True, False, True, False]}\n",
    "df = pd.DataFrame(data)\n",
    "print(\"\\nDataFrame:\\n\", df)"
   ]
  },
  {
   "cell_type": "markdown",
   "id": "0174c628-4e00-491b-84f3-36b3bc6a5317",
   "metadata": {},
   "source": [
    "###### 2. Basic Data Selection and Indexing"
   ]
  },
  {
   "cell_type": "code",
   "execution_count": 19,
   "id": "81467f4c-665d-481c-b7f7-d4b5c492172f",
   "metadata": {},
   "outputs": [
    {
     "name": "stdout",
     "output_type": "stream",
     "text": [
      "\n",
      "Select 'column1': \n",
      " 0    1\n",
      "1    2\n",
      "2    3\n",
      "3    4\n",
      "Name: column1, dtype: int64\n"
     ]
    }
   ],
   "source": [
    "# Select a single column\n",
    "print(\"\\nSelect 'column1': \\n\", df['column1'])"
   ]
  },
  {
   "cell_type": "code",
   "execution_count": null,
   "id": "f62b40c7-45f8-4079-a3b3-cab96600953a",
   "metadata": {},
   "outputs": [],
   "source": [
    "# Select multiple columns\n",
    "print(\"\\nSelect 'column2': \\n\", df['column1'])"
   ]
  },
  {
   "cell_type": "code",
   "execution_count": null,
   "id": "2662b408-4eba-43fb-9479-b58c3bb526fa",
   "metadata": {},
   "outputs": [],
   "source": []
  },
  {
   "cell_type": "markdown",
   "id": "b31d484c-cea3-4324-ac3d-95256d27eab4",
   "metadata": {},
   "source": [
    "*******************************************"
   ]
  },
  {
   "cell_type": "code",
   "execution_count": null,
   "id": "c373cad1-d91a-4c71-abe9-c474484a1c3e",
   "metadata": {},
   "outputs": [],
   "source": [
    "# Sample DataFrame 1\n",
    "data1 = {\n",
    "    'OrderID': [1, 2, 3, 4, 5, 6, 7, 8, 9, 10],\n",
    "    'CustomerID': [101, 102, 101, 103, 102, 104, 101, 105, 103, 106],\n",
    "    'Product': ['Laptop', 'Mouse', 'Keyboard', 'Monitor', 'Laptop', 'Webcam', 'Mouse', 'Keyboard', 'Monitor', 'Laptop'],\n",
    "    'Quantity': [1, 2, 1, 1, 1, 1, 3, 1, 2, 1],\n",
    "    'Price': [1200, 25, 75, 300, 1200, 50, 25, 75, 300, 1200],\n",
    "    'OrderDate': pd.to_datetime(['2023-01-10', '2023-01-11', '2023-01-10', '2023-01-12', '2023-01-13', '2023-01-14', '2023-01-15', '2023-01-16', '2023-01-17', '2023-01-18']),\n",
    "    'Region': ['East', 'West', 'East', 'North', 'West', 'South', 'East', 'North', 'West', 'South'],\n",
    "    'Discount': [0.05, 0.0, 0.10, 0.0, 0.05, 0.0, 0.10, 0.0, 0.0, 0.05],\n",
    "    'ShippingCost': [15.0, 5.0, 10.0, 20.0, 15.0, np.nan, 5.0, 10.0, 20.0, 15.0] # Introducing a NaN for demonstration\n",
    "}\n",
    "df = pd.DataFrame(data1)\n",
    "\n",
    "# Sample DataFrame 2 (for merging)\n",
    "customer_data = {\n",
    "    'CustomerID': [101, 102, 103, 104, 105, 106],\n",
    "    'CustomerName': ['Alice', 'Bob', 'Charlie', 'David', 'Eve', 'Frank'],\n",
    "    'City': ['New York', 'Los Angeles', 'Chicago', 'Houston', 'Miami', 'Seattle']\n",
    "}\n",
    "df_customers = pd.DataFrame(customer_data)\n",
    "\n",
    "print(\"Original DataFrame (df):\")\n",
    "print(df)\n",
    "print(\"\\nCustomer DataFrame (df_customers):\")\n",
    "print(df_customers)"
   ]
  }
 ],
 "metadata": {
  "kernelspec": {
   "display_name": "Python [conda env:base] *",
   "language": "python",
   "name": "conda-base-py"
  },
  "language_info": {
   "codemirror_mode": {
    "name": "ipython",
    "version": 3
   },
   "file_extension": ".py",
   "mimetype": "text/x-python",
   "name": "python",
   "nbconvert_exporter": "python",
   "pygments_lexer": "ipython3",
   "version": "3.12.7"
  }
 },
 "nbformat": 4,
 "nbformat_minor": 5
}
