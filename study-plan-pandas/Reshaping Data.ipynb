{
 "cells": [
  {
   "cell_type": "code",
   "execution_count": 2,
   "id": "d49e965e-dd74-4b54-b735-00bfb5fae4fa",
   "metadata": {},
   "outputs": [],
   "source": [
    "import pandas as pd\n",
    "import numpy as np\n"
   ]
  },
  {
   "cell_type": "code",
   "execution_count": 4,
   "id": "d1dc0fe0-4242-41ac-b653-8d91797bbb5e",
   "metadata": {},
   "outputs": [],
   "source": [
    "# Sample DataFrame\n",
    "data = {\n",
    "    'Date': ['2024-01-01', '2024-01-01', '2024-01-02', '2024-01-02', '2024-01-03'],\n",
    "    'City': ['Mumbai', 'Delhi', 'Mumbai', 'Delhi', 'Chennai'],\n",
    "    'Product': ['A', 'B', 'A', 'C', 'B'],\n",
    "    'Sales': [100, 150, 120, 200, 180],\n",
    "    'Quantity': [10, 15, 12, 20, 18]\n",
    "}\n",
    "df = pd.DataFrame(data)"
   ]
  },
  {
   "cell_type": "code",
   "execution_count": 8,
   "id": "6dd0c48e-122f-420e-9e7e-0e67dffecd8f",
   "metadata": {},
   "outputs": [
    {
     "data": {
      "text/html": [
       "<div>\n",
       "<style scoped>\n",
       "    .dataframe tbody tr th:only-of-type {\n",
       "        vertical-align: middle;\n",
       "    }\n",
       "\n",
       "    .dataframe tbody tr th {\n",
       "        vertical-align: top;\n",
       "    }\n",
       "\n",
       "    .dataframe thead th {\n",
       "        text-align: right;\n",
       "    }\n",
       "</style>\n",
       "<table border=\"1\" class=\"dataframe\">\n",
       "  <thead>\n",
       "    <tr style=\"text-align: right;\">\n",
       "      <th></th>\n",
       "      <th>Date</th>\n",
       "      <th>City</th>\n",
       "      <th>Product</th>\n",
       "      <th>Sales</th>\n",
       "      <th>Quantity</th>\n",
       "    </tr>\n",
       "  </thead>\n",
       "  <tbody>\n",
       "    <tr>\n",
       "      <th>0</th>\n",
       "      <td>2024-01-01</td>\n",
       "      <td>Mumbai</td>\n",
       "      <td>A</td>\n",
       "      <td>100</td>\n",
       "      <td>10</td>\n",
       "    </tr>\n",
       "    <tr>\n",
       "      <th>1</th>\n",
       "      <td>2024-01-01</td>\n",
       "      <td>Delhi</td>\n",
       "      <td>B</td>\n",
       "      <td>150</td>\n",
       "      <td>15</td>\n",
       "    </tr>\n",
       "    <tr>\n",
       "      <th>2</th>\n",
       "      <td>2024-01-02</td>\n",
       "      <td>Mumbai</td>\n",
       "      <td>A</td>\n",
       "      <td>120</td>\n",
       "      <td>12</td>\n",
       "    </tr>\n",
       "    <tr>\n",
       "      <th>3</th>\n",
       "      <td>2024-01-02</td>\n",
       "      <td>Delhi</td>\n",
       "      <td>C</td>\n",
       "      <td>200</td>\n",
       "      <td>20</td>\n",
       "    </tr>\n",
       "    <tr>\n",
       "      <th>4</th>\n",
       "      <td>2024-01-03</td>\n",
       "      <td>Chennai</td>\n",
       "      <td>B</td>\n",
       "      <td>180</td>\n",
       "      <td>18</td>\n",
       "    </tr>\n",
       "  </tbody>\n",
       "</table>\n",
       "</div>"
      ],
      "text/plain": [
       "         Date     City Product  Sales  Quantity\n",
       "0  2024-01-01   Mumbai       A    100        10\n",
       "1  2024-01-01    Delhi       B    150        15\n",
       "2  2024-01-02   Mumbai       A    120        12\n",
       "3  2024-01-02    Delhi       C    200        20\n",
       "4  2024-01-03  Chennai       B    180        18"
      ]
     },
     "execution_count": 8,
     "metadata": {},
     "output_type": "execute_result"
    }
   ],
   "source": [
    "df"
   ]
  },
  {
   "cell_type": "code",
   "execution_count": 10,
   "id": "4600b262-32a8-47e7-be36-89f6392e5af1",
   "metadata": {},
   "outputs": [
    {
     "name": "stdout",
     "output_type": "stream",
     "text": [
      "Original DataFrame:\n",
      "         Date     City Product  Sales  Quantity\n",
      "0  2024-01-01   Mumbai       A    100        10\n",
      "1  2024-01-01    Delhi       B    150        15\n",
      "2  2024-01-02   Mumbai       A    120        12\n",
      "3  2024-01-02    Delhi       C    200        20\n",
      "4  2024-01-03  Chennai       B    180        18\n",
      "------------------------------\n"
     ]
    }
   ],
   "source": [
    "print(\"Original DataFrame:\")\n",
    "print(df)\n",
    "print(\"-\" * 30)"
   ]
  },
  {
   "cell_type": "markdown",
   "id": "72398c08-23fa-401e-b581-4ddbb1f4ebf7",
   "metadata": {},
   "source": [
    "##### 1. Wide to Long Format (without aggregation)"
   ]
  },
  {
   "cell_type": "code",
   "execution_count": 13,
   "id": "3926ee7c-96e9-4ebb-abdd-200311ff4b23",
   "metadata": {},
   "outputs": [
    {
     "name": "stdout",
     "output_type": "stream",
     "text": [
      "DataFrame for pivot() example:\n",
      "         Date    City  Temperature\n",
      "0  2024-01-01  Mumbai           28\n",
      "1  2024-01-01   Delhi           20\n",
      "2  2024-01-02  Mumbai           29\n",
      "3  2024-01-02   Delhi           21\n",
      "------------------------------\n"
     ]
    }
   ],
   "source": [
    "df_pivot_example = pd.DataFrame({\n",
    "    'Date': ['2024-01-01', '2024-01-01', '2024-01-02', '2024-01-02'],\n",
    "    'City': ['Mumbai', 'Delhi', 'Mumbai', 'Delhi'],\n",
    "    'Temperature': [28, 20, 29, 21]\n",
    "})\n",
    "print(\"DataFrame for pivot() example:\")\n",
    "print(df_pivot_example)\n",
    "print(\"-\" * 30)\n"
   ]
  },
  {
   "cell_type": "code",
   "execution_count": 15,
   "id": "a305fffd-0ef0-4aaf-b2bf-a8eac4ac47ea",
   "metadata": {},
   "outputs": [
    {
     "name": "stdout",
     "output_type": "stream",
     "text": [
      "1. Using pivot():\n",
      "City        Delhi  Mumbai\n",
      "Date                     \n",
      "2024-01-01     20      28\n",
      "2024-01-02     21      29\n",
      "------------------------------\n"
     ]
    }
   ],
   "source": [
    "pivoted_df = df_pivot_example.pivot(index='Date', columns='City', values='Temperature')\n",
    "print(\"1. Using pivot():\")\n",
    "print(pivoted_df)\n",
    "print(\"-\" * 30)"
   ]
  },
  {
   "cell_type": "markdown",
   "id": "a071d2fd-e328-4ec8-be3d-e533aadecc26",
   "metadata": {},
   "source": [
    "##### 2. Wide to Long Format (with aggregation)"
   ]
  },
  {
   "cell_type": "code",
   "execution_count": 23,
   "id": "31e79e56-2a6b-4ba2-861a-322dd1df4f99",
   "metadata": {},
   "outputs": [
    {
     "name": "stdout",
     "output_type": "stream",
     "text": [
      "2. Using pivot_table() (Basic - sum of Sales):\n",
      "Product      A      B      C\n",
      "City                        \n",
      "Chennai    NaN  180.0    NaN\n",
      "Delhi      NaN  150.0  200.0\n",
      "Mumbai   220.0    NaN    NaN\n",
      "------------------------------\n"
     ]
    }
   ],
   "source": [
    "# Example 1: Basic pivot table - Sum of Sales by City and Product\n",
    " \n",
    "pivot_table_basic = pd.pivot_table(df, values='Sales', index='City', columns='Product', aggfunc='sum')\n",
    "print(\"2. Using pivot_table() (Basic - sum of Sales):\")\n",
    "print(pivot_table_basic)\n",
    "print(\"-\" * 30)"
   ]
  },
  {
   "cell_type": "code",
   "execution_count": 25,
   "id": "99932f83-c53a-4c9e-975e-90746eb2ea8e",
   "metadata": {},
   "outputs": [
    {
     "name": "stdout",
     "output_type": "stream",
     "text": [
      "2. Using pivot_table() (Multiple aggregations):\n",
      "                   Quantity              Sales              \n",
      "Product                   A     B     C      A      B      C\n",
      "Date       City                                             \n",
      "2024-01-01 Delhi        NaN  15.0   NaN    NaN  150.0    NaN\n",
      "           Mumbai      10.0   NaN   NaN  100.0    NaN    NaN\n",
      "2024-01-02 Delhi        NaN   NaN  20.0    NaN    NaN  200.0\n",
      "           Mumbai      12.0   NaN   NaN  120.0    NaN    NaN\n",
      "2024-01-03 Chennai      NaN  18.0   NaN    NaN  180.0    NaN\n",
      "------------------------------\n"
     ]
    }
   ],
   "source": [
    "# Example 2: Multiple values and aggregation functions\n",
    "pivot_table_multi_agg = pd.pivot_table(df,\n",
    "                                       values=['Sales', 'Quantity'],\n",
    "                                       index=['Date', 'City'],\n",
    "                                       columns='Product',\n",
    "                                       aggfunc={'Sales': 'sum', 'Quantity': 'mean'})\n",
    "print(\"2. Using pivot_table() (Multiple aggregations):\")\n",
    "print(pivot_table_multi_agg)\n",
    "print(\"-\" * 30)"
   ]
  },
  {
   "cell_type": "code",
   "execution_count": 27,
   "id": "aa3582c5-6026-468c-9c8b-0bdc70012ba0",
   "metadata": {},
   "outputs": [
    {
     "data": {
      "text/html": [
       "<div>\n",
       "<style scoped>\n",
       "    .dataframe tbody tr th:only-of-type {\n",
       "        vertical-align: middle;\n",
       "    }\n",
       "\n",
       "    .dataframe tbody tr th {\n",
       "        vertical-align: top;\n",
       "    }\n",
       "\n",
       "    .dataframe thead tr th {\n",
       "        text-align: left;\n",
       "    }\n",
       "\n",
       "    .dataframe thead tr:last-of-type th {\n",
       "        text-align: right;\n",
       "    }\n",
       "</style>\n",
       "<table border=\"1\" class=\"dataframe\">\n",
       "  <thead>\n",
       "    <tr>\n",
       "      <th></th>\n",
       "      <th></th>\n",
       "      <th colspan=\"3\" halign=\"left\">Quantity</th>\n",
       "      <th colspan=\"3\" halign=\"left\">Sales</th>\n",
       "    </tr>\n",
       "    <tr>\n",
       "      <th></th>\n",
       "      <th>Product</th>\n",
       "      <th>A</th>\n",
       "      <th>B</th>\n",
       "      <th>C</th>\n",
       "      <th>A</th>\n",
       "      <th>B</th>\n",
       "      <th>C</th>\n",
       "    </tr>\n",
       "    <tr>\n",
       "      <th>Date</th>\n",
       "      <th>City</th>\n",
       "      <th></th>\n",
       "      <th></th>\n",
       "      <th></th>\n",
       "      <th></th>\n",
       "      <th></th>\n",
       "      <th></th>\n",
       "    </tr>\n",
       "  </thead>\n",
       "  <tbody>\n",
       "    <tr>\n",
       "      <th rowspan=\"2\" valign=\"top\">2024-01-01</th>\n",
       "      <th>Delhi</th>\n",
       "      <td>NaN</td>\n",
       "      <td>15.0</td>\n",
       "      <td>NaN</td>\n",
       "      <td>NaN</td>\n",
       "      <td>150.0</td>\n",
       "      <td>NaN</td>\n",
       "    </tr>\n",
       "    <tr>\n",
       "      <th>Mumbai</th>\n",
       "      <td>10.0</td>\n",
       "      <td>NaN</td>\n",
       "      <td>NaN</td>\n",
       "      <td>100.0</td>\n",
       "      <td>NaN</td>\n",
       "      <td>NaN</td>\n",
       "    </tr>\n",
       "    <tr>\n",
       "      <th rowspan=\"2\" valign=\"top\">2024-01-02</th>\n",
       "      <th>Delhi</th>\n",
       "      <td>NaN</td>\n",
       "      <td>NaN</td>\n",
       "      <td>20.0</td>\n",
       "      <td>NaN</td>\n",
       "      <td>NaN</td>\n",
       "      <td>200.0</td>\n",
       "    </tr>\n",
       "    <tr>\n",
       "      <th>Mumbai</th>\n",
       "      <td>12.0</td>\n",
       "      <td>NaN</td>\n",
       "      <td>NaN</td>\n",
       "      <td>120.0</td>\n",
       "      <td>NaN</td>\n",
       "      <td>NaN</td>\n",
       "    </tr>\n",
       "    <tr>\n",
       "      <th>2024-01-03</th>\n",
       "      <th>Chennai</th>\n",
       "      <td>NaN</td>\n",
       "      <td>18.0</td>\n",
       "      <td>NaN</td>\n",
       "      <td>NaN</td>\n",
       "      <td>180.0</td>\n",
       "      <td>NaN</td>\n",
       "    </tr>\n",
       "  </tbody>\n",
       "</table>\n",
       "</div>"
      ],
      "text/plain": [
       "                   Quantity              Sales              \n",
       "Product                   A     B     C      A      B      C\n",
       "Date       City                                             \n",
       "2024-01-01 Delhi        NaN  15.0   NaN    NaN  150.0    NaN\n",
       "           Mumbai      10.0   NaN   NaN  100.0    NaN    NaN\n",
       "2024-01-02 Delhi        NaN   NaN  20.0    NaN    NaN  200.0\n",
       "           Mumbai      12.0   NaN   NaN  120.0    NaN    NaN\n",
       "2024-01-03 Chennai      NaN  18.0   NaN    NaN  180.0    NaN"
      ]
     },
     "execution_count": 27,
     "metadata": {},
     "output_type": "execute_result"
    }
   ],
   "source": [
    "pivot_table_multi_agg"
   ]
  },
  {
   "cell_type": "code",
   "execution_count": 37,
   "id": "9e047e36-da2c-4e78-8572-b55d26042a4f",
   "metadata": {},
   "outputs": [
    {
     "name": "stdout",
     "output_type": "stream",
     "text": [
      "2. Using pivot_table() (With margins/totals):\n",
      "Product      A      B      C  Total\n",
      "City                               \n",
      "Chennai    NaN  180.0    NaN    180\n",
      "Delhi      NaN  150.0  200.0    350\n",
      "Mumbai   220.0    NaN    NaN    220\n",
      "Total    220.0  330.0  200.0    750\n",
      "------------------------------\n"
     ]
    }
   ],
   "source": [
    "# Example 3: Adding margins (totals)\n",
    "\n",
    "pivot_table_margins = pd.pivot_table(df, values='Sales', index='City', columns='Product', aggfunc='sum', margins=True, margins_name='Total')\n",
    "print(\"2. Using pivot_table() (With margins/totals):\")\n",
    "print(pivot_table_margins)\n",
    "print(\"-\" * 30)"
   ]
  },
  {
   "cell_type": "code",
   "execution_count": 33,
   "id": "e3ffd96c-ebeb-40bc-be99-a840caebdee7",
   "metadata": {},
   "outputs": [
    {
     "data": {
      "text/html": [
       "<div>\n",
       "<style scoped>\n",
       "    .dataframe tbody tr th:only-of-type {\n",
       "        vertical-align: middle;\n",
       "    }\n",
       "\n",
       "    .dataframe tbody tr th {\n",
       "        vertical-align: top;\n",
       "    }\n",
       "\n",
       "    .dataframe thead th {\n",
       "        text-align: right;\n",
       "    }\n",
       "</style>\n",
       "<table border=\"1\" class=\"dataframe\">\n",
       "  <thead>\n",
       "    <tr style=\"text-align: right;\">\n",
       "      <th>Product</th>\n",
       "      <th>A</th>\n",
       "      <th>B</th>\n",
       "      <th>C</th>\n",
       "      <th>Total</th>\n",
       "    </tr>\n",
       "    <tr>\n",
       "      <th>City</th>\n",
       "      <th></th>\n",
       "      <th></th>\n",
       "      <th></th>\n",
       "      <th></th>\n",
       "    </tr>\n",
       "  </thead>\n",
       "  <tbody>\n",
       "    <tr>\n",
       "      <th>Chennai</th>\n",
       "      <td>NaN</td>\n",
       "      <td>180.0</td>\n",
       "      <td>NaN</td>\n",
       "      <td>180</td>\n",
       "    </tr>\n",
       "    <tr>\n",
       "      <th>Delhi</th>\n",
       "      <td>NaN</td>\n",
       "      <td>150.0</td>\n",
       "      <td>200.0</td>\n",
       "      <td>350</td>\n",
       "    </tr>\n",
       "    <tr>\n",
       "      <th>Mumbai</th>\n",
       "      <td>220.0</td>\n",
       "      <td>NaN</td>\n",
       "      <td>NaN</td>\n",
       "      <td>220</td>\n",
       "    </tr>\n",
       "    <tr>\n",
       "      <th>Total</th>\n",
       "      <td>220.0</td>\n",
       "      <td>330.0</td>\n",
       "      <td>200.0</td>\n",
       "      <td>750</td>\n",
       "    </tr>\n",
       "  </tbody>\n",
       "</table>\n",
       "</div>"
      ],
      "text/plain": [
       "Product      A      B      C  Total\n",
       "City                               \n",
       "Chennai    NaN  180.0    NaN    180\n",
       "Delhi      NaN  150.0  200.0    350\n",
       "Mumbai   220.0    NaN    NaN    220\n",
       "Total    220.0  330.0  200.0    750"
      ]
     },
     "execution_count": 33,
     "metadata": {},
     "output_type": "execute_result"
    }
   ],
   "source": [
    "pivot_table_margins"
   ]
  },
  {
   "cell_type": "markdown",
   "id": "e6040977-f8cc-4131-833d-e25cf5b67828",
   "metadata": {},
   "source": [
    "##### 3. melt(): Long to Wide Format"
   ]
  },
  {
   "cell_type": "code",
   "execution_count": 40,
   "id": "eb5eccb2-633a-46a7-9f87-db17d90d6ad8",
   "metadata": {},
   "outputs": [
    {
     "name": "stdout",
     "output_type": "stream",
     "text": [
      "DataFrame for melt() example (Wide format):\n",
      "   Year  Q1_Sales  Q2_Sales  Q3_Sales  Q4_Sales\n",
      "0  2023      1000      1100      1050      1150\n",
      "1  2024      1200      1300      1250      1350\n",
      "------------------------------\n"
     ]
    }
   ],
   "source": [
    "# Example 1: Basic melt\n",
    "\n",
    "wide_df = pd.DataFrame({\n",
    "    'Year': [2023, 2024],\n",
    "    'Q1_Sales': [1000, 1200],\n",
    "    'Q2_Sales': [1100, 1300],\n",
    "    'Q3_Sales': [1050, 1250],\n",
    "    'Q4_Sales': [1150, 1350]\n",
    "})\n",
    "print(\"DataFrame for melt() example (Wide format):\")\n",
    "print(wide_df)\n",
    "print(\"-\" * 30)"
   ]
  },
  {
   "cell_type": "code",
   "execution_count": 42,
   "id": "78dc207c-e14b-4087-837f-4b7a1c8476b3",
   "metadata": {},
   "outputs": [
    {
     "data": {
      "text/html": [
       "<div>\n",
       "<style scoped>\n",
       "    .dataframe tbody tr th:only-of-type {\n",
       "        vertical-align: middle;\n",
       "    }\n",
       "\n",
       "    .dataframe tbody tr th {\n",
       "        vertical-align: top;\n",
       "    }\n",
       "\n",
       "    .dataframe thead th {\n",
       "        text-align: right;\n",
       "    }\n",
       "</style>\n",
       "<table border=\"1\" class=\"dataframe\">\n",
       "  <thead>\n",
       "    <tr style=\"text-align: right;\">\n",
       "      <th></th>\n",
       "      <th>Year</th>\n",
       "      <th>Q1_Sales</th>\n",
       "      <th>Q2_Sales</th>\n",
       "      <th>Q3_Sales</th>\n",
       "      <th>Q4_Sales</th>\n",
       "    </tr>\n",
       "  </thead>\n",
       "  <tbody>\n",
       "    <tr>\n",
       "      <th>0</th>\n",
       "      <td>2023</td>\n",
       "      <td>1000</td>\n",
       "      <td>1100</td>\n",
       "      <td>1050</td>\n",
       "      <td>1150</td>\n",
       "    </tr>\n",
       "    <tr>\n",
       "      <th>1</th>\n",
       "      <td>2024</td>\n",
       "      <td>1200</td>\n",
       "      <td>1300</td>\n",
       "      <td>1250</td>\n",
       "      <td>1350</td>\n",
       "    </tr>\n",
       "  </tbody>\n",
       "</table>\n",
       "</div>"
      ],
      "text/plain": [
       "   Year  Q1_Sales  Q2_Sales  Q3_Sales  Q4_Sales\n",
       "0  2023      1000      1100      1050      1150\n",
       "1  2024      1200      1300      1250      1350"
      ]
     },
     "execution_count": 42,
     "metadata": {},
     "output_type": "execute_result"
    }
   ],
   "source": [
    "wide_df"
   ]
  },
  {
   "cell_type": "code",
   "execution_count": 75,
   "id": "a8c1434a-c9d7-4fbf-9da8-3c34876ec9b8",
   "metadata": {},
   "outputs": [],
   "source": [
    "# stack() - Columns to rows\n",
    "stacked_wide_df = wide_df.stack(future_stack=True)"
   ]
  },
  {
   "cell_type": "code",
   "execution_count": 77,
   "id": "252e301d-7ca8-451b-8a11-48ba5b286287",
   "metadata": {},
   "outputs": [
    {
     "data": {
      "text/plain": [
       "0  Year        2023\n",
       "   Q1_Sales    1000\n",
       "   Q2_Sales    1100\n",
       "   Q3_Sales    1050\n",
       "   Q4_Sales    1150\n",
       "1  Year        2024\n",
       "   Q1_Sales    1200\n",
       "   Q2_Sales    1300\n",
       "   Q3_Sales    1250\n",
       "   Q4_Sales    1350\n",
       "dtype: int64"
      ]
     },
     "execution_count": 77,
     "metadata": {},
     "output_type": "execute_result"
    }
   ],
   "source": [
    "stacked_wide_df"
   ]
  },
  {
   "cell_type": "code",
   "execution_count": 44,
   "id": "ae77c7b5-8cd1-473b-b11d-7d9f89af93da",
   "metadata": {},
   "outputs": [
    {
     "name": "stdout",
     "output_type": "stream",
     "text": [
      "3. Using melt() (Basic):\n",
      "   Year   Quarter  Sales\n",
      "0  2023  Q1_Sales   1000\n",
      "1  2024  Q1_Sales   1200\n",
      "2  2023  Q2_Sales   1100\n",
      "3  2024  Q2_Sales   1300\n",
      "4  2023  Q3_Sales   1050\n",
      "5  2024  Q3_Sales   1250\n",
      "6  2023  Q4_Sales   1150\n",
      "7  2024  Q4_Sales   1350\n",
      "------------------------------\n"
     ]
    }
   ],
   "source": [
    "melted_df = pd.melt(wide_df,\n",
    "                    id_vars=['Year'],\n",
    "                    value_vars=['Q1_Sales', 'Q2_Sales', 'Q3_Sales', 'Q4_Sales'],\n",
    "                    var_name='Quarter',\n",
    "                    value_name='Sales')\n",
    "print(\"3. Using melt() (Basic):\")\n",
    "print(melted_df)\n",
    "print(\"-\" * 30)"
   ]
  },
  {
   "cell_type": "code",
   "execution_count": 46,
   "id": "6f764d10-84ae-4b79-aa4c-9c0d51f53aae",
   "metadata": {},
   "outputs": [
    {
     "data": {
      "text/html": [
       "<div>\n",
       "<style scoped>\n",
       "    .dataframe tbody tr th:only-of-type {\n",
       "        vertical-align: middle;\n",
       "    }\n",
       "\n",
       "    .dataframe tbody tr th {\n",
       "        vertical-align: top;\n",
       "    }\n",
       "\n",
       "    .dataframe thead th {\n",
       "        text-align: right;\n",
       "    }\n",
       "</style>\n",
       "<table border=\"1\" class=\"dataframe\">\n",
       "  <thead>\n",
       "    <tr style=\"text-align: right;\">\n",
       "      <th></th>\n",
       "      <th>Year</th>\n",
       "      <th>Quarter</th>\n",
       "      <th>Sales</th>\n",
       "    </tr>\n",
       "  </thead>\n",
       "  <tbody>\n",
       "    <tr>\n",
       "      <th>0</th>\n",
       "      <td>2023</td>\n",
       "      <td>Q1_Sales</td>\n",
       "      <td>1000</td>\n",
       "    </tr>\n",
       "    <tr>\n",
       "      <th>1</th>\n",
       "      <td>2024</td>\n",
       "      <td>Q1_Sales</td>\n",
       "      <td>1200</td>\n",
       "    </tr>\n",
       "    <tr>\n",
       "      <th>2</th>\n",
       "      <td>2023</td>\n",
       "      <td>Q2_Sales</td>\n",
       "      <td>1100</td>\n",
       "    </tr>\n",
       "    <tr>\n",
       "      <th>3</th>\n",
       "      <td>2024</td>\n",
       "      <td>Q2_Sales</td>\n",
       "      <td>1300</td>\n",
       "    </tr>\n",
       "    <tr>\n",
       "      <th>4</th>\n",
       "      <td>2023</td>\n",
       "      <td>Q3_Sales</td>\n",
       "      <td>1050</td>\n",
       "    </tr>\n",
       "    <tr>\n",
       "      <th>5</th>\n",
       "      <td>2024</td>\n",
       "      <td>Q3_Sales</td>\n",
       "      <td>1250</td>\n",
       "    </tr>\n",
       "    <tr>\n",
       "      <th>6</th>\n",
       "      <td>2023</td>\n",
       "      <td>Q4_Sales</td>\n",
       "      <td>1150</td>\n",
       "    </tr>\n",
       "    <tr>\n",
       "      <th>7</th>\n",
       "      <td>2024</td>\n",
       "      <td>Q4_Sales</td>\n",
       "      <td>1350</td>\n",
       "    </tr>\n",
       "  </tbody>\n",
       "</table>\n",
       "</div>"
      ],
      "text/plain": [
       "   Year   Quarter  Sales\n",
       "0  2023  Q1_Sales   1000\n",
       "1  2024  Q1_Sales   1200\n",
       "2  2023  Q2_Sales   1100\n",
       "3  2024  Q2_Sales   1300\n",
       "4  2023  Q3_Sales   1050\n",
       "5  2024  Q3_Sales   1250\n",
       "6  2023  Q4_Sales   1150\n",
       "7  2024  Q4_Sales   1350"
      ]
     },
     "execution_count": 46,
     "metadata": {},
     "output_type": "execute_result"
    }
   ],
   "source": [
    "melted_df"
   ]
  },
  {
   "cell_type": "code",
   "execution_count": 48,
   "id": "5e060f76-135b-4b5b-bf18-10f8da6795b3",
   "metadata": {},
   "outputs": [
    {
     "name": "stdout",
     "output_type": "stream",
     "text": [
      "3. Using melt() (Melting all non-id_vars):\n",
      "   Year   Quarter  Sales\n",
      "0  2023  Q1_Sales   1000\n",
      "1  2024  Q1_Sales   1200\n",
      "2  2023  Q2_Sales   1100\n",
      "3  2024  Q2_Sales   1300\n",
      "4  2023  Q3_Sales   1050\n",
      "5  2024  Q3_Sales   1250\n",
      "6  2023  Q4_Sales   1150\n",
      "7  2024  Q4_Sales   1350\n",
      "------------------------------\n"
     ]
    }
   ],
   "source": [
    "# Example 2: Melting all non-id_vars columns\n",
    "\n",
    "melted_all = pd.melt(wide_df, id_vars=['Year'], var_name='Quarter', value_name='Sales')\n",
    "print(\"3. Using melt() (Melting all non-id_vars):\")\n",
    "print(melted_all)\n",
    "print(\"-\" * 30)"
   ]
  },
  {
   "cell_type": "code",
   "execution_count": 50,
   "id": "ce1af49d-d407-4c0e-91fc-7766a91ae1cf",
   "metadata": {},
   "outputs": [
    {
     "data": {
      "text/html": [
       "<div>\n",
       "<style scoped>\n",
       "    .dataframe tbody tr th:only-of-type {\n",
       "        vertical-align: middle;\n",
       "    }\n",
       "\n",
       "    .dataframe tbody tr th {\n",
       "        vertical-align: top;\n",
       "    }\n",
       "\n",
       "    .dataframe thead th {\n",
       "        text-align: right;\n",
       "    }\n",
       "</style>\n",
       "<table border=\"1\" class=\"dataframe\">\n",
       "  <thead>\n",
       "    <tr style=\"text-align: right;\">\n",
       "      <th></th>\n",
       "      <th>Year</th>\n",
       "      <th>Quarter</th>\n",
       "      <th>Sales</th>\n",
       "    </tr>\n",
       "  </thead>\n",
       "  <tbody>\n",
       "    <tr>\n",
       "      <th>0</th>\n",
       "      <td>2023</td>\n",
       "      <td>Q1_Sales</td>\n",
       "      <td>1000</td>\n",
       "    </tr>\n",
       "    <tr>\n",
       "      <th>1</th>\n",
       "      <td>2024</td>\n",
       "      <td>Q1_Sales</td>\n",
       "      <td>1200</td>\n",
       "    </tr>\n",
       "    <tr>\n",
       "      <th>2</th>\n",
       "      <td>2023</td>\n",
       "      <td>Q2_Sales</td>\n",
       "      <td>1100</td>\n",
       "    </tr>\n",
       "    <tr>\n",
       "      <th>3</th>\n",
       "      <td>2024</td>\n",
       "      <td>Q2_Sales</td>\n",
       "      <td>1300</td>\n",
       "    </tr>\n",
       "    <tr>\n",
       "      <th>4</th>\n",
       "      <td>2023</td>\n",
       "      <td>Q3_Sales</td>\n",
       "      <td>1050</td>\n",
       "    </tr>\n",
       "    <tr>\n",
       "      <th>5</th>\n",
       "      <td>2024</td>\n",
       "      <td>Q3_Sales</td>\n",
       "      <td>1250</td>\n",
       "    </tr>\n",
       "    <tr>\n",
       "      <th>6</th>\n",
       "      <td>2023</td>\n",
       "      <td>Q4_Sales</td>\n",
       "      <td>1150</td>\n",
       "    </tr>\n",
       "    <tr>\n",
       "      <th>7</th>\n",
       "      <td>2024</td>\n",
       "      <td>Q4_Sales</td>\n",
       "      <td>1350</td>\n",
       "    </tr>\n",
       "  </tbody>\n",
       "</table>\n",
       "</div>"
      ],
      "text/plain": [
       "   Year   Quarter  Sales\n",
       "0  2023  Q1_Sales   1000\n",
       "1  2024  Q1_Sales   1200\n",
       "2  2023  Q2_Sales   1100\n",
       "3  2024  Q2_Sales   1300\n",
       "4  2023  Q3_Sales   1050\n",
       "5  2024  Q3_Sales   1250\n",
       "6  2023  Q4_Sales   1150\n",
       "7  2024  Q4_Sales   1350"
      ]
     },
     "execution_count": 50,
     "metadata": {},
     "output_type": "execute_result"
    }
   ],
   "source": [
    "melted_all"
   ]
  },
  {
   "cell_type": "markdown",
   "id": "d50a9295-03e6-4c6e-a7cf-4160549bb300",
   "metadata": {},
   "source": [
    "##### 4.stack() and unstack(): Working with MultiIndex"
   ]
  },
  {
   "cell_type": "code",
   "execution_count": 55,
   "id": "160225f7-4025-4695-a430-a0bfbd3723a1",
   "metadata": {},
   "outputs": [
    {
     "name": "stdout",
     "output_type": "stream",
     "text": [
      "DataFrame before stack():\n",
      "                   Quantity              Sales              \n",
      "Product                   A     B     C      A      B      C\n",
      "Date       City                                             \n",
      "2024-01-01 Delhi        NaN  15.0   NaN    NaN  150.0    NaN\n",
      "           Mumbai      10.0   NaN   NaN  100.0    NaN    NaN\n",
      "2024-01-02 Delhi        NaN   NaN  20.0    NaN    NaN  200.0\n",
      "           Mumbai      12.0   NaN   NaN  120.0    NaN    NaN\n",
      "2024-01-03 Chennai      NaN  18.0   NaN    NaN  180.0    NaN\n",
      "------------------------------\n"
     ]
    }
   ],
   "source": [
    "# Example 1: stack() - Columns to rows\n",
    "\n",
    "# Use the pivot_table_multi_agg from above, which has a MultiIndex on columns\n",
    "print(\"DataFrame before stack():\")\n",
    "print(pivot_table_multi_agg)\n",
    "print(\"-\" * 30)"
   ]
  },
  {
   "cell_type": "code",
   "execution_count": 59,
   "id": "1e6dddb6-dd38-4342-8a7c-7c9752c963a2",
   "metadata": {},
   "outputs": [
    {
     "name": "stdout",
     "output_type": "stream",
     "text": [
      "4. Using stack():\n",
      "                            Quantity  Sales\n",
      "Date       City    Product                 \n",
      "2024-01-01 Delhi   A             NaN    NaN\n",
      "                   B            15.0  150.0\n",
      "                   C             NaN    NaN\n",
      "           Mumbai  A            10.0  100.0\n",
      "                   B             NaN    NaN\n",
      "                   C             NaN    NaN\n",
      "2024-01-02 Delhi   A             NaN    NaN\n",
      "                   B             NaN    NaN\n",
      "                   C            20.0  200.0\n",
      "           Mumbai  A            12.0  120.0\n",
      "                   B             NaN    NaN\n",
      "                   C             NaN    NaN\n",
      "2024-01-03 Chennai A             NaN    NaN\n",
      "                   B            18.0  180.0\n",
      "                   C             NaN    NaN\n",
      "------------------------------\n"
     ]
    }
   ],
   "source": [
    "stacked_df = pivot_table_multi_agg.stack(future_stack=True)\n",
    "print(\"4. Using stack():\")\n",
    "print(stacked_df)\n",
    "print(\"-\" * 30)"
   ]
  },
  {
   "cell_type": "code",
   "execution_count": 61,
   "id": "9776b169-f551-41c0-825c-0fae6f365ab0",
   "metadata": {},
   "outputs": [
    {
     "data": {
      "text/html": [
       "<div>\n",
       "<style scoped>\n",
       "    .dataframe tbody tr th:only-of-type {\n",
       "        vertical-align: middle;\n",
       "    }\n",
       "\n",
       "    .dataframe tbody tr th {\n",
       "        vertical-align: top;\n",
       "    }\n",
       "\n",
       "    .dataframe thead th {\n",
       "        text-align: right;\n",
       "    }\n",
       "</style>\n",
       "<table border=\"1\" class=\"dataframe\">\n",
       "  <thead>\n",
       "    <tr style=\"text-align: right;\">\n",
       "      <th></th>\n",
       "      <th></th>\n",
       "      <th></th>\n",
       "      <th>Quantity</th>\n",
       "      <th>Sales</th>\n",
       "    </tr>\n",
       "    <tr>\n",
       "      <th>Date</th>\n",
       "      <th>City</th>\n",
       "      <th>Product</th>\n",
       "      <th></th>\n",
       "      <th></th>\n",
       "    </tr>\n",
       "  </thead>\n",
       "  <tbody>\n",
       "    <tr>\n",
       "      <th rowspan=\"6\" valign=\"top\">2024-01-01</th>\n",
       "      <th rowspan=\"3\" valign=\"top\">Delhi</th>\n",
       "      <th>A</th>\n",
       "      <td>NaN</td>\n",
       "      <td>NaN</td>\n",
       "    </tr>\n",
       "    <tr>\n",
       "      <th>B</th>\n",
       "      <td>15.0</td>\n",
       "      <td>150.0</td>\n",
       "    </tr>\n",
       "    <tr>\n",
       "      <th>C</th>\n",
       "      <td>NaN</td>\n",
       "      <td>NaN</td>\n",
       "    </tr>\n",
       "    <tr>\n",
       "      <th rowspan=\"3\" valign=\"top\">Mumbai</th>\n",
       "      <th>A</th>\n",
       "      <td>10.0</td>\n",
       "      <td>100.0</td>\n",
       "    </tr>\n",
       "    <tr>\n",
       "      <th>B</th>\n",
       "      <td>NaN</td>\n",
       "      <td>NaN</td>\n",
       "    </tr>\n",
       "    <tr>\n",
       "      <th>C</th>\n",
       "      <td>NaN</td>\n",
       "      <td>NaN</td>\n",
       "    </tr>\n",
       "    <tr>\n",
       "      <th rowspan=\"6\" valign=\"top\">2024-01-02</th>\n",
       "      <th rowspan=\"3\" valign=\"top\">Delhi</th>\n",
       "      <th>A</th>\n",
       "      <td>NaN</td>\n",
       "      <td>NaN</td>\n",
       "    </tr>\n",
       "    <tr>\n",
       "      <th>B</th>\n",
       "      <td>NaN</td>\n",
       "      <td>NaN</td>\n",
       "    </tr>\n",
       "    <tr>\n",
       "      <th>C</th>\n",
       "      <td>20.0</td>\n",
       "      <td>200.0</td>\n",
       "    </tr>\n",
       "    <tr>\n",
       "      <th rowspan=\"3\" valign=\"top\">Mumbai</th>\n",
       "      <th>A</th>\n",
       "      <td>12.0</td>\n",
       "      <td>120.0</td>\n",
       "    </tr>\n",
       "    <tr>\n",
       "      <th>B</th>\n",
       "      <td>NaN</td>\n",
       "      <td>NaN</td>\n",
       "    </tr>\n",
       "    <tr>\n",
       "      <th>C</th>\n",
       "      <td>NaN</td>\n",
       "      <td>NaN</td>\n",
       "    </tr>\n",
       "    <tr>\n",
       "      <th rowspan=\"3\" valign=\"top\">2024-01-03</th>\n",
       "      <th rowspan=\"3\" valign=\"top\">Chennai</th>\n",
       "      <th>A</th>\n",
       "      <td>NaN</td>\n",
       "      <td>NaN</td>\n",
       "    </tr>\n",
       "    <tr>\n",
       "      <th>B</th>\n",
       "      <td>18.0</td>\n",
       "      <td>180.0</td>\n",
       "    </tr>\n",
       "    <tr>\n",
       "      <th>C</th>\n",
       "      <td>NaN</td>\n",
       "      <td>NaN</td>\n",
       "    </tr>\n",
       "  </tbody>\n",
       "</table>\n",
       "</div>"
      ],
      "text/plain": [
       "                            Quantity  Sales\n",
       "Date       City    Product                 \n",
       "2024-01-01 Delhi   A             NaN    NaN\n",
       "                   B            15.0  150.0\n",
       "                   C             NaN    NaN\n",
       "           Mumbai  A            10.0  100.0\n",
       "                   B             NaN    NaN\n",
       "                   C             NaN    NaN\n",
       "2024-01-02 Delhi   A             NaN    NaN\n",
       "                   B             NaN    NaN\n",
       "                   C            20.0  200.0\n",
       "           Mumbai  A            12.0  120.0\n",
       "                   B             NaN    NaN\n",
       "                   C             NaN    NaN\n",
       "2024-01-03 Chennai A             NaN    NaN\n",
       "                   B            18.0  180.0\n",
       "                   C             NaN    NaN"
      ]
     },
     "execution_count": 61,
     "metadata": {},
     "output_type": "execute_result"
    }
   ],
   "source": [
    "stacked_df"
   ]
  },
  {
   "cell_type": "code",
   "execution_count": 79,
   "id": "7d31b158-d41f-4f03-9407-f460b202f497",
   "metadata": {},
   "outputs": [
    {
     "name": "stdout",
     "output_type": "stream",
     "text": [
      "DataFrame before unstack() (MultiIndex on columns):\n",
      "Product                 A      B      C\n",
      "Date       City                        \n",
      "2024-01-01 Delhi      NaN  150.0    NaN\n",
      "           Mumbai   100.0    NaN    NaN\n",
      "2024-01-02 Delhi      NaN    NaN  200.0\n",
      "           Mumbai   120.0    NaN    NaN\n",
      "2024-01-03 Chennai    NaN  180.0    NaN\n",
      "------------------------------\n"
     ]
    }
   ],
   "source": [
    "# Example 2: unstack() - Rows to columns\n",
    "\n",
    "# create a DataFrame with MultiIndex on rows\n",
    "df_multi_index_row = df.set_index(['Date', 'City', 'Product'])['Sales'].unstack()\n",
    "print(\"DataFrame before unstack() (MultiIndex on columns):\")\n",
    "print(df_multi_index_row)\n",
    "print(\"-\" * 30)"
   ]
  },
  {
   "cell_type": "code",
   "execution_count": 81,
   "id": "2327aaeb-cd3d-487e-951a-ba17085adb54",
   "metadata": {},
   "outputs": [
    {
     "data": {
      "text/html": [
       "<div>\n",
       "<style scoped>\n",
       "    .dataframe tbody tr th:only-of-type {\n",
       "        vertical-align: middle;\n",
       "    }\n",
       "\n",
       "    .dataframe tbody tr th {\n",
       "        vertical-align: top;\n",
       "    }\n",
       "\n",
       "    .dataframe thead th {\n",
       "        text-align: right;\n",
       "    }\n",
       "</style>\n",
       "<table border=\"1\" class=\"dataframe\">\n",
       "  <thead>\n",
       "    <tr style=\"text-align: right;\">\n",
       "      <th></th>\n",
       "      <th>Product</th>\n",
       "      <th>A</th>\n",
       "      <th>B</th>\n",
       "      <th>C</th>\n",
       "    </tr>\n",
       "    <tr>\n",
       "      <th>Date</th>\n",
       "      <th>City</th>\n",
       "      <th></th>\n",
       "      <th></th>\n",
       "      <th></th>\n",
       "    </tr>\n",
       "  </thead>\n",
       "  <tbody>\n",
       "    <tr>\n",
       "      <th rowspan=\"2\" valign=\"top\">2024-01-01</th>\n",
       "      <th>Delhi</th>\n",
       "      <td>NaN</td>\n",
       "      <td>150.0</td>\n",
       "      <td>NaN</td>\n",
       "    </tr>\n",
       "    <tr>\n",
       "      <th>Mumbai</th>\n",
       "      <td>100.0</td>\n",
       "      <td>NaN</td>\n",
       "      <td>NaN</td>\n",
       "    </tr>\n",
       "    <tr>\n",
       "      <th rowspan=\"2\" valign=\"top\">2024-01-02</th>\n",
       "      <th>Delhi</th>\n",
       "      <td>NaN</td>\n",
       "      <td>NaN</td>\n",
       "      <td>200.0</td>\n",
       "    </tr>\n",
       "    <tr>\n",
       "      <th>Mumbai</th>\n",
       "      <td>120.0</td>\n",
       "      <td>NaN</td>\n",
       "      <td>NaN</td>\n",
       "    </tr>\n",
       "    <tr>\n",
       "      <th>2024-01-03</th>\n",
       "      <th>Chennai</th>\n",
       "      <td>NaN</td>\n",
       "      <td>180.0</td>\n",
       "      <td>NaN</td>\n",
       "    </tr>\n",
       "  </tbody>\n",
       "</table>\n",
       "</div>"
      ],
      "text/plain": [
       "Product                 A      B      C\n",
       "Date       City                        \n",
       "2024-01-01 Delhi      NaN  150.0    NaN\n",
       "           Mumbai   100.0    NaN    NaN\n",
       "2024-01-02 Delhi      NaN    NaN  200.0\n",
       "           Mumbai   120.0    NaN    NaN\n",
       "2024-01-03 Chennai    NaN  180.0    NaN"
      ]
     },
     "execution_count": 81,
     "metadata": {},
     "output_type": "execute_result"
    }
   ],
   "source": [
    "df_multi_index_row"
   ]
  },
  {
   "cell_type": "code",
   "execution_count": 83,
   "id": "9c6033e6-c565-4a8f-abb5-b434574bed8a",
   "metadata": {},
   "outputs": [
    {
     "name": "stdout",
     "output_type": "stream",
     "text": [
      "4. Using unstack():\n",
      "Product          A                    B                     C              \n",
      "City       Chennai Delhi Mumbai Chennai  Delhi Mumbai Chennai  Delhi Mumbai\n",
      "Date                                                                       \n",
      "2024-01-01     NaN   NaN  100.0     NaN  150.0    NaN     NaN    NaN    NaN\n",
      "2024-01-02     NaN   NaN  120.0     NaN    NaN    NaN     NaN  200.0    NaN\n",
      "2024-01-03     NaN   NaN    NaN   180.0    NaN    NaN     NaN    NaN    NaN\n",
      "------------------------------\n"
     ]
    }
   ],
   "source": [
    "unstacked_df = df_multi_index_row.unstack(level='City') # Unstack 'City' level from the row index\n",
    "print(\"4. Using unstack():\")\n",
    "print(unstacked_df)\n",
    "print(\"-\" * 30)"
   ]
  },
  {
   "cell_type": "code",
   "execution_count": 85,
   "id": "84e88cbe-180c-4e09-8546-1d5280104794",
   "metadata": {},
   "outputs": [
    {
     "data": {
      "text/html": [
       "<div>\n",
       "<style scoped>\n",
       "    .dataframe tbody tr th:only-of-type {\n",
       "        vertical-align: middle;\n",
       "    }\n",
       "\n",
       "    .dataframe tbody tr th {\n",
       "        vertical-align: top;\n",
       "    }\n",
       "\n",
       "    .dataframe thead tr th {\n",
       "        text-align: left;\n",
       "    }\n",
       "\n",
       "    .dataframe thead tr:last-of-type th {\n",
       "        text-align: right;\n",
       "    }\n",
       "</style>\n",
       "<table border=\"1\" class=\"dataframe\">\n",
       "  <thead>\n",
       "    <tr>\n",
       "      <th>Product</th>\n",
       "      <th colspan=\"3\" halign=\"left\">A</th>\n",
       "      <th colspan=\"3\" halign=\"left\">B</th>\n",
       "      <th colspan=\"3\" halign=\"left\">C</th>\n",
       "    </tr>\n",
       "    <tr>\n",
       "      <th>City</th>\n",
       "      <th>Chennai</th>\n",
       "      <th>Delhi</th>\n",
       "      <th>Mumbai</th>\n",
       "      <th>Chennai</th>\n",
       "      <th>Delhi</th>\n",
       "      <th>Mumbai</th>\n",
       "      <th>Chennai</th>\n",
       "      <th>Delhi</th>\n",
       "      <th>Mumbai</th>\n",
       "    </tr>\n",
       "    <tr>\n",
       "      <th>Date</th>\n",
       "      <th></th>\n",
       "      <th></th>\n",
       "      <th></th>\n",
       "      <th></th>\n",
       "      <th></th>\n",
       "      <th></th>\n",
       "      <th></th>\n",
       "      <th></th>\n",
       "      <th></th>\n",
       "    </tr>\n",
       "  </thead>\n",
       "  <tbody>\n",
       "    <tr>\n",
       "      <th>2024-01-01</th>\n",
       "      <td>NaN</td>\n",
       "      <td>NaN</td>\n",
       "      <td>100.0</td>\n",
       "      <td>NaN</td>\n",
       "      <td>150.0</td>\n",
       "      <td>NaN</td>\n",
       "      <td>NaN</td>\n",
       "      <td>NaN</td>\n",
       "      <td>NaN</td>\n",
       "    </tr>\n",
       "    <tr>\n",
       "      <th>2024-01-02</th>\n",
       "      <td>NaN</td>\n",
       "      <td>NaN</td>\n",
       "      <td>120.0</td>\n",
       "      <td>NaN</td>\n",
       "      <td>NaN</td>\n",
       "      <td>NaN</td>\n",
       "      <td>NaN</td>\n",
       "      <td>200.0</td>\n",
       "      <td>NaN</td>\n",
       "    </tr>\n",
       "    <tr>\n",
       "      <th>2024-01-03</th>\n",
       "      <td>NaN</td>\n",
       "      <td>NaN</td>\n",
       "      <td>NaN</td>\n",
       "      <td>180.0</td>\n",
       "      <td>NaN</td>\n",
       "      <td>NaN</td>\n",
       "      <td>NaN</td>\n",
       "      <td>NaN</td>\n",
       "      <td>NaN</td>\n",
       "    </tr>\n",
       "  </tbody>\n",
       "</table>\n",
       "</div>"
      ],
      "text/plain": [
       "Product          A                    B                     C              \n",
       "City       Chennai Delhi Mumbai Chennai  Delhi Mumbai Chennai  Delhi Mumbai\n",
       "Date                                                                       \n",
       "2024-01-01     NaN   NaN  100.0     NaN  150.0    NaN     NaN    NaN    NaN\n",
       "2024-01-02     NaN   NaN  120.0     NaN    NaN    NaN     NaN  200.0    NaN\n",
       "2024-01-03     NaN   NaN    NaN   180.0    NaN    NaN     NaN    NaN    NaN"
      ]
     },
     "execution_count": 85,
     "metadata": {},
     "output_type": "execute_result"
    }
   ],
   "source": [
    "unstacked_df"
   ]
  },
  {
   "cell_type": "code",
   "execution_count": null,
   "id": "1485f3fd-6478-49d9-9dac-ef7daaad86a1",
   "metadata": {},
   "outputs": [],
   "source": []
  }
 ],
 "metadata": {
  "kernelspec": {
   "display_name": "Python [conda env:base] *",
   "language": "python",
   "name": "conda-base-py"
  },
  "language_info": {
   "codemirror_mode": {
    "name": "ipython",
    "version": 3
   },
   "file_extension": ".py",
   "mimetype": "text/x-python",
   "name": "python",
   "nbconvert_exporter": "python",
   "pygments_lexer": "ipython3",
   "version": "3.12.7"
  }
 },
 "nbformat": 4,
 "nbformat_minor": 5
}
