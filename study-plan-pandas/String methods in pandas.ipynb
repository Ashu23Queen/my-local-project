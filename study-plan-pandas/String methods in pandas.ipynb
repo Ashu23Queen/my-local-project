{
 "cells": [
  {
   "cell_type": "code",
   "execution_count": 4,
   "id": "362f307b-e002-4907-afb5-48f42dacf0a3",
   "metadata": {},
   "outputs": [],
   "source": [
    "import pandas as pd\n"
   ]
  },
  {
   "cell_type": "code",
   "execution_count": 6,
   "id": "d1a10733-13db-4173-aa2e-9ef66593db89",
   "metadata": {},
   "outputs": [
    {
     "name": "stdout",
     "output_type": "stream",
     "text": [
      "Original DataFrame:\n",
      "   employee_id    name  salary\n",
      "0            2    Ashu    3000\n",
      "1            3   Mihir    3800\n",
      "2            7     Adi    7400\n",
      "3            8   Junan    6100\n",
      "4            9  Kannon    7700\n",
      "\n",
      "\n"
     ]
    }
   ],
   "source": [
    "data2 = {\n",
    "    'employee_id': [2, 3, 7, 8, 9],\n",
    "    'name': ['Ashu', 'Mihir', 'Adi', 'Junan', 'Kannon'],\n",
    "    'salary': [3000, 3800, 7400, 6100, 7700]\n",
    "}\n",
    "employees_df = pd.DataFrame(data2)\n",
    "\n",
    "print(\"Original DataFrame:\")\n",
    "print(employees_df)\n",
    "print(\"\\n\") "
   ]
  },
  {
   "cell_type": "code",
   "execution_count": 8,
   "id": "c3e72c07-ad13-4919-a2f9-e01cf5e14b4a",
   "metadata": {},
   "outputs": [
    {
     "name": "stdout",
     "output_type": "stream",
     "text": [
      "\n",
      "Names and Salaries:\n",
      "\n",
      "     name  salary\n",
      "0    Ashu    3000\n",
      "1   Mihir    3800\n",
      "2     Adi    7400\n",
      "3   Junan    6100\n",
      "4  Kannon    7700\n",
      "\n",
      "\n"
     ]
    }
   ],
   "source": [
    "# 1. Select 'name' and 'salary' columns\n",
    "name_salary = employees_df[['name', 'salary']]\n",
    "print(\"\\nNames and Salaries:\\n\")\n",
    "print(name_salary)\n",
    "print(\"\\n\")  \n"
   ]
  },
  {
   "cell_type": "markdown",
   "id": "7ccb1aa6-69bc-47f9-a884-e55595179e2f",
   "metadata": {},
   "source": [
    "#####  Filter rows based on a condition:"
   ]
  },
  {
   "cell_type": "code",
   "execution_count": 13,
   "id": "d80bc1d6-cccd-4b55-a7f9-99a23d9fbdae",
   "metadata": {},
   "outputs": [
    {
     "name": "stdout",
     "output_type": "stream",
     "text": [
      "Employees with salary > 5000:\n",
      "   employee_id    name  salary\n",
      "2            7     Adi    7400\n",
      "3            8   Junan    6100\n",
      "4            9  Kannon    7700\n",
      "\n",
      "\n"
     ]
    }
   ],
   "source": [
    "# Employees with salary greater than 5000\n",
    "high_earners = employees_df[employees_df['salary'] > 5000] \n",
    "print(\"Employees with salary > 5000:\")\n",
    "print(high_earners)\n",
    "print(\"\\n\")\n"
   ]
  },
  {
   "cell_type": "code",
   "execution_count": 15,
   "id": "e6e02e53-f2d2-47b0-9576-3bee057b58b1",
   "metadata": {},
   "outputs": [
    {
     "name": "stdout",
     "output_type": "stream",
     "text": [
      "Employee named 'Adi':\n",
      "   employee_id name  salary\n",
      "2            7  Adi    7400\n",
      "\n",
      "\n"
     ]
    }
   ],
   "source": [
    "# Employees named 'Adi'\n",
    "adi = employees_df[employees_df['name'] == 'Adi']\n",
    "print(\"Employee named 'Adi':\")\n",
    "print(adi)\n",
    "print(\"\\n\")"
   ]
  },
  {
   "cell_type": "markdown",
   "id": "20e99c1b-e525-4a66-89a8-9bfca759a83a",
   "metadata": {},
   "source": [
    "#####  Filter rows based on multiple conditions (AND, OR):"
   ]
  },
  {
   "cell_type": "code",
   "execution_count": 18,
   "id": "de12a89c-572b-4292-a922-1bc1a84f4f57",
   "metadata": {},
   "outputs": [
    {
     "name": "stdout",
     "output_type": "stream",
     "text": [
      "Employees with salary between 3000 and 7000:\n",
      "   employee_id   name  salary\n",
      "0            2   Ashu    3000\n",
      "1            3  Mihir    3800\n",
      "3            8  Junan    6100\n",
      "\n",
      "\n"
     ]
    }
   ],
   "source": [
    "mid_range_salary = employees_df[(employees_df['salary'] >= 3000) & (employees_df['salary'] <= 7000)]\n",
    "print(\"Employees with salary between 3000 and 7000:\")\n",
    "print(mid_range_salary)\n",
    "print(\"\\n\")"
   ]
  },
  {
   "cell_type": "code",
   "execution_count": 20,
   "id": "5e58475e-1f21-44ea-915b-d5f7c36989cf",
   "metadata": {},
   "outputs": [
    {
     "name": "stdout",
     "output_type": "stream",
     "text": [
      "Employees named 'Ashu' or 'Kannon':\n",
      "   employee_id    name  salary\n",
      "0            2    Ashu    3000\n",
      "4            9  Kannon    7700\n",
      "\n",
      "\n"
     ]
    }
   ],
   "source": [
    "# Employees named 'Ashu' OR 'Kannon'\n",
    "specific_names = employees_df[(employees_df['name'] == 'Ashu') | (employees_df['name'] == 'Kannon')]\n",
    "print(\"Employees named 'Ashu' or 'Kannon':\")\n",
    "print(specific_names)\n",
    "print(\"\\n\")\n"
   ]
  },
  {
   "cell_type": "markdown",
   "id": "ba7d2857-62b3-4652-965e-373bbd65cef0",
   "metadata": {},
   "source": [
    "##### Sort the DataFrame:"
   ]
  },
  {
   "cell_type": "code",
   "execution_count": 27,
   "id": "40c6a380-cb57-468e-a720-078f4f5c8354",
   "metadata": {},
   "outputs": [
    {
     "name": "stdout",
     "output_type": "stream",
     "text": [
      "Employees sorted by salary (ascending):\n",
      "   employee_id    name  salary\n",
      "0            2    Ashu    3000\n",
      "1            3   Mihir    3800\n",
      "3            8   Junan    6100\n",
      "2            7     Adi    7400\n",
      "4            9  Kannon    7700\n",
      "\n",
      "\n"
     ]
    }
   ],
   "source": [
    "# Sort by salary in ascending order\n",
    "sorted_salary_asc = employees_df.sort_values(by='salary')\n",
    "print(\"Employees sorted by salary (ascending):\")\n",
    "print(sorted_salary_asc)\n",
    "print(\"\\n\")"
   ]
  },
  {
   "cell_type": "code",
   "execution_count": 29,
   "id": "116ff2ae-5566-4b6c-bf0b-6ecd985e1630",
   "metadata": {},
   "outputs": [
    {
     "name": "stdout",
     "output_type": "stream",
     "text": [
      "Employees sorted by salary (descending):\n",
      "   employee_id    name  salary\n",
      "4            9  Kannon    7700\n",
      "2            7     Adi    7400\n",
      "3            8   Junan    6100\n",
      "1            3   Mihir    3800\n",
      "0            2    Ashu    3000\n",
      "\n",
      "\n"
     ]
    }
   ],
   "source": [
    "# Sort by salary in descending order\n",
    "sorted_salary_desc = employees_df.sort_values(by='salary', ascending=False)\n",
    "print(\"Employees sorted by salary (descending):\")\n",
    "print(sorted_salary_desc)\n",
    "print(\"\\n\")"
   ]
  },
  {
   "cell_type": "markdown",
   "id": "81ad234d-6c41-4a1f-b34b-2ea672e4b642",
   "metadata": {},
   "source": [
    "#####  Get descriptive statistics:"
   ]
  },
  {
   "cell_type": "code",
   "execution_count": 34,
   "id": "a7fdfde9-ef2f-4ce1-be4d-b9b6d8536e5d",
   "metadata": {},
   "outputs": [
    {
     "name": "stdout",
     "output_type": "stream",
     "text": [
      "Salary Statistics:\n",
      "count       5.00000\n",
      "mean     5600.00000\n",
      "std      2115.41958\n",
      "min      3000.00000\n",
      "25%      3800.00000\n",
      "50%      6100.00000\n",
      "75%      7400.00000\n",
      "max      7700.00000\n",
      "Name: salary, dtype: float64\n",
      "\n",
      "\n"
     ]
    }
   ],
   "source": [
    "# Descriptive statistics for salary\n",
    "salary_statistics = employees_df['salary'].describe()\n",
    "print(\"Salary Statistics:\")\n",
    "print(salary_statistics) \n",
    "print(\"\\n\")"
   ]
  },
  {
   "cell_type": "markdown",
   "id": "3a28f46c-fc5a-4b1c-b5bf-64866597bd90",
   "metadata": {},
   "source": [
    "##### Case Conversion"
   ]
  },
  {
   "cell_type": "code",
   "execution_count": 45,
   "id": "d8760965-99cf-4c5e-a280-7d2495f592d3",
   "metadata": {},
   "outputs": [
    {
     "name": "stdout",
     "output_type": "stream",
     "text": [
      "Product Names in (Lowercase):\n",
      "     name names_lower\n",
      "0    Ashu        ashu\n",
      "1   Mihir       mihir\n",
      "2     Adi         adi\n",
      "3   Junan       junan\n",
      "4  Kannon      kannon\n",
      "\n",
      "\n"
     ]
    }
   ],
   "source": [
    "# Convert product names to lowercase\n",
    "employees_df['names_lower'] = employees_df['name'].str.lower()\n",
    "print(\"Product Names in (Lowercase):\")\n",
    "print(employees_df[['name', 'names_lower']])\n",
    "print(\"\\n\")"
   ]
  },
  {
   "cell_type": "code",
   "execution_count": 49,
   "id": "1df69bbf-4e23-429c-a963-6d3b2aef630b",
   "metadata": {},
   "outputs": [
    {
     "name": "stdout",
     "output_type": "stream",
     "text": [
      "Product Names in (capitalize):\n",
      "     name names_capialize\n",
      "0    Ashu            Ashu\n",
      "1   Mihir           Mihir\n",
      "2     Adi             Adi\n",
      "3   Junan           Junan\n",
      "4  Kannon          Kannon\n",
      "\n",
      "\n"
     ]
    }
   ],
   "source": [
    "# Capitalize   \n",
    "employees_df['names_capialize'] = employees_df['name'].str.capitalize()\n",
    "print(\"Product Names in (capitalize):\")\n",
    "print(employees_df[['name', 'names_capialize']])\n",
    "print(\"\\n\")"
   ]
  },
  {
   "cell_type": "code",
   "execution_count": null,
   "id": "120961cc-436f-46e4-a11f-020ff6a6405a",
   "metadata": {},
   "outputs": [],
   "source": []
  },
  {
   "cell_type": "markdown",
   "id": "7f3d5fc6-44ea-4a87-bb5b-b1697500135a",
   "metadata": {},
   "source": [
    "####  Vectorized Operations"
   ]
  },
  {
   "cell_type": "markdown",
   "id": "810b4c58-32e2-49cf-b019-3f2154c9f8fd",
   "metadata": {},
   "source": [
    "<b>Arithmetic Operations</b>"
   ]
  },
  {
   "cell_type": "code",
   "execution_count": 54,
   "id": "89d196a4-ea0e-4d2a-aa95-f0775c3fb18e",
   "metadata": {},
   "outputs": [
    {
     "name": "stdout",
     "output_type": "stream",
     "text": [
      "Salaries after 10% raise:\n",
      "     name  salary  salary_after_raise\n",
      "0    Ashu    3000              3300.0\n",
      "1   Mihir    3800              4180.0\n",
      "2     Adi    7400              8140.0\n",
      "3   Junan    6100              6710.0\n",
      "4  Kannon    7700              8470.0\n",
      "\n",
      "\n"
     ]
    }
   ],
   "source": [
    "# Give every employee a 10% raise \n",
    "employees_df['salary_after_raise'] = employees_df['salary'] * 1.10\n",
    "print(\"Salaries after 10% raise:\")\n",
    "print(employees_df[['name', 'salary', 'salary_after_raise']])\n",
    "print(\"\\n\") "
   ]
  },
  {
   "cell_type": "code",
   "execution_count": 58,
   "id": "aba210e0-6426-48bc-91f0-7fa53ce37b21",
   "metadata": {},
   "outputs": [
    {
     "name": "stdout",
     "output_type": "stream",
     "text": [
      "Salaries with a 1000 bonus:\n",
      "     name  salary  bonus_salary\n",
      "0    Ashu    3000          4000\n",
      "1   Mihir    3800          4800\n",
      "2     Adi    7400          8400\n",
      "3   Junan    6100          7100\n",
      "4  Kannon    7700          8700\n",
      "\n",
      "\n"
     ]
    }
   ],
   "source": [
    "# Calculate a bonus of 500 for everyone\n",
    "employees_df['bonus_salary'] = employees_df['salary'] + 1000\n",
    "print(\"Salaries with a 1000 bonus:\")\n",
    "print(employees_df[['name', 'salary', 'bonus_salary']])\n",
    "print(\"\\n\") "
   ]
  },
  {
   "cell_type": "code",
   "execution_count": null,
   "id": "b5776467-b291-4513-9f66-c2b99fc6c1b0",
   "metadata": {},
   "outputs": [],
   "source": []
  },
  {
   "cell_type": "markdown",
   "id": "41f33939-66c5-4878-8f22-fbac84d64847",
   "metadata": {},
   "source": [
    "##### Fix strings in Proper format"
   ]
  },
  {
   "cell_type": "code",
   "execution_count": 12,
   "id": "0e4dd79f-2eb4-48e9-8e85-ce4ceba01c63",
   "metadata": {},
   "outputs": [
    {
     "name": "stdout",
     "output_type": "stream",
     "text": [
      "Original DataFrame:\n",
      "   user_id   name\n",
      "0        2   aShu\n",
      "1        1  mIHir\n"
     ]
    }
   ],
   "source": [
    "# 1. Create the DataFrame  \n",
    "data3 = {'user_id': [2, 1],\n",
    "        'name': ['aShu', 'mIHir']}\n",
    "users_df = pd.DataFrame(data3)\n",
    "\n",
    "print(\"Original DataFrame:\")\n",
    "print(users_df)"
   ]
  },
  {
   "cell_type": "code",
   "execution_count": 38,
   "id": "52c497e4-559e-4102-8bab-0cbe750e8330",
   "metadata": {},
   "outputs": [
    {
     "name": "stdout",
     "output_type": "stream",
     "text": [
      "\n",
      "DataFrame with capitalized names:\n",
      "   user_id   name\n",
      "0        2   Ashu\n",
      "1        1  Mihir\n"
     ]
    }
   ],
   "source": [
    "# 2. Capitalize the 'name' column \n",
    "users_df['name'] = users_df['name'].str.capitalize()\n",
    "\n",
    "print(\"\\nDataFrame with capitalized names:\")\n",
    "print(users_df)"
   ]
  },
  {
   "cell_type": "code",
   "execution_count": 40,
   "id": "06950ff3-a1f1-431b-af9d-655a150ffa6b",
   "metadata": {},
   "outputs": [
    {
     "name": "stdout",
     "output_type": "stream",
     "text": [
      "\n",
      "DataFrame Sorted by User ID:\n",
      "   user_id   name\n",
      "1        1  Mihir\n",
      "0        2   Ashu\n"
     ]
    }
   ],
   "source": [
    "# 3. Sort the DataFrame by 'user_id' \n",
    "users_df_sorted = users_df.sort_values(by='user_id')\n",
    "\n",
    "print(\"\\nDataFrame Sorted by User ID:\")\n",
    "print(users_df_sorted)"
   ]
  },
  {
   "cell_type": "code",
   "execution_count": null,
   "id": "4ddda925-1fb4-420f-8375-c3c2f18072c8",
   "metadata": {},
   "outputs": [],
   "source": []
  }
 ],
 "metadata": {
  "kernelspec": {
   "display_name": "Python [conda env:base] *",
   "language": "python",
   "name": "conda-base-py"
  },
  "language_info": {
   "codemirror_mode": {
    "name": "ipython",
    "version": 3
   },
   "file_extension": ".py",
   "mimetype": "text/x-python",
   "name": "python",
   "nbconvert_exporter": "python",
   "pygments_lexer": "ipython3",
   "version": "3.12.7"
  }
 },
 "nbformat": 4,
 "nbformat_minor": 5
}
