{
 "cells": [
  {
   "cell_type": "code",
   "execution_count": 1,
   "id": "ed481e9b-16d6-4b4e-9465-8f7bc7fc771d",
   "metadata": {},
   "outputs": [],
   "source": [
    "import pandas as pd\n",
    "import numpy as np"
   ]
  },
  {
   "cell_type": "code",
   "execution_count": 3,
   "id": "0d0209f0-baef-4a03-bf9d-93f309ab3083",
   "metadata": {},
   "outputs": [],
   "source": [
    "# Sample DataFrame \n",
    "data = {\n",
    "    'Date': pd.to_datetime(['2023-01-01', '2023-01-01', '2023-01-02', '2023-01-02', '2023-01-01', '2023-01-02']),\n",
    "    'City': ['New York', 'Los Angeles', 'New York', 'Los Angeles', 'Chicago', 'Chicago'],\n",
    "    'Metric': ['Temperature', 'Temperature', 'Temperature', 'Temperature', 'Humidity', 'Humidity'],\n",
    "    'Value': [32, 75, 30, 77, 60, 65]\n",
    "}\n"
   ]
  },
  {
   "cell_type": "code",
   "execution_count": 5,
   "id": "90d7abcc-0f1f-49ff-a98e-fe8f00cde8b4",
   "metadata": {},
   "outputs": [],
   "source": [
    "df = pd.DataFrame(data)"
   ]
  },
  {
   "cell_type": "code",
   "execution_count": 7,
   "id": "12bef599-32ee-43da-b1e9-99a6d537bc20",
   "metadata": {},
   "outputs": [
    {
     "data": {
      "text/html": [
       "<div>\n",
       "<style scoped>\n",
       "    .dataframe tbody tr th:only-of-type {\n",
       "        vertical-align: middle;\n",
       "    }\n",
       "\n",
       "    .dataframe tbody tr th {\n",
       "        vertical-align: top;\n",
       "    }\n",
       "\n",
       "    .dataframe thead th {\n",
       "        text-align: right;\n",
       "    }\n",
       "</style>\n",
       "<table border=\"1\" class=\"dataframe\">\n",
       "  <thead>\n",
       "    <tr style=\"text-align: right;\">\n",
       "      <th></th>\n",
       "      <th>Date</th>\n",
       "      <th>City</th>\n",
       "      <th>Metric</th>\n",
       "      <th>Value</th>\n",
       "    </tr>\n",
       "  </thead>\n",
       "  <tbody>\n",
       "    <tr>\n",
       "      <th>0</th>\n",
       "      <td>2023-01-01</td>\n",
       "      <td>New York</td>\n",
       "      <td>Temperature</td>\n",
       "      <td>32</td>\n",
       "    </tr>\n",
       "    <tr>\n",
       "      <th>1</th>\n",
       "      <td>2023-01-01</td>\n",
       "      <td>Los Angeles</td>\n",
       "      <td>Temperature</td>\n",
       "      <td>75</td>\n",
       "    </tr>\n",
       "    <tr>\n",
       "      <th>2</th>\n",
       "      <td>2023-01-02</td>\n",
       "      <td>New York</td>\n",
       "      <td>Temperature</td>\n",
       "      <td>30</td>\n",
       "    </tr>\n",
       "    <tr>\n",
       "      <th>3</th>\n",
       "      <td>2023-01-02</td>\n",
       "      <td>Los Angeles</td>\n",
       "      <td>Temperature</td>\n",
       "      <td>77</td>\n",
       "    </tr>\n",
       "    <tr>\n",
       "      <th>4</th>\n",
       "      <td>2023-01-01</td>\n",
       "      <td>Chicago</td>\n",
       "      <td>Humidity</td>\n",
       "      <td>60</td>\n",
       "    </tr>\n",
       "    <tr>\n",
       "      <th>5</th>\n",
       "      <td>2023-01-02</td>\n",
       "      <td>Chicago</td>\n",
       "      <td>Humidity</td>\n",
       "      <td>65</td>\n",
       "    </tr>\n",
       "  </tbody>\n",
       "</table>\n",
       "</div>"
      ],
      "text/plain": [
       "        Date         City       Metric  Value\n",
       "0 2023-01-01     New York  Temperature     32\n",
       "1 2023-01-01  Los Angeles  Temperature     75\n",
       "2 2023-01-02     New York  Temperature     30\n",
       "3 2023-01-02  Los Angeles  Temperature     77\n",
       "4 2023-01-01      Chicago     Humidity     60\n",
       "5 2023-01-02      Chicago     Humidity     65"
      ]
     },
     "execution_count": 7,
     "metadata": {},
     "output_type": "execute_result"
    }
   ],
   "source": [
    "df"
   ]
  },
  {
   "cell_type": "code",
   "execution_count": 11,
   "id": "a42da974-cfba-408d-b3ad-7dd2b1402540",
   "metadata": {},
   "outputs": [
    {
     "name": "stdout",
     "output_type": "stream",
     "text": [
      "Original DataFrame:\n",
      "        Date         City       Metric  Value\n",
      "0 2023-01-01     New York  Temperature     32\n",
      "1 2023-01-01  Los Angeles  Temperature     75\n",
      "2 2023-01-02     New York  Temperature     30\n",
      "3 2023-01-02  Los Angeles  Temperature     77\n",
      "4 2023-01-01      Chicago     Humidity     60\n",
      "5 2023-01-02      Chicago     Humidity     65\n",
      "------------------------------\n"
     ]
    }
   ],
   "source": [
    "print(\"Original DataFrame:\")\n",
    "print(df)\n",
    "print(\"-\" * 30)"
   ]
  },
  {
   "cell_type": "markdown",
   "id": "e6654a96-27da-4160-9091-e0a2331b2aee",
   "metadata": {},
   "source": [
    "##### 1. Reshaping from Long to Wide Format"
   ]
  },
  {
   "cell_type": "code",
   "execution_count": 14,
   "id": "dee79bf1-6f82-4cf3-9392-41f2368bdbf3",
   "metadata": {},
   "outputs": [],
   "source": [
    "data_pivot = {\n",
    "    'Date': pd.to_datetime(['2023-01-01', '2023-01-01', '2023-01-02', '2023-01-02']),\n",
    "    'City': ['New York', 'Los Angeles', 'New York', 'Los Angeles'],\n",
    "    'Temperature': [32, 75, 30, 77]\n",
    "}\n",
    "df_pivot = pd.DataFrame(data_pivot)"
   ]
  },
  {
   "cell_type": "code",
   "execution_count": 18,
   "id": "a77a5e8b-234f-4633-ba34-067eb971f044",
   "metadata": {},
   "outputs": [
    {
     "data": {
      "text/html": [
       "<div>\n",
       "<style scoped>\n",
       "    .dataframe tbody tr th:only-of-type {\n",
       "        vertical-align: middle;\n",
       "    }\n",
       "\n",
       "    .dataframe tbody tr th {\n",
       "        vertical-align: top;\n",
       "    }\n",
       "\n",
       "    .dataframe thead th {\n",
       "        text-align: right;\n",
       "    }\n",
       "</style>\n",
       "<table border=\"1\" class=\"dataframe\">\n",
       "  <thead>\n",
       "    <tr style=\"text-align: right;\">\n",
       "      <th></th>\n",
       "      <th>Date</th>\n",
       "      <th>City</th>\n",
       "      <th>Temperature</th>\n",
       "    </tr>\n",
       "  </thead>\n",
       "  <tbody>\n",
       "    <tr>\n",
       "      <th>0</th>\n",
       "      <td>2023-01-01</td>\n",
       "      <td>New York</td>\n",
       "      <td>32</td>\n",
       "    </tr>\n",
       "    <tr>\n",
       "      <th>1</th>\n",
       "      <td>2023-01-01</td>\n",
       "      <td>Los Angeles</td>\n",
       "      <td>75</td>\n",
       "    </tr>\n",
       "    <tr>\n",
       "      <th>2</th>\n",
       "      <td>2023-01-02</td>\n",
       "      <td>New York</td>\n",
       "      <td>30</td>\n",
       "    </tr>\n",
       "    <tr>\n",
       "      <th>3</th>\n",
       "      <td>2023-01-02</td>\n",
       "      <td>Los Angeles</td>\n",
       "      <td>77</td>\n",
       "    </tr>\n",
       "  </tbody>\n",
       "</table>\n",
       "</div>"
      ],
      "text/plain": [
       "        Date         City  Temperature\n",
       "0 2023-01-01     New York           32\n",
       "1 2023-01-01  Los Angeles           75\n",
       "2 2023-01-02     New York           30\n",
       "3 2023-01-02  Los Angeles           77"
      ]
     },
     "execution_count": 18,
     "metadata": {},
     "output_type": "execute_result"
    }
   ],
   "source": [
    "df_pivot"
   ]
  },
  {
   "cell_type": "code",
   "execution_count": 20,
   "id": "07d501d6-f565-45b9-bbe7-d7def413d8da",
   "metadata": {},
   "outputs": [
    {
     "name": "stdout",
     "output_type": "stream",
     "text": [
      "DataFrame for pivot():\n",
      "        Date         City  Temperature\n",
      "0 2023-01-01     New York           32\n",
      "1 2023-01-01  Los Angeles           75\n",
      "2 2023-01-02     New York           30\n",
      "3 2023-01-02  Los Angeles           77\n",
      "------------------------------\n"
     ]
    }
   ],
   "source": [
    "print(\"DataFrame for pivot():\")\n",
    "print(df_pivot)\n",
    "print(\"-\" * 30)"
   ]
  },
  {
   "cell_type": "code",
   "execution_count": 24,
   "id": "56c75ed3-ea7f-47a5-8d8d-3918ab622a6a",
   "metadata": {},
   "outputs": [
    {
     "name": "stdout",
     "output_type": "stream",
     "text": [
      "Pivoted DataFrame:\n",
      "City        Los Angeles  New York\n",
      "Date                             \n",
      "2023-01-01           75        32\n",
      "2023-01-02           77        30\n",
      "------------------------------\n"
     ]
    }
   ],
   "source": [
    "# Pivot the DataFrame\n",
    "pivoted_df = df_pivot.pivot(index='Date', columns='City', values='Temperature')\n",
    "print(\"Pivoted DataFrame:\")\n",
    "print(pivoted_df)\n",
    "print(\"-\" * 30)"
   ]
  },
  {
   "cell_type": "code",
   "execution_count": null,
   "id": "cfd0fcb6-8c45-458b-a30f-8a53539ed1ba",
   "metadata": {},
   "outputs": [],
   "source": []
  }
 ],
 "metadata": {
  "kernelspec": {
   "display_name": "Python [conda env:base] *",
   "language": "python",
   "name": "conda-base-py"
  },
  "language_info": {
   "codemirror_mode": {
    "name": "ipython",
    "version": 3
   },
   "file_extension": ".py",
   "mimetype": "text/x-python",
   "name": "python",
   "nbconvert_exporter": "python",
   "pygments_lexer": "ipython3",
   "version": "3.12.7"
  }
 },
 "nbformat": 4,
 "nbformat_minor": 5
}
