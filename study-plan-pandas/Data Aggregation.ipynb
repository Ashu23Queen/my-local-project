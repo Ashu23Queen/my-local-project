{
 "cells": [
  {
   "cell_type": "code",
   "execution_count": 2,
   "id": "cf2adf77-5c5d-422e-96e5-052ecb2c1c72",
   "metadata": {},
   "outputs": [],
   "source": [
    "import pandas as pd\n",
    "import numpy as np "
   ]
  },
  {
   "cell_type": "code",
   "execution_count": 16,
   "id": "eca629d1-92fe-4b3f-a2b5-5f93a1ed1173",
   "metadata": {},
   "outputs": [],
   "source": [
    "# Create a sample DataFrame \n",
    "data = {\n",
    "    'Date': pd.to_datetime(['2025-01-05', '2025-01-05', '2025-01-06', '2025-01-06', '2025-01-07', '2025-01-07', '2025-01-08', '2025-01-08']),\n",
    "    'Region': ['North', 'South', 'North', 'East', 'South', 'North', 'East', 'South'],\n",
    "    'Product': ['Laptop', 'Mouse', 'Keyboard', 'Laptop', 'Mouse', 'Keyboard', 'Laptop', 'Mouse'],\n",
    "    'Sales_Rep': ['Alice', 'Bob', 'Alice', 'Charlie', 'Bob', 'David', 'Charlie', 'Alice'],\n",
    "    'Units_Sold': [2, 5, 3, 1, 4, 2, 3, 6],\n",
    "    'Price_Per_Unit': [1200, 25, 75, 1100, 30, 80, 1150, 28]\n",
    "}\n",
    "df = pd.DataFrame(data)"
   ]
  },
  {
   "cell_type": "code",
   "execution_count": 18,
   "id": "6b8c166b-5f60-4272-8d98-6d65bde78a45",
   "metadata": {},
   "outputs": [
    {
     "data": {
      "text/html": [
       "<div>\n",
       "<style scoped>\n",
       "    .dataframe tbody tr th:only-of-type {\n",
       "        vertical-align: middle;\n",
       "    }\n",
       "\n",
       "    .dataframe tbody tr th {\n",
       "        vertical-align: top;\n",
       "    }\n",
       "\n",
       "    .dataframe thead th {\n",
       "        text-align: right;\n",
       "    }\n",
       "</style>\n",
       "<table border=\"1\" class=\"dataframe\">\n",
       "  <thead>\n",
       "    <tr style=\"text-align: right;\">\n",
       "      <th></th>\n",
       "      <th>Date</th>\n",
       "      <th>Region</th>\n",
       "      <th>Product</th>\n",
       "      <th>Sales_Rep</th>\n",
       "      <th>Units_Sold</th>\n",
       "      <th>Price_Per_Unit</th>\n",
       "    </tr>\n",
       "  </thead>\n",
       "  <tbody>\n",
       "    <tr>\n",
       "      <th>0</th>\n",
       "      <td>2025-01-05</td>\n",
       "      <td>North</td>\n",
       "      <td>Laptop</td>\n",
       "      <td>Alice</td>\n",
       "      <td>2</td>\n",
       "      <td>1200</td>\n",
       "    </tr>\n",
       "    <tr>\n",
       "      <th>1</th>\n",
       "      <td>2025-01-05</td>\n",
       "      <td>South</td>\n",
       "      <td>Mouse</td>\n",
       "      <td>Bob</td>\n",
       "      <td>5</td>\n",
       "      <td>25</td>\n",
       "    </tr>\n",
       "    <tr>\n",
       "      <th>2</th>\n",
       "      <td>2025-01-06</td>\n",
       "      <td>North</td>\n",
       "      <td>Keyboard</td>\n",
       "      <td>Alice</td>\n",
       "      <td>3</td>\n",
       "      <td>75</td>\n",
       "    </tr>\n",
       "    <tr>\n",
       "      <th>3</th>\n",
       "      <td>2025-01-06</td>\n",
       "      <td>East</td>\n",
       "      <td>Laptop</td>\n",
       "      <td>Charlie</td>\n",
       "      <td>1</td>\n",
       "      <td>1100</td>\n",
       "    </tr>\n",
       "    <tr>\n",
       "      <th>4</th>\n",
       "      <td>2025-01-07</td>\n",
       "      <td>South</td>\n",
       "      <td>Mouse</td>\n",
       "      <td>Bob</td>\n",
       "      <td>4</td>\n",
       "      <td>30</td>\n",
       "    </tr>\n",
       "    <tr>\n",
       "      <th>5</th>\n",
       "      <td>2025-01-07</td>\n",
       "      <td>North</td>\n",
       "      <td>Keyboard</td>\n",
       "      <td>David</td>\n",
       "      <td>2</td>\n",
       "      <td>80</td>\n",
       "    </tr>\n",
       "    <tr>\n",
       "      <th>6</th>\n",
       "      <td>2025-01-08</td>\n",
       "      <td>East</td>\n",
       "      <td>Laptop</td>\n",
       "      <td>Charlie</td>\n",
       "      <td>3</td>\n",
       "      <td>1150</td>\n",
       "    </tr>\n",
       "    <tr>\n",
       "      <th>7</th>\n",
       "      <td>2025-01-08</td>\n",
       "      <td>South</td>\n",
       "      <td>Mouse</td>\n",
       "      <td>Alice</td>\n",
       "      <td>6</td>\n",
       "      <td>28</td>\n",
       "    </tr>\n",
       "  </tbody>\n",
       "</table>\n",
       "</div>"
      ],
      "text/plain": [
       "        Date Region   Product Sales_Rep  Units_Sold  Price_Per_Unit\n",
       "0 2025-01-05  North    Laptop     Alice           2            1200\n",
       "1 2025-01-05  South     Mouse       Bob           5              25\n",
       "2 2025-01-06  North  Keyboard     Alice           3              75\n",
       "3 2025-01-06   East    Laptop   Charlie           1            1100\n",
       "4 2025-01-07  South     Mouse       Bob           4              30\n",
       "5 2025-01-07  North  Keyboard     David           2              80\n",
       "6 2025-01-08   East    Laptop   Charlie           3            1150\n",
       "7 2025-01-08  South     Mouse     Alice           6              28"
      ]
     },
     "execution_count": 18,
     "metadata": {},
     "output_type": "execute_result"
    }
   ],
   "source": [
    "df"
   ]
  },
  {
   "cell_type": "markdown",
   "id": "10ebe1f0-5e19-4767-b4fe-66d15e0a0e4d",
   "metadata": {},
   "source": [
    "#### <font color=\"blue\">Basic Aggregations on a Sales Dataset</font>"
   ]
  },
  {
   "cell_type": "markdown",
   "id": "87822f8e-c476-4794-acec-ddc1bb0b8568",
   "metadata": {},
   "source": [
    "##### Calculate Total Sales for each row"
   ]
  },
  {
   "cell_type": "code",
   "execution_count": 21,
   "id": "d1d0a387-c403-4368-bf3d-4d3b79a9da3e",
   "metadata": {},
   "outputs": [
    {
     "name": "stdout",
     "output_type": "stream",
     "text": [
      "--- Original Sales DataFrame ---\n",
      "        Date Region   Product Sales_Rep  Units_Sold  Price_Per_Unit  \\\n",
      "0 2025-01-05  North    Laptop     Alice           2            1200   \n",
      "1 2025-01-05  South     Mouse       Bob           5              25   \n",
      "2 2025-01-06  North  Keyboard     Alice           3              75   \n",
      "3 2025-01-06   East    Laptop   Charlie           1            1100   \n",
      "4 2025-01-07  South     Mouse       Bob           4              30   \n",
      "5 2025-01-07  North  Keyboard     David           2              80   \n",
      "6 2025-01-08   East    Laptop   Charlie           3            1150   \n",
      "7 2025-01-08  South     Mouse     Alice           6              28   \n",
      "\n",
      "   Total_Sales  \n",
      "0         2400  \n",
      "1          125  \n",
      "2          225  \n",
      "3         1100  \n",
      "4          120  \n",
      "5          160  \n",
      "6         3450  \n",
      "7          168  \n",
      "\n",
      "========================================\n",
      "\n"
     ]
    }
   ],
   "source": [
    "df['Total_Sales'] = df['Units_Sold'] * df['Price_Per_Unit']\n",
    "\n",
    "print(\"--- Original Sales DataFrame ---\")\n",
    "print(df)\n",
    "print(\"\\n\" + \"=\"*40 + \"\\n\")"
   ]
  },
  {
   "cell_type": "markdown",
   "id": "8ef9426b-6a36-4c8e-bf95-8820b7e596cd",
   "metadata": {},
   "source": [
    "##### Total Units Sold across all sales"
   ]
  },
  {
   "cell_type": "code",
   "execution_count": 24,
   "id": "29bbe239-651c-40d2-8286-dfc824b4fcf2",
   "metadata": {},
   "outputs": [
    {
     "name": "stdout",
     "output_type": "stream",
     "text": [
      "Total Units Sold: 26\n"
     ]
    }
   ],
   "source": [
    "total_units_sold = df['Units_Sold'].sum()\n",
    "print(f\"Total Units Sold: {total_units_sold}\")"
   ]
  },
  {
   "cell_type": "markdown",
   "id": "4c155395-0425-4b54-9a39-a3537c621397",
   "metadata": {},
   "source": [
    "##### Maximum Total Sales recorded"
   ]
  },
  {
   "cell_type": "code",
   "execution_count": 33,
   "id": "1d61aaac-27de-4754-aed0-0b55d1153149",
   "metadata": {},
   "outputs": [
    {
     "name": "stdout",
     "output_type": "stream",
     "text": [
      "Maximum Single Sale Amount: $3450.00\n"
     ]
    }
   ],
   "source": [
    "max_total_sales = df['Total_Sales'].max()\n",
    "print(f\"Maximum Single Sale Amount: ${max_total_sales:.2f}\")"
   ]
  },
  {
   "cell_type": "markdown",
   "id": "9eb5d18e-04be-4559-9af8-14486d0156a7",
   "metadata": {},
   "source": [
    "##### Average Price Per Unit"
   ]
  },
  {
   "cell_type": "code",
   "execution_count": 36,
   "id": "0a858aa2-e2b8-4d66-8d00-acb2076692a2",
   "metadata": {},
   "outputs": [
    {
     "name": "stdout",
     "output_type": "stream",
     "text": [
      "Average Price Per Unit: $461.00\n"
     ]
    }
   ],
   "source": [
    "avg_price_per_unit = df['Price_Per_Unit'].mean()\n",
    "print(f\"Average Price Per Unit: ${avg_price_per_unit:.2f}\")"
   ]
  },
  {
   "cell_type": "markdown",
   "id": "1d13928e-393a-470b-87e1-6fc141c4e5fc",
   "metadata": {},
   "source": [
    "##### Number of unique products sold"
   ]
  },
  {
   "cell_type": "code",
   "execution_count": 41,
   "id": "c2a467d2-380e-4dfb-ad4b-0c14da5a7b6e",
   "metadata": {},
   "outputs": [
    {
     "name": "stdout",
     "output_type": "stream",
     "text": [
      "Number of Unique Products Sold: 3\n"
     ]
    }
   ],
   "source": [
    "num_uniq_products = df['Product'].nunique()\n",
    "print(f\"Number of Unique Products Sold: {num_uniq_products}\")"
   ]
  },
  {
   "cell_type": "markdown",
   "id": "8292190d-1148-4d21-b248-2aaa23d44a63",
   "metadata": {},
   "source": [
    "##### Descriptive statistics for numerical columns"
   ]
  },
  {
   "cell_type": "code",
   "execution_count": 44,
   "id": "2fb5f08f-3b33-4181-a369-1d56829e3b05",
   "metadata": {},
   "outputs": [
    {
     "name": "stdout",
     "output_type": "stream",
     "text": [
      "\n",
      "Descriptive Statistics for Sales Data:\n",
      "       Units_Sold  Price_Per_Unit  Total_Sales\n",
      "count    8.000000        8.000000     8.000000\n",
      "mean     3.250000      461.000000   968.500000\n",
      "std      1.669046      571.547523  1281.909067\n",
      "min      1.000000       25.000000   120.000000\n",
      "25%      2.000000       29.500000   151.250000\n",
      "50%      3.000000       77.500000   196.500000\n",
      "75%      4.250000     1112.500000  1425.000000\n",
      "max      6.000000     1200.000000  3450.000000\n"
     ]
    }
   ],
   "source": [
    "print(\"\\nDescriptive Statistics for Sales Data:\")\n",
    "print(df[['Units_Sold', 'Price_Per_Unit', 'Total_Sales']].describe())"
   ]
  },
  {
   "cell_type": "markdown",
   "id": "54389dab-91f3-4e48-958f-ec0084c4a871",
   "metadata": {},
   "source": [
    "#### <font color=\"blue\">GroupBy Aggregations</font>"
   ]
  },
  {
   "cell_type": "markdown",
   "id": "0ddbfe94-9132-47d1-8a9c-9381984e4244",
   "metadata": {},
   "source": [
    "##### 1. Total Sales by Region"
   ]
  },
  {
   "cell_type": "code",
   "execution_count": 58,
   "id": "8fd12968-1d22-41d2-a137-cf2267d1daf3",
   "metadata": {},
   "outputs": [
    {
     "name": "stdout",
     "output_type": "stream",
     "text": [
      "\n",
      "Total Sales by Region:\n",
      "Region\n",
      "East     4550\n",
      "North    2785\n",
      "South     413\n",
      "Name: Total_Sales, dtype: int64\n"
     ]
    }
   ],
   "source": [
    "print(\"\\nTotal Sales by Region:\")\n",
    "sales_by_region = df.groupby('Region')['Total_Sales'].sum()\n",
    "print(sales_by_region) "
   ]
  },
  {
   "cell_type": "markdown",
   "id": "84f5efab-f3f5-40e6-82bc-caf776ac25c7",
   "metadata": {},
   "source": [
    "#####  2 Average Units Sold by Product"
   ]
  },
  {
   "cell_type": "code",
   "execution_count": 62,
   "id": "38ae0e7f-f7a9-4239-b303-1474d7059db1",
   "metadata": {},
   "outputs": [
    {
     "name": "stdout",
     "output_type": "stream",
     "text": [
      "\n",
      "Average Units Sold by Product:\n",
      "Product\n",
      "Keyboard    2.5\n",
      "Laptop      2.0\n",
      "Mouse       5.0\n",
      "Name: Units_Sold, dtype: float64\n"
     ]
    }
   ],
   "source": [
    "print(\"\\nAverage Units Sold by Product:\")\n",
    "avg_units_by_prod = df.groupby('Product')['Units_Sold'].mean()\n",
    "print(avg_units_by_prod)"
   ]
  },
  {
   "cell_type": "markdown",
   "id": "77c47b0d-627d-462b-b0ca-7541a72b52be",
   "metadata": {},
   "source": [
    "##### 3. Sales performance per Sales Representative (Total Sales and Total Units) "
   ]
  },
  {
   "cell_type": "code",
   "execution_count": 65,
   "id": "c1eea70b-f4fa-4177-98a3-5ac352f14a39",
   "metadata": {},
   "outputs": [
    {
     "name": "stdout",
     "output_type": "stream",
     "text": [
      "\n",
      " (Total Sales, Total Units, Number of Sales):\n",
      "           Total_Sales  Total_Units_Sold  Num_Sales\n",
      "Sales_Rep                                          \n",
      "Alice             2793                11          3\n",
      "Bob                245                 9          2\n",
      "Charlie           4550                 4          2\n",
      "David              160                 2          1\n"
     ]
    }
   ],
   "source": [
    "print(\"\\n (Total Sales, Total Units, Number of Sales):\")\n",
    "sales_rep_performance = df.groupby('Sales_Rep').agg(\n",
    "    Total_Sales=('Total_Sales', 'sum'),\n",
    "    Total_Units_Sold=('Units_Sold', 'sum'),\n",
    "    Num_Sales=('Total_Sales', 'count') # Count of sales transactions\n",
    ")\n",
    "print(sales_rep_performance)"
   ]
  },
  {
   "cell_type": "markdown",
   "id": "0af04923-b67a-4a28-814c-b96b6b733a83",
   "metadata": {},
   "source": [
    "##### 4. Multiple aggregations for a single column, grouped by multiple columns"
   ]
  },
  {
   "cell_type": "code",
   "execution_count": 70,
   "id": "673467c9-8bad-448d-b8f4-2c61545614e8",
   "metadata": {},
   "outputs": [
    {
     "name": "stdout",
     "output_type": "stream",
     "text": [
      "\n",
      "Units Sold Summary by Region and Product (Min, Max, Mean):\n",
      "                 min  max  mean\n",
      "Region Product                 \n",
      "East   Laptop      1    3   2.0\n",
      "North  Keyboard    2    3   2.5\n",
      "       Laptop      2    2   2.0\n",
      "South  Mouse       4    6   5.0\n"
     ]
    }
   ],
   "source": [
    "print(\"\\nUnits Sold Summary by Region and Product (Min, Max, Mean):\")\n",
    "region_product_units = df.groupby(['Region', 'Product'])['Units_Sold'].agg(['min', 'max', 'mean'])\n",
    "print(region_product_units)\n"
   ]
  },
  {
   "cell_type": "code",
   "execution_count": null,
   "id": "1afd26ae-daa9-4e6a-804a-c7d3f394b440",
   "metadata": {},
   "outputs": [],
   "source": []
  }
 ],
 "metadata": {
  "kernelspec": {
   "display_name": "Python [conda env:base] *",
   "language": "python",
   "name": "conda-base-py"
  },
  "language_info": {
   "codemirror_mode": {
    "name": "ipython",
    "version": 3
   },
   "file_extension": ".py",
   "mimetype": "text/x-python",
   "name": "python",
   "nbconvert_exporter": "python",
   "pygments_lexer": "ipython3",
   "version": "3.12.7"
  }
 },
 "nbformat": 4,
 "nbformat_minor": 5
}
