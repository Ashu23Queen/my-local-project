{
 "cells": [
  {
   "cell_type": "markdown",
   "id": "3036eb08-02db-4d79-b0e7-aacc457d02fe",
   "metadata": {},
   "source": [
    "### Data Cleaning"
   ]
  },
  {
   "cell_type": "markdown",
   "id": "67a511e0-383c-4a52-af25-bbe09d5fd8f7",
   "metadata": {},
   "source": [
    "##### Drop Duplicate Rows"
   ]
  },
  {
   "cell_type": "code",
   "execution_count": 4,
   "id": "f3e990ac-a8f3-40bd-9318-5fd146fe696d",
   "metadata": {},
   "outputs": [],
   "source": [
    "import pandas as pd"
   ]
  },
  {
   "cell_type": "code",
   "execution_count": 68,
   "id": "df095aae-722f-471a-b3c1-af9295ce4abe",
   "metadata": {},
   "outputs": [
    {
     "name": "stdout",
     "output_type": "stream",
     "text": [
      "Original DataFrame:\n",
      "   col1 col2 col3\n",
      "0     1    A    X\n",
      "1     2    B    Y\n",
      "2     2    B    Y\n",
      "3     3    C    Z\n",
      "4     4    E    S\n",
      "5     4    E    S\n",
      "6     5    F    V\n"
     ]
    }
   ],
   "source": [
    "# Sample DataFrame\n",
    "data = {\n",
    "    'col1': [1, 2, 2, 3, 4, 4, 5],\n",
    "    'col2': ['A', 'B', 'B', 'C', 'E', 'E', 'F'],\n",
    "    'col3': ['X', 'Y', 'Y', 'Z', 'S', 'S', 'V']\n",
    "}\n",
    "df = pd.DataFrame(data)\n",
    "print(\"Original DataFrame:\")\n",
    "print(df)"
   ]
  },
  {
   "cell_type": "code",
   "execution_count": 70,
   "id": "3dbe1a8a-6691-40ac-8bdd-c6b3f727faee",
   "metadata": {},
   "outputs": [
    {
     "name": "stdout",
     "output_type": "stream",
     "text": [
      "\n",
      "DataFrame after dropping duplicates (all columns):\n",
      "   col1 col2 col3\n",
      "0     1    A    X\n",
      "1     2    B    Y\n",
      "3     3    C    Z\n",
      "4     4    E    S\n",
      "6     5    F    V\n"
     ]
    }
   ],
   "source": [
    "# Drop duplicate rows (considering all columns)\n",
    "df_cleaned = df.drop_duplicates()\n",
    "print(\"\\nDataFrame after dropping duplicates (all columns):\")\n",
    "print(df_cleaned)"
   ]
  },
  {
   "cell_type": "code",
   "execution_count": 14,
   "id": "1270c69e-8cff-4816-befd-1ec6a9610840",
   "metadata": {},
   "outputs": [
    {
     "name": "stdout",
     "output_type": "stream",
     "text": [
      "\n",
      "DataFrame after dropping duplicates (based on 'col1'):\n",
      "   col1 col2 col3\n",
      "0     1    A    X\n",
      "1     2    B    Y\n",
      "2     4    B    Y\n",
      "3     3    C    Z\n",
      "6     5    E    V\n"
     ]
    }
   ],
   "source": [
    "# Drop duplicates based on 'col1' only\n",
    "df_col1_unique = df.drop_duplicates(subset=['col1'])\n",
    "print(\"\\nDataFrame after dropping duplicates (based on 'col1'):\")\n",
    "print(df_col1_unique)"
   ]
  },
  {
   "cell_type": "code",
   "execution_count": 72,
   "id": "4588d8c5-3ba9-4dcd-8f73-4d6e005b7bea",
   "metadata": {},
   "outputs": [
    {
     "name": "stdout",
     "output_type": "stream",
     "text": [
      "\n",
      "DataFrame after dropping duplicates (based on 'col1' and 'col2'):\n",
      "   col1 col2 col3\n",
      "0     1    A    X\n",
      "1     2    B    Y\n",
      "3     3    C    Z\n",
      "4     4    E    S\n",
      "6     5    F    V\n"
     ]
    }
   ],
   "source": [
    "# Drop duplicates based on 'col1' and 'col2'\n",
    "df_col1_col2_unique = df.drop_duplicates(subset=['col1', 'col2'])\n",
    "print(\"\\nDataFrame after dropping duplicates (based on 'col1' and 'col2'):\")\n",
    "print(df_col1_col2_unique)"
   ]
  },
  {
   "cell_type": "code",
   "execution_count": 74,
   "id": "527cd487-2717-4131-a7ab-51cd46cd860b",
   "metadata": {},
   "outputs": [
    {
     "name": "stdout",
     "output_type": "stream",
     "text": [
      "\n",
      "DataFrame after dropping duplicates (keep last):\n",
      "   col1 col2 col3\n",
      "0     1    A    X\n",
      "2     2    B    Y\n",
      "3     3    C    Z\n",
      "5     4    E    S\n",
      "6     5    F    V\n"
     ]
    }
   ],
   "source": [
    "# Keep the last occurrence of duplicates\n",
    "df_keep_last = df.drop_duplicates(keep='last')\n",
    "print(\"\\nDataFrame after dropping duplicates (keep last):\")\n",
    "print(df_keep_last)"
   ]
  },
  {
   "cell_type": "code",
   "execution_count": 76,
   "id": "04c6904e-b10d-4eb0-8f87-9613baa079fb",
   "metadata": {},
   "outputs": [
    {
     "name": "stdout",
     "output_type": "stream",
     "text": [
      "\n",
      "DataFrame after dropping duplicates (drop all occurrences):\n",
      "   col1 col2 col3\n",
      "0     1    A    X\n",
      "3     3    C    Z\n",
      "6     5    F    V\n"
     ]
    }
   ],
   "source": [
    "# Drop all occurrences of duplicates\n",
    "df_drop_all = df.drop_duplicates(keep=False)   # the source DataFrame is changed and None is returned\n",
    "print(\"\\nDataFrame after dropping duplicates (drop all occurrences):\")\n",
    "print(df_drop_all)"
   ]
  },
  {
   "cell_type": "code",
   "execution_count": 78,
   "id": "af24d91d-20d3-4c61-ba73-08cc4d78afcf",
   "metadata": {},
   "outputs": [
    {
     "name": "stdout",
     "output_type": "stream",
     "text": [
      "\n",
      "Original DataFrame before inplace drop:\n",
      "   col1 col2 col3\n",
      "0     1    A    X\n",
      "1     2    B    Y\n",
      "2     2    B    Y\n",
      "3     3    C    Z\n",
      "4     4    E    S\n",
      "5     4    E    S\n",
      "6     5    F    V\n",
      "\n",
      "DataFrame after inplace drop:\n",
      "   col1 col2 col3\n",
      "0     1    A    X\n",
      "1     2    B    Y\n",
      "3     3    C    Z\n",
      "4     4    E    S\n",
      "6     5    F    V\n"
     ]
    }
   ],
   "source": [
    "# Modify DataFrame in place\n",
    "print(\"\\nOriginal DataFrame before inplace drop:\")\n",
    "print(df)\n",
    "df.drop_duplicates(inplace=True)\n",
    "print(\"\\nDataFrame after inplace drop:\")\n",
    "print(df)"
   ]
  },
  {
   "cell_type": "code",
   "execution_count": 80,
   "id": "0e5e3965-7a5c-4b73-b5ff-23f8cf113f18",
   "metadata": {},
   "outputs": [
    {
     "data": {
      "text/html": [
       "<div>\n",
       "<style scoped>\n",
       "    .dataframe tbody tr th:only-of-type {\n",
       "        vertical-align: middle;\n",
       "    }\n",
       "\n",
       "    .dataframe tbody tr th {\n",
       "        vertical-align: top;\n",
       "    }\n",
       "\n",
       "    .dataframe thead th {\n",
       "        text-align: right;\n",
       "    }\n",
       "</style>\n",
       "<table border=\"1\" class=\"dataframe\">\n",
       "  <thead>\n",
       "    <tr style=\"text-align: right;\">\n",
       "      <th></th>\n",
       "      <th>col1</th>\n",
       "      <th>col2</th>\n",
       "      <th>col3</th>\n",
       "    </tr>\n",
       "  </thead>\n",
       "  <tbody>\n",
       "    <tr>\n",
       "      <th>0</th>\n",
       "      <td>1</td>\n",
       "      <td>A</td>\n",
       "      <td>X</td>\n",
       "    </tr>\n",
       "    <tr>\n",
       "      <th>1</th>\n",
       "      <td>2</td>\n",
       "      <td>B</td>\n",
       "      <td>Y</td>\n",
       "    </tr>\n",
       "    <tr>\n",
       "      <th>3</th>\n",
       "      <td>3</td>\n",
       "      <td>C</td>\n",
       "      <td>Z</td>\n",
       "    </tr>\n",
       "    <tr>\n",
       "      <th>4</th>\n",
       "      <td>4</td>\n",
       "      <td>E</td>\n",
       "      <td>S</td>\n",
       "    </tr>\n",
       "    <tr>\n",
       "      <th>6</th>\n",
       "      <td>5</td>\n",
       "      <td>F</td>\n",
       "      <td>V</td>\n",
       "    </tr>\n",
       "  </tbody>\n",
       "</table>\n",
       "</div>"
      ],
      "text/plain": [
       "   col1 col2 col3\n",
       "0     1    A    X\n",
       "1     2    B    Y\n",
       "3     3    C    Z\n",
       "4     4    E    S\n",
       "6     5    F    V"
      ]
     },
     "execution_count": 80,
     "metadata": {},
     "output_type": "execute_result"
    }
   ],
   "source": [
    "df"
   ]
  },
  {
   "cell_type": "code",
   "execution_count": 84,
   "id": "544ae72d-eab5-471c-acc9-3f09047aa8a7",
   "metadata": {},
   "outputs": [
    {
     "name": "stdout",
     "output_type": "stream",
     "text": [
      "\n",
      "Boolean Series indicating duplicate rows:\n",
      "0    False\n",
      "1    False\n",
      "3    False\n",
      "4    False\n",
      "6    False\n",
      "dtype: bool\n",
      "------------------------------\n",
      "\n",
      "Actual duplicate rows:\n",
      "Empty DataFrame\n",
      "Columns: [col1, col2, col3]\n",
      "Index: []\n"
     ]
    }
   ],
   "source": [
    "print(\"\\nBoolean Series indicating duplicate rows:\")\n",
    "print(df.duplicated())\n",
    "print('-'*30)\n",
    "# To see the actual duplicate rows (before dropping them)\n",
    "print(\"\\nActual duplicate rows:\")\n",
    "print(df[df.duplicated(keep=False)]) # keep=False shows all duplicates"
   ]
  },
  {
   "cell_type": "code",
   "execution_count": null,
   "id": "377fb06d-f7e2-40e8-8f15-c8180865e6c3",
   "metadata": {},
   "outputs": [],
   "source": []
  }
 ],
 "metadata": {
  "kernelspec": {
   "display_name": "Python [conda env:base] *",
   "language": "python",
   "name": "conda-base-py"
  },
  "language_info": {
   "codemirror_mode": {
    "name": "ipython",
    "version": 3
   },
   "file_extension": ".py",
   "mimetype": "text/x-python",
   "name": "python",
   "nbconvert_exporter": "python",
   "pygments_lexer": "ipython3",
   "version": "3.12.7"
  }
 },
 "nbformat": 4,
 "nbformat_minor": 5
}
