{
 "cells": [
  {
   "cell_type": "markdown",
   "id": "3036eb08-02db-4d79-b0e7-aacc457d02fe",
   "metadata": {},
   "source": [
    "### Data Cleaning"
   ]
  },
  {
   "cell_type": "markdown",
   "id": "67a511e0-383c-4a52-af25-bbe09d5fd8f7",
   "metadata": {},
   "source": [
    "##### Drop Duplicate Rows"
   ]
  },
  {
   "cell_type": "code",
   "execution_count": 147,
   "id": "f3e990ac-a8f3-40bd-9318-5fd146fe696d",
   "metadata": {},
   "outputs": [],
   "source": [
    "import pandas as pd"
   ]
  },
  {
   "cell_type": "code",
   "execution_count": 68,
   "id": "df095aae-722f-471a-b3c1-af9295ce4abe",
   "metadata": {},
   "outputs": [
    {
     "name": "stdout",
     "output_type": "stream",
     "text": [
      "Original DataFrame:\n",
      "   col1 col2 col3\n",
      "0     1    A    X\n",
      "1     2    B    Y\n",
      "2     2    B    Y\n",
      "3     3    C    Z\n",
      "4     4    E    S\n",
      "5     4    E    S\n",
      "6     5    F    V\n"
     ]
    }
   ],
   "source": [
    "# Sample DataFrame\n",
    "data = {\n",
    "    'col1': [1, 2, 2, 3, 4, 4, 5],\n",
    "    'col2': ['A', 'B', 'B', 'C', 'E', 'E', 'F'],\n",
    "    'col3': ['X', 'Y', 'Y', 'Z', 'S', 'S', 'V']\n",
    "}\n",
    "df = pd.DataFrame(data)\n",
    "print(\"Original DataFrame:\")\n",
    "print(df)"
   ]
  },
  {
   "cell_type": "code",
   "execution_count": 70,
   "id": "3dbe1a8a-6691-40ac-8bdd-c6b3f727faee",
   "metadata": {},
   "outputs": [
    {
     "name": "stdout",
     "output_type": "stream",
     "text": [
      "\n",
      "DataFrame after dropping duplicates (all columns):\n",
      "   col1 col2 col3\n",
      "0     1    A    X\n",
      "1     2    B    Y\n",
      "3     3    C    Z\n",
      "4     4    E    S\n",
      "6     5    F    V\n"
     ]
    }
   ],
   "source": [
    "# Drop duplicate rows (considering all columns)\n",
    "df_cleaned = df.drop_duplicates()\n",
    "print(\"\\nDataFrame after dropping duplicates (all columns):\")\n",
    "print(df_cleaned)"
   ]
  },
  {
   "cell_type": "code",
   "execution_count": 86,
   "id": "1270c69e-8cff-4816-befd-1ec6a9610840",
   "metadata": {},
   "outputs": [
    {
     "name": "stdout",
     "output_type": "stream",
     "text": [
      "\n",
      "DataFrame after dropping duplicates (based on 'col1'):\n",
      "   col1 col2 col3\n",
      "0     1    A    X\n",
      "1     2    B    Y\n",
      "3     3    C    Z\n",
      "4     4    E    S\n",
      "6     5    F    V\n"
     ]
    }
   ],
   "source": [
    "# Drop duplicates based on 'col1' \n",
    "df_col1_unique = df.drop_duplicates(subset=['col1'])\n",
    "print(\"\\nDataFrame after dropping duplicates (based on 'col1'):\")\n",
    "print(df_col1_unique)"
   ]
  },
  {
   "cell_type": "code",
   "execution_count": 72,
   "id": "4588d8c5-3ba9-4dcd-8f73-4d6e005b7bea",
   "metadata": {},
   "outputs": [
    {
     "name": "stdout",
     "output_type": "stream",
     "text": [
      "\n",
      "DataFrame after dropping duplicates (based on 'col1' and 'col2'):\n",
      "   col1 col2 col3\n",
      "0     1    A    X\n",
      "1     2    B    Y\n",
      "3     3    C    Z\n",
      "4     4    E    S\n",
      "6     5    F    V\n"
     ]
    }
   ],
   "source": [
    "# Drop duplicates based on 'col1' and 'col2'\n",
    "df_col1_col2_unique = df.drop_duplicates(subset=['col1', 'col2'])\n",
    "print(\"\\nDataFrame after dropping duplicates (based on 'col1' and 'col2'):\")\n",
    "print(df_col1_col2_unique)"
   ]
  },
  {
   "cell_type": "code",
   "execution_count": 74,
   "id": "527cd487-2717-4131-a7ab-51cd46cd860b",
   "metadata": {},
   "outputs": [
    {
     "name": "stdout",
     "output_type": "stream",
     "text": [
      "\n",
      "DataFrame after dropping duplicates (keep last):\n",
      "   col1 col2 col3\n",
      "0     1    A    X\n",
      "2     2    B    Y\n",
      "3     3    C    Z\n",
      "5     4    E    S\n",
      "6     5    F    V\n"
     ]
    }
   ],
   "source": [
    "# Keep the last occurrence of duplicates\n",
    "df_keep_last = df.drop_duplicates(keep='last')\n",
    "print(\"\\nDataFrame after dropping duplicates (keep last):\")\n",
    "print(df_keep_last)"
   ]
  },
  {
   "cell_type": "code",
   "execution_count": 76,
   "id": "04c6904e-b10d-4eb0-8f87-9613baa079fb",
   "metadata": {},
   "outputs": [
    {
     "name": "stdout",
     "output_type": "stream",
     "text": [
      "\n",
      "DataFrame after dropping duplicates (drop all occurrences):\n",
      "   col1 col2 col3\n",
      "0     1    A    X\n",
      "3     3    C    Z\n",
      "6     5    F    V\n"
     ]
    }
   ],
   "source": [
    "# Drop all occurrences of duplicates\n",
    "df_drop_all = df.drop_duplicates(keep=False)   # the source DataFrame is changed and None is returned\n",
    "print(\"\\nDataFrame after dropping duplicates (drop all occurrences):\")\n",
    "print(df_drop_all)"
   ]
  },
  {
   "cell_type": "code",
   "execution_count": 78,
   "id": "af24d91d-20d3-4c61-ba73-08cc4d78afcf",
   "metadata": {},
   "outputs": [
    {
     "name": "stdout",
     "output_type": "stream",
     "text": [
      "\n",
      "Original DataFrame before inplace drop:\n",
      "   col1 col2 col3\n",
      "0     1    A    X\n",
      "1     2    B    Y\n",
      "2     2    B    Y\n",
      "3     3    C    Z\n",
      "4     4    E    S\n",
      "5     4    E    S\n",
      "6     5    F    V\n",
      "\n",
      "DataFrame after inplace drop:\n",
      "   col1 col2 col3\n",
      "0     1    A    X\n",
      "1     2    B    Y\n",
      "3     3    C    Z\n",
      "4     4    E    S\n",
      "6     5    F    V\n"
     ]
    }
   ],
   "source": [
    "# Modify DataFrame in place\n",
    "print(\"\\nOriginal DataFrame before inplace drop:\")\n",
    "print(df)\n",
    "df.drop_duplicates(inplace=True)\n",
    "print(\"\\nDataFrame after inplace drop:\")\n",
    "print(df)"
   ]
  },
  {
   "cell_type": "code",
   "execution_count": 80,
   "id": "0e5e3965-7a5c-4b73-b5ff-23f8cf113f18",
   "metadata": {},
   "outputs": [
    {
     "data": {
      "text/html": [
       "<div>\n",
       "<style scoped>\n",
       "    .dataframe tbody tr th:only-of-type {\n",
       "        vertical-align: middle;\n",
       "    }\n",
       "\n",
       "    .dataframe tbody tr th {\n",
       "        vertical-align: top;\n",
       "    }\n",
       "\n",
       "    .dataframe thead th {\n",
       "        text-align: right;\n",
       "    }\n",
       "</style>\n",
       "<table border=\"1\" class=\"dataframe\">\n",
       "  <thead>\n",
       "    <tr style=\"text-align: right;\">\n",
       "      <th></th>\n",
       "      <th>col1</th>\n",
       "      <th>col2</th>\n",
       "      <th>col3</th>\n",
       "    </tr>\n",
       "  </thead>\n",
       "  <tbody>\n",
       "    <tr>\n",
       "      <th>0</th>\n",
       "      <td>1</td>\n",
       "      <td>A</td>\n",
       "      <td>X</td>\n",
       "    </tr>\n",
       "    <tr>\n",
       "      <th>1</th>\n",
       "      <td>2</td>\n",
       "      <td>B</td>\n",
       "      <td>Y</td>\n",
       "    </tr>\n",
       "    <tr>\n",
       "      <th>3</th>\n",
       "      <td>3</td>\n",
       "      <td>C</td>\n",
       "      <td>Z</td>\n",
       "    </tr>\n",
       "    <tr>\n",
       "      <th>4</th>\n",
       "      <td>4</td>\n",
       "      <td>E</td>\n",
       "      <td>S</td>\n",
       "    </tr>\n",
       "    <tr>\n",
       "      <th>6</th>\n",
       "      <td>5</td>\n",
       "      <td>F</td>\n",
       "      <td>V</td>\n",
       "    </tr>\n",
       "  </tbody>\n",
       "</table>\n",
       "</div>"
      ],
      "text/plain": [
       "   col1 col2 col3\n",
       "0     1    A    X\n",
       "1     2    B    Y\n",
       "3     3    C    Z\n",
       "4     4    E    S\n",
       "6     5    F    V"
      ]
     },
     "execution_count": 80,
     "metadata": {},
     "output_type": "execute_result"
    }
   ],
   "source": [
    "df"
   ]
  },
  {
   "cell_type": "code",
   "execution_count": 84,
   "id": "544ae72d-eab5-471c-acc9-3f09047aa8a7",
   "metadata": {},
   "outputs": [
    {
     "name": "stdout",
     "output_type": "stream",
     "text": [
      "\n",
      "Boolean Series indicating duplicate rows:\n",
      "0    False\n",
      "1    False\n",
      "3    False\n",
      "4    False\n",
      "6    False\n",
      "dtype: bool\n",
      "------------------------------\n",
      "\n",
      "Actual duplicate rows:\n",
      "Empty DataFrame\n",
      "Columns: [col1, col2, col3]\n",
      "Index: []\n"
     ]
    }
   ],
   "source": [
    "print(\"\\nBoolean Series indicating duplicate rows:\")\n",
    "print(df.duplicated())\n",
    "print('-'*30)\n",
    "# To see the actual duplicate rows (before dropping them)\n",
    "print(\"\\nActual duplicate rows:\")\n",
    "print(df[df.duplicated(keep=False)]) # keep=False shows all duplicates"
   ]
  },
  {
   "cell_type": "markdown",
   "id": "fc44c1ff-be92-4f4c-a067-96af0e45bdea",
   "metadata": {},
   "source": [
    "##### Drop Missing Data"
   ]
  },
  {
   "cell_type": "code",
   "execution_count": 90,
   "id": "36b4de4a-79a8-4624-8573-e6af01bfeada",
   "metadata": {},
   "outputs": [
    {
     "ename": "NameError",
     "evalue": "name 'np' is not defined",
     "output_type": "error",
     "traceback": [
      "\u001b[1;31m---------------------------------------------------------------------------\u001b[0m",
      "\u001b[1;31mNameError\u001b[0m                                 Traceback (most recent call last)",
      "Cell \u001b[1;32mIn[90], line 1\u001b[0m\n\u001b[1;32m----> 1\u001b[0m data \u001b[38;5;241m=\u001b[39m {\u001b[38;5;124m'\u001b[39m\u001b[38;5;124mA\u001b[39m\u001b[38;5;124m'\u001b[39m: [\u001b[38;5;241m1\u001b[39m, \u001b[38;5;241m2\u001b[39m, np\u001b[38;5;241m.\u001b[39mnan, \u001b[38;5;241m4\u001b[39m, \u001b[38;5;241m5\u001b[39m],\n\u001b[0;32m      2\u001b[0m         \u001b[38;5;124m'\u001b[39m\u001b[38;5;124mB\u001b[39m\u001b[38;5;124m'\u001b[39m: [\u001b[38;5;241m6\u001b[39m, np\u001b[38;5;241m.\u001b[39mnan, \u001b[38;5;241m8\u001b[39m, \u001b[38;5;241m9\u001b[39m, \u001b[38;5;241m10\u001b[39m],\n\u001b[0;32m      3\u001b[0m         \u001b[38;5;124m'\u001b[39m\u001b[38;5;124mC\u001b[39m\u001b[38;5;124m'\u001b[39m: [\u001b[38;5;241m12\u001b[39m, \u001b[38;5;241m24\u001b[39m, \u001b[38;5;241m45\u001b[39m, np\u001b[38;5;241m.\u001b[39mnan, \u001b[38;5;241m15\u001b[39m],\n\u001b[0;32m      4\u001b[0m         \u001b[38;5;124m'\u001b[39m\u001b[38;5;124mD\u001b[39m\u001b[38;5;124m'\u001b[39m: [\u001b[38;5;241m16\u001b[39m, \u001b[38;5;241m17\u001b[39m, \u001b[38;5;241m56\u001b[39m, \u001b[38;5;241m19\u001b[39m, np\u001b[38;5;241m.\u001b[39mnan],\n\u001b[0;32m      5\u001b[0m         \u001b[38;5;124m'\u001b[39m\u001b[38;5;124mE\u001b[39m\u001b[38;5;124m'\u001b[39m: [\u001b[38;5;241m21\u001b[39m, \u001b[38;5;241m22\u001b[39m, \u001b[38;5;241m21\u001b[39m, \u001b[38;5;241m24\u001b[39m, \u001b[38;5;241m25\u001b[39m],\n\u001b[0;32m      6\u001b[0m         \u001b[38;5;124m'\u001b[39m\u001b[38;5;124mF\u001b[39m\u001b[38;5;124m'\u001b[39m: [np\u001b[38;5;241m.\u001b[39mnan, np\u001b[38;5;241m.\u001b[39mnan, np\u001b[38;5;241m.\u001b[39mnan, np\u001b[38;5;241m.\u001b[39mnan, np\u001b[38;5;241m.\u001b[39mnan]}\n",
      "\u001b[1;31mNameError\u001b[0m: name 'np' is not defined"
     ]
    }
   ],
   "source": [
    "data = {'A': [1, 2, np.nan, 4, 5],\n",
    "        'B': [6, np.nan, 8, 9, 10],\n",
    "        'C': [12, 24, 45, np.nan, 15],\n",
    "        'D': [16, 17, 56, 19, np.nan],\n",
    "        'E': [21, 22, 21, 24, 25],\n",
    "        'F': [np.nan, np.nan, np.nan, np.nan, np.nan]}  "
   ]
  },
  {
   "cell_type": "code",
   "execution_count": 94,
   "id": "55e0acf2-86ce-4840-b2ee-a47b886a06fe",
   "metadata": {},
   "outputs": [],
   "source": [
    "import numpy as np"
   ]
  },
  {
   "cell_type": "code",
   "execution_count": 96,
   "id": "d8ef948d-1c78-4ba8-a0f7-12b435a384bf",
   "metadata": {},
   "outputs": [],
   "source": [
    "data = {'A': [1, 2, np.nan, 4, 5],\n",
    "        'B': [6, np.nan, 8, 9, 10],\n",
    "        'C': [12, 24, 45, np.nan, 15],\n",
    "        'D': [16, 17, 56, 19, np.nan],\n",
    "        'E': [21, 22, 21, 24, 25],\n",
    "        'F': [np.nan, np.nan, np.nan, np.nan, np.nan]}  "
   ]
  },
  {
   "cell_type": "code",
   "execution_count": 100,
   "id": "32667442-e50e-45bf-9bdd-a4188370a88d",
   "metadata": {},
   "outputs": [],
   "source": [
    "df_missing_data = pd.DataFrame(data)"
   ]
  },
  {
   "cell_type": "code",
   "execution_count": 106,
   "id": "1f94c79c-ebab-4fc0-931e-022892523125",
   "metadata": {},
   "outputs": [
    {
     "name": "stdout",
     "output_type": "stream",
     "text": [
      "Original DataFrame:\n",
      "     A     B     C     D   E   F\n",
      "0  1.0   6.0  12.0  16.0  21 NaN\n",
      "1  2.0   NaN  24.0  17.0  22 NaN\n",
      "2  NaN   8.0  45.0  56.0  21 NaN\n",
      "3  4.0   9.0   NaN  19.0  24 NaN\n",
      "4  5.0  10.0  15.0   NaN  25 NaN\n"
     ]
    }
   ],
   "source": [
    "print(\"Original DataFrame:\")\n",
    "print(df_missing_data)"
   ]
  },
  {
   "cell_type": "code",
   "execution_count": 114,
   "id": "eaea24b8-f8de-47f1-83e5-c780223c40ed",
   "metadata": {},
   "outputs": [
    {
     "data": {
      "text/html": [
       "<div>\n",
       "<style scoped>\n",
       "    .dataframe tbody tr th:only-of-type {\n",
       "        vertical-align: middle;\n",
       "    }\n",
       "\n",
       "    .dataframe tbody tr th {\n",
       "        vertical-align: top;\n",
       "    }\n",
       "\n",
       "    .dataframe thead th {\n",
       "        text-align: right;\n",
       "    }\n",
       "</style>\n",
       "<table border=\"1\" class=\"dataframe\">\n",
       "  <thead>\n",
       "    <tr style=\"text-align: right;\">\n",
       "      <th></th>\n",
       "      <th>A</th>\n",
       "      <th>B</th>\n",
       "      <th>C</th>\n",
       "      <th>D</th>\n",
       "      <th>E</th>\n",
       "      <th>F</th>\n",
       "    </tr>\n",
       "  </thead>\n",
       "  <tbody>\n",
       "  </tbody>\n",
       "</table>\n",
       "</div>"
      ],
      "text/plain": [
       "Empty DataFrame\n",
       "Columns: [A, B, C, D, E, F]\n",
       "Index: []"
      ]
     },
     "execution_count": 114,
     "metadata": {},
     "output_type": "execute_result"
    }
   ],
   "source": [
    "# 1. Dropping rows with nan\n",
    "df_rows_dropped_any = df_missing_data.dropna() \n",
    "df_rows_dropped_any"
   ]
  },
  {
   "cell_type": "code",
   "execution_count": 116,
   "id": "2ef35fc0-4ab3-4910-9611-cc08e18831a9",
   "metadata": {},
   "outputs": [
    {
     "name": "stdout",
     "output_type": "stream",
     "text": [
      "\n",
      "DataFrame after dropping rows with ANY NaN:\n",
      "Empty DataFrame\n",
      "Columns: [A, B, C, D, E, F]\n",
      "Index: []\n"
     ]
    }
   ],
   "source": [
    "print(\"\\nDataFrame after dropping rows with ANY NaN:\")\n",
    "print(df_rows_dropped_any)"
   ]
  },
  {
   "cell_type": "markdown",
   "id": "fbb43b0b-eb11-48b9-8f9b-aeeaa07db499",
   "metadata": {},
   "source": [
    "##### Modify Columns"
   ]
  },
  {
   "cell_type": "code",
   "execution_count": 121,
   "id": "be2c9c52-0739-49a7-b3b7-cc8092ed0c96",
   "metadata": {},
   "outputs": [
    {
     "name": "stdout",
     "output_type": "stream",
     "text": [
      "Original DataFrame:\n",
      "      Name  Age      City  Salary\n",
      "0     Ashu   25  New York   50000\n",
      "1    Sanju   30    London   60000\n",
      "2  Charles   35     Paris   75000\n",
      "3   Dhavan   28     Tokyo   55000\n",
      "4      Eve   22    Sydney   48000\n",
      "------------------------------\n"
     ]
    }
   ],
   "source": [
    "# Creating dataframe \n",
    "data = {\n",
    "    'Name': ['Ashu', 'Sanju', 'Charles', 'Dhavan', 'Eve'],\n",
    "    'Age': [25, 30, 35, 28, 22],\n",
    "    'City': ['New York', 'London', 'Paris', 'Tokyo', 'Sydney'],\n",
    "    'Salary': [50000, 60000, 75000, 55000, 48000]\n",
    "}\n",
    "df3 = pd.DataFrame(data)\n",
    "print(\"Original DataFrame:\")\n",
    "print(df3)\n",
    "print(\"-\" * 30)"
   ]
  },
  {
   "cell_type": "code",
   "execution_count": 123,
   "id": "7f3415f6-1531-4f9d-b9e3-f224e87ed40d",
   "metadata": {},
   "outputs": [
    {
     "data": {
      "text/html": [
       "<div>\n",
       "<style scoped>\n",
       "    .dataframe tbody tr th:only-of-type {\n",
       "        vertical-align: middle;\n",
       "    }\n",
       "\n",
       "    .dataframe tbody tr th {\n",
       "        vertical-align: top;\n",
       "    }\n",
       "\n",
       "    .dataframe thead th {\n",
       "        text-align: right;\n",
       "    }\n",
       "</style>\n",
       "<table border=\"1\" class=\"dataframe\">\n",
       "  <thead>\n",
       "    <tr style=\"text-align: right;\">\n",
       "      <th></th>\n",
       "      <th>Name</th>\n",
       "      <th>YearsOld</th>\n",
       "      <th>City</th>\n",
       "      <th>Salary</th>\n",
       "    </tr>\n",
       "  </thead>\n",
       "  <tbody>\n",
       "    <tr>\n",
       "      <th>0</th>\n",
       "      <td>Ashu</td>\n",
       "      <td>25</td>\n",
       "      <td>New York</td>\n",
       "      <td>50000</td>\n",
       "    </tr>\n",
       "    <tr>\n",
       "      <th>1</th>\n",
       "      <td>Sanju</td>\n",
       "      <td>30</td>\n",
       "      <td>London</td>\n",
       "      <td>60000</td>\n",
       "    </tr>\n",
       "    <tr>\n",
       "      <th>2</th>\n",
       "      <td>Charles</td>\n",
       "      <td>35</td>\n",
       "      <td>Paris</td>\n",
       "      <td>75000</td>\n",
       "    </tr>\n",
       "    <tr>\n",
       "      <th>3</th>\n",
       "      <td>Dhavan</td>\n",
       "      <td>28</td>\n",
       "      <td>Tokyo</td>\n",
       "      <td>55000</td>\n",
       "    </tr>\n",
       "    <tr>\n",
       "      <th>4</th>\n",
       "      <td>Eve</td>\n",
       "      <td>22</td>\n",
       "      <td>Sydney</td>\n",
       "      <td>48000</td>\n",
       "    </tr>\n",
       "  </tbody>\n",
       "</table>\n",
       "</div>"
      ],
      "text/plain": [
       "      Name  YearsOld      City  Salary\n",
       "0     Ashu        25  New York   50000\n",
       "1    Sanju        30    London   60000\n",
       "2  Charles        35     Paris   75000\n",
       "3   Dhavan        28     Tokyo   55000\n",
       "4      Eve        22    Sydney   48000"
      ]
     },
     "execution_count": 123,
     "metadata": {},
     "output_type": "execute_result"
    }
   ],
   "source": [
    "# 1. Renaming Columns\n",
    "df3_renamed_single = df3.rename(columns={'Age': 'YearsOld'})\n",
    "df3_renamed_single"
   ]
  },
  {
   "cell_type": "code",
   "execution_count": 131,
   "id": "b990a0a0-f876-4fd8-801c-d845b5e3cd95",
   "metadata": {},
   "outputs": [
    {
     "data": {
      "text/html": [
       "<div>\n",
       "<style scoped>\n",
       "    .dataframe tbody tr th:only-of-type {\n",
       "        vertical-align: middle;\n",
       "    }\n",
       "\n",
       "    .dataframe tbody tr th {\n",
       "        vertical-align: top;\n",
       "    }\n",
       "\n",
       "    .dataframe thead th {\n",
       "        text-align: right;\n",
       "    }\n",
       "</style>\n",
       "<table border=\"1\" class=\"dataframe\">\n",
       "  <thead>\n",
       "    <tr style=\"text-align: right;\">\n",
       "      <th></th>\n",
       "      <th>Fullname</th>\n",
       "      <th>Age</th>\n",
       "      <th>City</th>\n",
       "      <th>Salary</th>\n",
       "    </tr>\n",
       "  </thead>\n",
       "  <tbody>\n",
       "    <tr>\n",
       "      <th>0</th>\n",
       "      <td>Ashu</td>\n",
       "      <td>25</td>\n",
       "      <td>New York</td>\n",
       "      <td>50000</td>\n",
       "    </tr>\n",
       "    <tr>\n",
       "      <th>1</th>\n",
       "      <td>Sanju</td>\n",
       "      <td>30</td>\n",
       "      <td>London</td>\n",
       "      <td>60000</td>\n",
       "    </tr>\n",
       "    <tr>\n",
       "      <th>2</th>\n",
       "      <td>Charles</td>\n",
       "      <td>35</td>\n",
       "      <td>Paris</td>\n",
       "      <td>75000</td>\n",
       "    </tr>\n",
       "    <tr>\n",
       "      <th>3</th>\n",
       "      <td>Dhavan</td>\n",
       "      <td>28</td>\n",
       "      <td>Tokyo</td>\n",
       "      <td>55000</td>\n",
       "    </tr>\n",
       "    <tr>\n",
       "      <th>4</th>\n",
       "      <td>Eve</td>\n",
       "      <td>22</td>\n",
       "      <td>Sydney</td>\n",
       "      <td>48000</td>\n",
       "    </tr>\n",
       "  </tbody>\n",
       "</table>\n",
       "</div>"
      ],
      "text/plain": [
       "  Fullname  Age      City  Salary\n",
       "0     Ashu   25  New York   50000\n",
       "1    Sanju   30    London   60000\n",
       "2  Charles   35     Paris   75000\n",
       "3   Dhavan   28     Tokyo   55000\n",
       "4      Eve   22    Sydney   48000"
      ]
     },
     "execution_count": 131,
     "metadata": {},
     "output_type": "execute_result"
    }
   ],
   "source": [
    "df3_renamed_multiple = df3.rename(columns={'Name': 'Fullname', 'city': 'Location'})\n",
    "df3_renamed_multiple"
   ]
  },
  {
   "cell_type": "code",
   "execution_count": 133,
   "id": "7bd6829a-4585-4d80-8fa8-351f6baa9e11",
   "metadata": {},
   "outputs": [
    {
     "name": "stdout",
     "output_type": "stream",
     "text": [
      "Original DataFrame after in-place rename of 'Salary':\n",
      "      Name  Age      City  Income\n",
      "0     Ashu   25  New York   50000\n",
      "1    Sanju   30    London   60000\n",
      "2  Charles   35     Paris   75000\n",
      "3   Dhavan   28     Tokyo   55000\n",
      "4      Eve   22    Sydney   48000\n",
      "------------------------------\n"
     ]
    }
   ],
   "source": [
    "# Rename in-place \n",
    "df3.rename(columns={'Salary': 'Income'}, inplace=True)\n",
    "print(\"Original DataFrame after in-place rename of 'Salary':\")\n",
    "print(df3)\n",
    "print(\"-\" * 30)"
   ]
  },
  {
   "cell_type": "code",
   "execution_count": 145,
   "id": "3bc7d757-87cb-45dd-8261-89c51f54b65a",
   "metadata": {},
   "outputs": [
    {
     "ename": "AttributeError",
     "evalue": "module 'pandas' has no attribute 'Dataframe'",
     "output_type": "error",
     "traceback": [
      "\u001b[1;31m---------------------------------------------------------------------------\u001b[0m",
      "\u001b[1;31mAttributeError\u001b[0m                            Traceback (most recent call last)",
      "Cell \u001b[1;32mIn[145], line 9\u001b[0m\n\u001b[0;32m      3\u001b[0m data2 \u001b[38;5;241m=\u001b[39m {\n\u001b[0;32m      4\u001b[0m     \u001b[38;5;124m'\u001b[39m\u001b[38;5;124mtest1\u001b[39m\u001b[38;5;124m'\u001b[39m: [\u001b[38;5;241m1\u001b[39m, \u001b[38;5;241m2\u001b[39m, \u001b[38;5;241m3\u001b[39m],\n\u001b[0;32m      5\u001b[0m     \u001b[38;5;124m'\u001b[39m\u001b[38;5;124mtest2\u001b[39m\u001b[38;5;124m'\u001b[39m: [\u001b[38;5;241m4\u001b[39m, \u001b[38;5;241m5\u001b[39m, \u001b[38;5;241m6\u001b[39m]\n\u001b[0;32m      6\u001b[0m }\n\u001b[0;32m      7\u001b[0m data2\n\u001b[1;32m----> 9\u001b[0m df4 \u001b[38;5;241m=\u001b[39m pd\u001b[38;5;241m.\u001b[39mDataframe(data2) \n\u001b[0;32m     10\u001b[0m df4\n",
      "\u001b[1;31mAttributeError\u001b[0m: module 'pandas' has no attribute 'Dataframe'"
     ]
    }
   ],
   "source": [
    "# 2. Assigning a new list to df.columns (Recommended for renaming all columns)\n",
    "# Create DataFrame \n",
    "data2 = {\n",
    "    'test1': [1, 2, 3],\n",
    "    'test2': [4, 5, 6]\n",
    "}\n",
    "data2\n",
    "\n",
    "df4 = pd.Dataframe(data2) \n",
    "df4"
   ]
  },
  {
   "cell_type": "code",
   "execution_count": 149,
   "id": "566de614-3972-4788-8950-41cdcce73132",
   "metadata": {},
   "outputs": [],
   "source": [
    "import pandas as pd"
   ]
  },
  {
   "cell_type": "code",
   "execution_count": 155,
   "id": "c079f59d-4ca2-497c-9b57-a673cc35a76f",
   "metadata": {},
   "outputs": [
    {
     "data": {
      "text/plain": [
       "{'test1': [1, 2, 3], 'test2': [4, 5, 6]}"
      ]
     },
     "execution_count": 155,
     "metadata": {},
     "output_type": "execute_result"
    }
   ],
   "source": [
    "# Create DataFrame \n",
    "data_2 = {\n",
    "    'test1': [1, 2, 3],\n",
    "    'test2': [4, 5, 6]\n",
    "}\n",
    "data_2\n"
   ]
  },
  {
   "cell_type": "code",
   "execution_count": 165,
   "id": "ab9b5072-46db-4f13-b405-70316d9bdcaf",
   "metadata": {},
   "outputs": [
    {
     "data": {
      "text/html": [
       "<div>\n",
       "<style scoped>\n",
       "    .dataframe tbody tr th:only-of-type {\n",
       "        vertical-align: middle;\n",
       "    }\n",
       "\n",
       "    .dataframe tbody tr th {\n",
       "        vertical-align: top;\n",
       "    }\n",
       "\n",
       "    .dataframe thead th {\n",
       "        text-align: right;\n",
       "    }\n",
       "</style>\n",
       "<table border=\"1\" class=\"dataframe\">\n",
       "  <thead>\n",
       "    <tr style=\"text-align: right;\">\n",
       "      <th></th>\n",
       "      <th>test1</th>\n",
       "      <th>test2</th>\n",
       "    </tr>\n",
       "  </thead>\n",
       "  <tbody>\n",
       "    <tr>\n",
       "      <th>0</th>\n",
       "      <td>1</td>\n",
       "      <td>4</td>\n",
       "    </tr>\n",
       "    <tr>\n",
       "      <th>1</th>\n",
       "      <td>2</td>\n",
       "      <td>5</td>\n",
       "    </tr>\n",
       "    <tr>\n",
       "      <th>2</th>\n",
       "      <td>3</td>\n",
       "      <td>6</td>\n",
       "    </tr>\n",
       "  </tbody>\n",
       "</table>\n",
       "</div>"
      ],
      "text/plain": [
       "   test1  test2\n",
       "0      1      4\n",
       "1      2      5\n",
       "2      3      6"
      ]
     },
     "execution_count": 165,
     "metadata": {},
     "output_type": "execute_result"
    }
   ],
   "source": [
    "data_all = {\n",
    "     'test1': [1, 2, 3],\n",
    "    'test2': [4, 5, 6]\n",
    "}\n",
    "df4 = pd.DataFrame(data_all)\n",
    "df4"
   ]
  },
  {
   "cell_type": "code",
   "execution_count": 169,
   "id": "6d982004-3db6-44c8-80df-a9c71eeda604",
   "metadata": {},
   "outputs": [
    {
     "name": "stdout",
     "output_type": "stream",
     "text": [
      "DataFrame after renaming all columns:\n"
     ]
    },
    {
     "data": {
      "text/html": [
       "<div>\n",
       "<style scoped>\n",
       "    .dataframe tbody tr th:only-of-type {\n",
       "        vertical-align: middle;\n",
       "    }\n",
       "\n",
       "    .dataframe tbody tr th {\n",
       "        vertical-align: top;\n",
       "    }\n",
       "\n",
       "    .dataframe thead th {\n",
       "        text-align: right;\n",
       "    }\n",
       "</style>\n",
       "<table border=\"1\" class=\"dataframe\">\n",
       "  <thead>\n",
       "    <tr style=\"text-align: right;\">\n",
       "      <th></th>\n",
       "      <th>Column1</th>\n",
       "      <th>Column2</th>\n",
       "    </tr>\n",
       "  </thead>\n",
       "  <tbody>\n",
       "    <tr>\n",
       "      <th>0</th>\n",
       "      <td>1</td>\n",
       "      <td>4</td>\n",
       "    </tr>\n",
       "    <tr>\n",
       "      <th>1</th>\n",
       "      <td>2</td>\n",
       "      <td>5</td>\n",
       "    </tr>\n",
       "    <tr>\n",
       "      <th>2</th>\n",
       "      <td>3</td>\n",
       "      <td>6</td>\n",
       "    </tr>\n",
       "  </tbody>\n",
       "</table>\n",
       "</div>"
      ],
      "text/plain": [
       "   Column1  Column2\n",
       "0        1        4\n",
       "1        2        5\n",
       "2        3        6"
      ]
     },
     "execution_count": 169,
     "metadata": {},
     "output_type": "execute_result"
    }
   ],
   "source": [
    "df4.columns=['Column1', 'Column2']\n",
    "print(\"DataFrame after renaming all columns:\")\n",
    "df4"
   ]
  },
  {
   "cell_type": "code",
   "execution_count": null,
   "id": "0c9bb211-5b74-4db1-8bd7-9700453df6a7",
   "metadata": {},
   "outputs": [],
   "source": [
    "# 3. Adding Columns\n"
   ]
  }
 ],
 "metadata": {
  "kernelspec": {
   "display_name": "Python [conda env:base] *",
   "language": "python",
   "name": "conda-base-py"
  },
  "language_info": {
   "codemirror_mode": {
    "name": "ipython",
    "version": 3
   },
   "file_extension": ".py",
   "mimetype": "text/x-python",
   "name": "python",
   "nbconvert_exporter": "python",
   "pygments_lexer": "ipython3",
   "version": "3.12.7"
  }
 },
 "nbformat": 4,
 "nbformat_minor": 5
}
