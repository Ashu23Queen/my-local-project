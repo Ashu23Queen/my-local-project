{
 "cells": [
  {
   "cell_type": "markdown",
   "id": "e9f237ad-6190-4125-8fc9-96af4e69888f",
   "metadata": {},
   "source": [
    "### Selecting Data "
   ]
  },
  {
   "cell_type": "code",
   "execution_count": 2,
   "id": "384d516a-189c-48fc-b918-981d327bb157",
   "metadata": {},
   "outputs": [],
   "source": [
    "import pandas as pd"
   ]
  },
  {
   "cell_type": "code",
   "execution_count": 6,
   "id": "783fd9e2-f754-4a0e-b5a4-e1233234237c",
   "metadata": {},
   "outputs": [
    {
     "name": "stdout",
     "output_type": "stream",
     "text": [
      "Original DataFrame:\n",
      "   student_id   name  age\n",
      "0          98   Ashu   10\n",
      "1         101   Will    9\n",
      "2         138  Rahul    7\n",
      "3           5  Henny   12\n",
      "\n",
      "******************************\n",
      "\n"
     ]
    }
   ],
   "source": [
    "data = {\n",
    "    'student_id': [98, 101, 138, 5],\n",
    "    'name': ['Ashu', 'Will', 'Rahul', 'Henny'],\n",
    "    'age': [10, 9, 7, 12]\n",
    "}\n",
    "df = pd.DataFrame(data)\n",
    "\n",
    "print(\"Original DataFrame:\")\n",
    "print(df)\n",
    "print(\"\\n\" + \"*\"*30 + \"\\n\")"
   ]
  },
  {
   "cell_type": "code",
   "execution_count": 8,
   "id": "34fdc326-d1e9-40ea-9eae-704db7cca5f5",
   "metadata": {},
   "outputs": [
    {
     "data": {
      "text/html": [
       "<div>\n",
       "<style scoped>\n",
       "    .dataframe tbody tr th:only-of-type {\n",
       "        vertical-align: middle;\n",
       "    }\n",
       "\n",
       "    .dataframe tbody tr th {\n",
       "        vertical-align: top;\n",
       "    }\n",
       "\n",
       "    .dataframe thead th {\n",
       "        text-align: right;\n",
       "    }\n",
       "</style>\n",
       "<table border=\"1\" class=\"dataframe\">\n",
       "  <thead>\n",
       "    <tr style=\"text-align: right;\">\n",
       "      <th></th>\n",
       "      <th>student_id</th>\n",
       "      <th>name</th>\n",
       "      <th>age</th>\n",
       "    </tr>\n",
       "  </thead>\n",
       "  <tbody>\n",
       "    <tr>\n",
       "      <th>0</th>\n",
       "      <td>98</td>\n",
       "      <td>Ashu</td>\n",
       "      <td>10</td>\n",
       "    </tr>\n",
       "    <tr>\n",
       "      <th>1</th>\n",
       "      <td>101</td>\n",
       "      <td>Will</td>\n",
       "      <td>9</td>\n",
       "    </tr>\n",
       "    <tr>\n",
       "      <th>2</th>\n",
       "      <td>138</td>\n",
       "      <td>Rahul</td>\n",
       "      <td>7</td>\n",
       "    </tr>\n",
       "    <tr>\n",
       "      <th>3</th>\n",
       "      <td>5</td>\n",
       "      <td>Henny</td>\n",
       "      <td>12</td>\n",
       "    </tr>\n",
       "  </tbody>\n",
       "</table>\n",
       "</div>"
      ],
      "text/plain": [
       "   student_id   name  age\n",
       "0          98   Ashu   10\n",
       "1         101   Will    9\n",
       "2         138  Rahul    7\n",
       "3           5  Henny   12"
      ]
     },
     "execution_count": 8,
     "metadata": {},
     "output_type": "execute_result"
    }
   ],
   "source": [
    "df"
   ]
  },
  {
   "cell_type": "markdown",
   "id": "84d13ee6-a542-4010-8f5a-73dfb7a40b84",
   "metadata": {},
   "source": [
    "##### 1. Selecting a Single Column"
   ]
  },
  {
   "cell_type": "code",
   "execution_count": 14,
   "id": "022c7807-c3e4-47b3-866b-d881caf73b20",
   "metadata": {},
   "outputs": [
    {
     "name": "stdout",
     "output_type": "stream",
     "text": [
      "Selecting the 'name' column:\n",
      "0     Ashu\n",
      "1     Will\n",
      "2    Rahul\n",
      "3    Henny\n",
      "Name: name, dtype: object\n"
     ]
    }
   ],
   "source": [
    "df_names = df['name']\n",
    "print(\"Selecting the 'name' column:\")\n",
    "print(df_names)"
   ]
  },
  {
   "cell_type": "code",
   "execution_count": 18,
   "id": "41812034-4942-45bc-9a74-7b0c5025ef58",
   "metadata": {},
   "outputs": [
    {
     "name": "stdout",
     "output_type": "stream",
     "text": [
      "\n",
      "Type of 'names': <class 'pandas.core.series.Series'>\n",
      "\n",
      "==============================\n",
      "\n"
     ]
    }
   ],
   "source": [
    "print(\"\\nType of 'names':\", type(df_names))\n",
    "print(\"\\n\" + \"=\"*30 + \"\\n\")"
   ]
  },
  {
   "cell_type": "code",
   "execution_count": 20,
   "id": "66c48dc2-4075-4953-bda3-1b2174abccfa",
   "metadata": {},
   "outputs": [
    {
     "name": "stdout",
     "output_type": "stream",
     "text": [
      "Selecting the 'age' column using dot notation:\n",
      "0    10\n",
      "1     9\n",
      "2     7\n",
      "3    12\n",
      "Name: age, dtype: int64\n",
      "\n",
      "==============================\n",
      "\n"
     ]
    }
   ],
   "source": [
    "# Using dot notation (works if column name is a valid Python identifier and not conflicting with DataFrame methods)\n",
    "df_ages = df.age\n",
    "print(\"Selecting the 'age' column using dot notation:\")\n",
    "print(df_ages)\n",
    "print(\"\\n\" + \"=\"*30 + \"\\n\")"
   ]
  },
  {
   "cell_type": "markdown",
   "id": "8aa1ad58-0139-47d8-945e-09d5c40df29c",
   "metadata": {},
   "source": [
    "##### 2. Selecting Multiple Columns"
   ]
  },
  {
   "cell_type": "code",
   "execution_count": 25,
   "id": "64de53e8-1ec3-41cc-97d0-5fb57034466b",
   "metadata": {},
   "outputs": [
    {
     "name": "stdout",
     "output_type": "stream",
     "text": [
      "Selecting the 'name' column:\n",
      "    name  age\n",
      "0   Ashu   10\n",
      "1   Will    9\n",
      "2  Rahul    7\n",
      "3  Henny   12\n"
     ]
    }
   ],
   "source": [
    "df_names_multiple = df[['name', 'age']]\n",
    "print(\"Selecting the 'name' column:\")\n",
    "print(df_names_multiple)"
   ]
  },
  {
   "cell_type": "code",
   "execution_count": 27,
   "id": "0fe484aa-dfe9-4c0f-850d-d68b0e05874d",
   "metadata": {},
   "outputs": [
    {
     "name": "stdout",
     "output_type": "stream",
     "text": [
      "\n",
      "Type of 'df_names_multiple': <class 'pandas.core.frame.DataFrame'>\n",
      "\n",
      "==============================\n",
      "\n"
     ]
    }
   ],
   "source": [
    "print(\"\\nType of 'df_names_multiple':\", type(df_names_multiple))\n",
    "print(\"\\n\" + \"=\"*30 + \"\\n\")"
   ]
  },
  {
   "cell_type": "markdown",
   "id": "092bef9d-4554-4701-a5e1-3b806b10e5f4",
   "metadata": {},
   "source": [
    "##### 3. Selecting Rows by Index (Labels or Positions)"
   ]
  },
  {
   "cell_type": "code",
   "execution_count": 32,
   "id": "c5f0063f-c15c-4039-855b-6f1e7a776fb7",
   "metadata": {},
   "outputs": [],
   "source": [
    "# Pandas provides two primary indexers for selecting rows: .loc and .iloc. "
   ]
  },
  {
   "cell_type": "code",
   "execution_count": 44,
   "id": "0cda1e6f-31db-4e9b-bae6-46e92fa59e35",
   "metadata": {},
   "outputs": [
    {
     "name": "stdout",
     "output_type": "stream",
     "text": [
      "Selecting row with label 1 using .loc:\n",
      "student_id     101\n",
      "name          Will\n",
      "age              9\n",
      "Name: 1, dtype: object\n",
      "\n",
      "==============================\n",
      "\n"
     ]
    }
   ],
   "source": [
    "# 1. Using .loc (by label/index)  selecting single rows\n",
    "row_1_loc_single = df.loc[1]\n",
    "print(\"Selecting row with label 1 using .loc:\")\n",
    "print(row_1_loc_single)\n",
    "print(\"\\n\" + \"=\"*30 + \"\\n\")"
   ]
  },
  {
   "cell_type": "code",
   "execution_count": 48,
   "id": "fea0da41-548a-4e39-9d6c-87cd99fb7ece",
   "metadata": {},
   "outputs": [
    {
     "name": "stdout",
     "output_type": "stream",
     "text": [
      "Selecting row at position 1 (second row) using .iloc:\n",
      "student_id     101\n",
      "name          Will\n",
      "age              9\n",
      "Name: 1, dtype: object\n",
      "\n",
      "==============================\n",
      "\n"
     ]
    }
   ],
   "source": [
    "# 2. Using .iloc (by integer position)\n",
    "# Selecting a single row by its integer position  \n",
    "row_1_iloc_int = df.iloc[1]\n",
    "print(\"Selecting row at position 1 (second row) using .iloc:\")\n",
    "print(row_1_iloc_int)\n",
    "print(\"\\n\" + \"=\"*30 + \"\\n\")"
   ]
  },
  {
   "cell_type": "code",
   "execution_count": null,
   "id": "bbef16f5-5e80-479e-a4ad-ad4a7f0cac36",
   "metadata": {},
   "outputs": [],
   "source": []
  }
 ],
 "metadata": {
  "kernelspec": {
   "display_name": "Python [conda env:base] *",
   "language": "python",
   "name": "conda-base-py"
  },
  "language_info": {
   "codemirror_mode": {
    "name": "ipython",
    "version": 3
   },
   "file_extension": ".py",
   "mimetype": "text/x-python",
   "name": "python",
   "nbconvert_exporter": "python",
   "pygments_lexer": "ipython3",
   "version": "3.12.7"
  }
 },
 "nbformat": 4,
 "nbformat_minor": 5
}
