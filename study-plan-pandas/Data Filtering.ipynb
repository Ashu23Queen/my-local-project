{
 "cells": [
  {
   "cell_type": "markdown",
   "id": "d351965d-ca80-4a51-bf11-ab527174c649",
   "metadata": {},
   "source": [
    "####  Data Filtering"
   ]
  },
  {
   "cell_type": "code",
   "execution_count": 3,
   "id": "f885d421-7b96-41bc-9cfd-815401955fba",
   "metadata": {},
   "outputs": [],
   "source": [
    "import pandas as pd"
   ]
  },
  {
   "cell_type": "code",
   "execution_count": 5,
   "id": "17f6143e-d3f3-4ba1-b190-4af115480ef2",
   "metadata": {},
   "outputs": [],
   "source": [
    "# Create the DataFrame \n",
    "data = {\n",
    "    'name': ['Afghanistan', 'Albania', 'Algeria', 'Andorra', 'Angola'],\n",
    "    'continent': ['Asia', 'Europe', 'Africa', 'Europe', 'Africa'],\n",
    "    'area': [652230, 28748, 2381741, 468, 1246700],\n",
    "    'population': [25500100, 2831741, 37100000, 78115, 20609294],\n",
    "    'gdp': [20343000000, 12960000000, 188681000000, 3712000000, 100990000000]\n",
    "}\n",
    "world_df = pd.DataFrame(data)"
   ]
  },
  {
   "cell_type": "code",
   "execution_count": 7,
   "id": "a952f683-b61f-459e-ad66-9c602e9cb078",
   "metadata": {},
   "outputs": [
    {
     "data": {
      "text/html": [
       "<div>\n",
       "<style scoped>\n",
       "    .dataframe tbody tr th:only-of-type {\n",
       "        vertical-align: middle;\n",
       "    }\n",
       "\n",
       "    .dataframe tbody tr th {\n",
       "        vertical-align: top;\n",
       "    }\n",
       "\n",
       "    .dataframe thead th {\n",
       "        text-align: right;\n",
       "    }\n",
       "</style>\n",
       "<table border=\"1\" class=\"dataframe\">\n",
       "  <thead>\n",
       "    <tr style=\"text-align: right;\">\n",
       "      <th></th>\n",
       "      <th>name</th>\n",
       "      <th>continent</th>\n",
       "      <th>area</th>\n",
       "      <th>population</th>\n",
       "      <th>gdp</th>\n",
       "    </tr>\n",
       "  </thead>\n",
       "  <tbody>\n",
       "    <tr>\n",
       "      <th>0</th>\n",
       "      <td>Afghanistan</td>\n",
       "      <td>Asia</td>\n",
       "      <td>652230</td>\n",
       "      <td>25500100</td>\n",
       "      <td>20343000000</td>\n",
       "    </tr>\n",
       "    <tr>\n",
       "      <th>1</th>\n",
       "      <td>Albania</td>\n",
       "      <td>Europe</td>\n",
       "      <td>28748</td>\n",
       "      <td>2831741</td>\n",
       "      <td>12960000000</td>\n",
       "    </tr>\n",
       "    <tr>\n",
       "      <th>2</th>\n",
       "      <td>Algeria</td>\n",
       "      <td>Africa</td>\n",
       "      <td>2381741</td>\n",
       "      <td>37100000</td>\n",
       "      <td>188681000000</td>\n",
       "    </tr>\n",
       "    <tr>\n",
       "      <th>3</th>\n",
       "      <td>Andorra</td>\n",
       "      <td>Europe</td>\n",
       "      <td>468</td>\n",
       "      <td>78115</td>\n",
       "      <td>3712000000</td>\n",
       "    </tr>\n",
       "    <tr>\n",
       "      <th>4</th>\n",
       "      <td>Angola</td>\n",
       "      <td>Africa</td>\n",
       "      <td>1246700</td>\n",
       "      <td>20609294</td>\n",
       "      <td>100990000000</td>\n",
       "    </tr>\n",
       "  </tbody>\n",
       "</table>\n",
       "</div>"
      ],
      "text/plain": [
       "          name continent     area  population           gdp\n",
       "0  Afghanistan      Asia   652230    25500100   20343000000\n",
       "1      Albania    Europe    28748     2831741   12960000000\n",
       "2      Algeria    Africa  2381741    37100000  188681000000\n",
       "3      Andorra    Europe      468       78115    3712000000\n",
       "4       Angola    Africa  1246700    20609294  100990000000"
      ]
     },
     "execution_count": 7,
     "metadata": {},
     "output_type": "execute_result"
    }
   ],
   "source": [
    "world_df"
   ]
  },
  {
   "cell_type": "code",
   "execution_count": 9,
   "id": "e94343e6-9b79-4ca9-af76-e0dbd072ab17",
   "metadata": {},
   "outputs": [],
   "source": [
    "# Condition 1: area of at least 3,000,000 km^2\n",
    "condition_area = world_df['area'] >= 3000000\n",
    "# Condition 2: population of at least 25,000,000\n",
    "condition_population = world_df['population'] >= 25000000\n",
    "\n",
    "# Combine the conditions using OR operator\n",
    "big_countries_df = world_df[condition_area | condition_population]"
   ]
  },
  {
   "cell_type": "code",
   "execution_count": 11,
   "id": "c6f642f7-36f6-4709-9f61-c8dca5e8acdb",
   "metadata": {},
   "outputs": [
    {
     "data": {
      "text/html": [
       "<div>\n",
       "<style scoped>\n",
       "    .dataframe tbody tr th:only-of-type {\n",
       "        vertical-align: middle;\n",
       "    }\n",
       "\n",
       "    .dataframe tbody tr th {\n",
       "        vertical-align: top;\n",
       "    }\n",
       "\n",
       "    .dataframe thead th {\n",
       "        text-align: right;\n",
       "    }\n",
       "</style>\n",
       "<table border=\"1\" class=\"dataframe\">\n",
       "  <thead>\n",
       "    <tr style=\"text-align: right;\">\n",
       "      <th></th>\n",
       "      <th>name</th>\n",
       "      <th>continent</th>\n",
       "      <th>area</th>\n",
       "      <th>population</th>\n",
       "      <th>gdp</th>\n",
       "    </tr>\n",
       "  </thead>\n",
       "  <tbody>\n",
       "    <tr>\n",
       "      <th>0</th>\n",
       "      <td>Afghanistan</td>\n",
       "      <td>Asia</td>\n",
       "      <td>652230</td>\n",
       "      <td>25500100</td>\n",
       "      <td>20343000000</td>\n",
       "    </tr>\n",
       "    <tr>\n",
       "      <th>2</th>\n",
       "      <td>Algeria</td>\n",
       "      <td>Africa</td>\n",
       "      <td>2381741</td>\n",
       "      <td>37100000</td>\n",
       "      <td>188681000000</td>\n",
       "    </tr>\n",
       "  </tbody>\n",
       "</table>\n",
       "</div>"
      ],
      "text/plain": [
       "          name continent     area  population           gdp\n",
       "0  Afghanistan      Asia   652230    25500100   20343000000\n",
       "2      Algeria    Africa  2381741    37100000  188681000000"
      ]
     },
     "execution_count": 11,
     "metadata": {},
     "output_type": "execute_result"
    }
   ],
   "source": [
    "big_countries_df"
   ]
  },
  {
   "cell_type": "code",
   "execution_count": 13,
   "id": "75ca3148-7989-4c6f-861e-e51463cacd4a",
   "metadata": {},
   "outputs": [],
   "source": [
    "# Select the required columns: name, population, and area\n",
    "result = big_countries_df[['name', 'population', 'area']]"
   ]
  },
  {
   "cell_type": "code",
   "execution_count": 19,
   "id": "d28ef695-a0af-4c59-a9af-4c30f346c973",
   "metadata": {},
   "outputs": [
    {
     "name": "stdout",
     "output_type": "stream",
     "text": [
      "Big Countries:\n",
      "          name  population     area\n",
      "0  Afghanistan    25500100   652230\n",
      "2      Algeria    37100000  2381741\n"
     ]
    }
   ],
   "source": [
    "# Print the result\n",
    "print(\"Big Countries:\")\n",
    "print(result) "
   ]
  },
  {
   "cell_type": "code",
   "execution_count": 21,
   "id": "77efaefb-fd08-4245-99bb-688efe4d193f",
   "metadata": {},
   "outputs": [
    {
     "name": "stdout",
     "output_type": "stream",
     "text": [
      "\n",
      "--- Additional Queries ---\n"
     ]
    }
   ],
   "source": [
    "print(\"\\n--- Additional Queries ---\")"
   ]
  },
  {
   "cell_type": "code",
   "execution_count": 28,
   "id": "12caae7e-85f7-4ef7-8ad2-2f446926e304",
   "metadata": {},
   "outputs": [
    {
     "name": "stdout",
     "output_type": "stream",
     "text": [
      "\n",
      "Countries in Africa:\n",
      "      name  population     area\n",
      "2  Algeria    37100000  2381741\n",
      "4   Angola    20609294  1246700\n"
     ]
    }
   ],
   "source": [
    "# Query 1: Find countries in Africa\n",
    "africa_countries = world_df[world_df['continent'] == 'Africa']  \n",
    "\n",
    "# world_df['continent'] == 'Africa' creates a boolean Series (a column of True or False values). \n",
    "# For each row in world_df, it checks if the value in the 'continent' column is exactly 'Africa'. \n",
    "# If it is, the result for that row is True; otherwise, it's False.\n",
    " \n",
    "# When you use this boolean Series inside the square brackets [] of a DataFrame (world_df[...]), pandas uses it as a filter. \n",
    "# It selects only those rows where the corresponding boolean value is True.\n",
    " \n",
    "print(\"\\nCountries in Africa:\")\n",
    "print(africa_countries[['name', 'population', 'area']])"
   ]
  },
  {
   "cell_type": "code",
   "execution_count": 36,
   "id": "22b6b452-4cd8-48e9-8472-d89888e2c682",
   "metadata": {},
   "outputs": [
    {
     "name": "stdout",
     "output_type": "stream",
     "text": [
      "\n",
      "Average Population: 17,223,850\n",
      "Average Area: 861,977 km^2\n"
     ]
    }
   ],
   "source": [
    "# Query 2: Calculate the average population and area\n",
    "average_population = world_df['population'].mean()\n",
    "average_area = world_df['area'].mean()\n",
    "print(f\"\\nAverage Population: {average_population:,.0f}\")   \n",
    "\n",
    "# {average_population:,.0f}: This is an f-string expression that embeds the value of the average_population variable into the string.\n",
    "\n",
    "print(f\"Average Area: {average_area:,.0f} km^2\")"
   ]
  },
  {
   "cell_type": "code",
   "execution_count": 38,
   "id": "0e8d3884-e15e-4c60-84f4-9b2800c5a55a",
   "metadata": {},
   "outputs": [
    {
     "name": "stdout",
     "output_type": "stream",
     "text": [
      "\n",
      "Countries with GDP > 50 Billion:\n",
      "      name           gdp\n",
      "2  Algeria  188681000000\n",
      "4   Angola  100990000000\n"
     ]
    }
   ],
   "source": [
    "# Query 3: Find countries with GDP greater than 50,000,000,000\n",
    "rich_countries = world_df[world_df['gdp'] > 50000000000]\n",
    "print(\"\\nCountries with GDP > 50 Billion:\")\n",
    "print(rich_countries[['name', 'gdp']])"
   ]
  },
  {
   "cell_type": "code",
   "execution_count": 13,
   "id": "5496c9d6-6e0d-4d9e-a42b-e70361f4fa74",
   "metadata": {},
   "outputs": [
    {
     "name": "stdout",
     "output_type": "stream",
     "text": [
      "\n",
      "Countries sorted by Population (Descending):\n",
      "          name  population\n",
      "2      Algeria    37100000\n",
      "0  Afghanistan    25500100\n",
      "4       Angola    20609294\n",
      "1      Albania     2831741\n",
      "3      Andorra       78115\n"
     ]
    }
   ],
   "source": [
    "# Query 4: Sort countries by population in descending order\n",
    "sorted_by_population = world_df.sort_values(by='population', ascending=False)\n",
    "\n",
    "# world_df.sort_values(): This is a pandas DataFrame method used to sort the DataFrame by one or more columns.\n",
    "# by='population': This argument specifies that the sorting should be performed based on the values in the 'population' column.\n",
    "\n",
    "print(\"\\nCountries sorted by Population (Descending):\")\n",
    "print(sorted_by_population[['name', 'population']])"
   ]
  },
  {
   "cell_type": "code",
   "execution_count": 17,
   "id": "016eb769-2d80-4ff4-b9ce-b9c2e09b7c2e",
   "metadata": {},
   "outputs": [
    {
     "name": "stdout",
     "output_type": "stream",
     "text": [
      "\n",
      "Country with the Largest Area:\n",
      "name    Algeria\n",
      "area    2381741\n",
      "Name: 2, dtype: object\n"
     ]
    }
   ],
   "source": [
    "# Query 5: Find the country with the largest area\n",
    "largest_area_country = world_df.loc[world_df['area'].idxmax()]\n",
    "\n",
    "# .idxmax(): This is a pandas Series method. When called on a Series (like world_df['area']), \n",
    "# it returns the index of the maximum value in that Series. So, it tells you the row label (index) where the largest area is located.\n",
    "# world_df.loc[...]: This is pandas' label-based indexer. It's used to access a group of rows and columns by label(s) or a boolean array.\n",
    "\n",
    "print(\"\\nCountry with the Largest Area:\")\n",
    "print(largest_area_country[['name', 'area']])"
   ]
  },
  {
   "cell_type": "code",
   "execution_count": null,
   "id": "5217297e-96d0-4959-a963-141d830cd183",
   "metadata": {},
   "outputs": [],
   "source": []
  },
  {
   "cell_type": "code",
   "execution_count": null,
   "id": "1944c4f7-f5fc-4497-98ac-4dc93742abcb",
   "metadata": {},
   "outputs": [],
   "source": []
  },
  {
   "cell_type": "markdown",
   "id": "273b64cf-e85f-4da0-9fcf-cb399a4182d4",
   "metadata": {},
   "source": [
    "------------------------------"
   ]
  },
  {
   "cell_type": "markdown",
   "id": "bd657412-82e4-4c76-8a3d-75046651abe7",
   "metadata": {},
   "source": [
    "##### Second table"
   ]
  },
  {
   "cell_type": "code",
   "execution_count": 5,
   "id": "0eaef49f-e34f-4041-aede-6acda33c3957",
   "metadata": {},
   "outputs": [],
   "source": [
    "customers_data = {\n",
    "    'id': [1, 2, 3, 4],\n",
    "    'name': ['Ashu', 'Hema', 'Sameer', 'Manish']\n",
    "}\n",
    "customers_df = pd.DataFrame(customers_data)\n",
    "\n",
    "orders_data = {\n",
    "    'id': [1, 2],\n",
    "    'customerId': [3, 1]\n",
    "}\n",
    "orders_df = pd.DataFrame(orders_data)"
   ]
  },
  {
   "cell_type": "code",
   "execution_count": 7,
   "id": "c26c521c-c3f6-4b74-a5f1-0469b576e505",
   "metadata": {},
   "outputs": [
    {
     "name": "stdout",
     "output_type": "stream",
     "text": [
      "Customers DataFrame:\n",
      "   id    name\n",
      "0   1    Ashu\n",
      "1   2    Hema\n",
      "2   3  Sameer\n",
      "3   4  Manish\n",
      "\n",
      "Orders DataFrame:\n",
      "   id  customerId\n",
      "0   1           3\n",
      "1   2           1\n"
     ]
    }
   ],
   "source": [
    "\n",
    "print(\"Customers DataFrame:\")\n",
    "print(customers_df)\n",
    "print(\"\\nOrders DataFrame:\")\n",
    "print(orders_df)"
   ]
  },
  {
   "cell_type": "markdown",
   "id": "c615f457-d999-4efd-95b4-1ce782702824",
   "metadata": {},
   "source": [
    "##### --- Common Queries ---"
   ]
  },
  {
   "cell_type": "code",
   "execution_count": 31,
   "id": "ec584cf2-895e-43d4-ac48-8ccbd8d96b12",
   "metadata": {},
   "outputs": [
    {
     "name": "stdout",
     "output_type": "stream",
     "text": [
      "\n",
      "1. All Customers:\n",
      "\n",
      "   id    name\n",
      "0   1    Ashu\n",
      "1   2    Hema\n",
      "2   3  Sameer\n",
      "3   4  Manish\n"
     ]
    }
   ],
   "source": [
    "# 1. Get all customers: \n",
    "\n",
    "print(\"\\n1. All Customers:\\n\")\n",
    "print(customers_df)"
   ]
  },
  {
   "cell_type": "code",
   "execution_count": 33,
   "id": "359fb9fb-cae4-4aa7-acad-f951920ca58a",
   "metadata": {},
   "outputs": [
    {
     "name": "stdout",
     "output_type": "stream",
     "text": [
      "\n",
      "2. All Orders:\n",
      "\n",
      "   id  customerId\n",
      "0   1           3\n",
      "1   2           1\n"
     ]
    }
   ],
   "source": [
    "# 2. Get all orders:\n",
    "print(\"\\n2. All Orders:\\n\")\n",
    "print(orders_df)  "
   ]
  },
  {
   "cell_type": "code",
   "execution_count": 35,
   "id": "8cfac950-73b1-4a45-88ac-fe16acf5980c",
   "metadata": {},
   "outputs": [
    {
     "name": "stdout",
     "output_type": "stream",
     "text": [
      "\n",
      "3. Customers who have placed an order (INNER JOIN):\n",
      "\n",
      "   id_x    name  id_y  customerId\n",
      "0     1    Ashu     2           1\n",
      "1     3  Sameer     1           3\n"
     ]
    }
   ],
   "source": [
    "# 3. Get customers who have placed an order (INNER JOIN):\n",
    "\n",
    "print(\"\\n3. Customers who have placed an order (INNER JOIN):\\n\")\n",
    "customers_with_orders = pd.merge(customers_df, orders_df, left_on='id', right_on='customerId', how='inner')\n",
    "print(customers_with_orders)"
   ]
  },
  {
   "cell_type": "code",
   "execution_count": 37,
   "id": "c2ad1efb-32c9-4528-b9d7-87e00c2a7916",
   "metadata": {},
   "outputs": [
    {
     "name": "stdout",
     "output_type": "stream",
     "text": [
      "\n",
      "4. Customers and their order details (LEFT JOIN):\n",
      "   id_x    name  id_y  customerId\n",
      "0     1    Ashu     2           1\n",
      "1     3  Sameer     1           3\n"
     ]
    }
   ],
   "source": [
    "# 4. Get customers and their order details (LEFT JOIN - all customers, matching orders)\n",
    "print(\"\\n4. Customers and their order details (LEFT JOIN):\")\n",
    "customers_left_join_orders = pd.merge(customers_df, orders_df, left_on='id', right_on='customerId', how='inner')\n",
    "print(customers_left_join_orders)"
   ]
  },
  {
   "cell_type": "code",
   "execution_count": null,
   "id": "5e01f44a-309e-4eeb-992c-79134e068de9",
   "metadata": {},
   "outputs": [],
   "source": []
  }
 ],
 "metadata": {
  "kernelspec": {
   "display_name": "Python [conda env:base] *",
   "language": "python",
   "name": "conda-base-py"
  },
  "language_info": {
   "codemirror_mode": {
    "name": "ipython",
    "version": 3
   },
   "file_extension": ".py",
   "mimetype": "text/x-python",
   "name": "python",
   "nbconvert_exporter": "python",
   "pygments_lexer": "ipython3",
   "version": "3.12.7"
  }
 },
 "nbformat": 4,
 "nbformat_minor": 5
}
